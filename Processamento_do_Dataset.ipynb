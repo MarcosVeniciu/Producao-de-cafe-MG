{
  "nbformat": 4,
  "nbformat_minor": 0,
  "metadata": {
    "colab": {
      "provenance": [],
      "collapsed_sections": [
        "zXZ4WPGRw_zi",
        "uCjAFeS-vLLT",
        "2pPFONR05Aa2",
        "kXvpkxnoMCyw",
        "RoHUpTkWFXWP",
        "jkJU_dD7FXWQ",
        "ckZWps2zA6JW"
      ],
      "authorship_tag": "ABX9TyNlXdFktmZh5fKPAYGilLIM",
      "include_colab_link": true
    },
    "kernelspec": {
      "name": "python3",
      "display_name": "Python 3"
    },
    "language_info": {
      "name": "python"
    }
  },
  "cells": [
    {
      "cell_type": "markdown",
      "metadata": {
        "id": "view-in-github",
        "colab_type": "text"
      },
      "source": [
        "<a href=\"https://colab.research.google.com/github/MarcosVeniciu/Producao-de-cafe-MG/blob/main/Processamento_do_Dataset.ipynb\" target=\"_parent\"><img src=\"https://colab.research.google.com/assets/colab-badge.svg\" alt=\"Open In Colab\"/></a>"
      ]
    },
    {
      "cell_type": "markdown",
      "source": [
        "#1. Carregar dataframes"
      ],
      "metadata": {
        "id": "zXZ4WPGRw_zi"
      }
    },
    {
      "cell_type": "code",
      "source": [
        "import pandas as pd\n",
        "import numpy as np"
      ],
      "metadata": {
        "id": "LPyyoqv_xM6U"
      },
      "execution_count": null,
      "outputs": []
    },
    {
      "cell_type": "code",
      "execution_count": null,
      "metadata": {
        "id": "mLjkmUUBdiLU"
      },
      "outputs": [],
      "source": [
        "indicadores_IBGE = pd.read_excel('/content/Indicadores IBGE por Municipio - 1995 a 2023.xlsx')\n",
        "indicadores_climaticos = pd.read_csv('/content/climate_por_municipio_1990_2024.csv')\n",
        "georeferenciamento = pd.read_excel('/content/municipios_georeferenciamento.xlsx')"
      ]
    },
    {
      "cell_type": "code",
      "source": [
        "indicadores_IBGE.info()"
      ],
      "metadata": {
        "id": "TxrYzenqumUR"
      },
      "execution_count": null,
      "outputs": []
    },
    {
      "cell_type": "code",
      "source": [
        "indicadores_climaticos.info()"
      ],
      "metadata": {
        "id": "lvQu-WHzur_D"
      },
      "execution_count": null,
      "outputs": []
    },
    {
      "cell_type": "code",
      "source": [
        "georeferenciamento.info()"
      ],
      "metadata": {
        "id": "0ydQcdhoutce"
      },
      "execution_count": null,
      "outputs": []
    },
    {
      "cell_type": "markdown",
      "source": [
        "# Dataset V5 - Produção (1995-2023) - Serie temporal\n"
      ],
      "metadata": {
        "id": "uCjAFeS-vLLT"
      }
    },
    {
      "cell_type": "markdown",
      "source": [
        "**Features**\n",
        "- Ano\n",
        "- latitude\n",
        "- longitude\n",
        "- altitude\n",
        "- Área Colhida (mil hectares) (área plantada)\n",
        "- ~~Valor da produção (Mil Reais)~~\n",
        "- precipitacao (mm)\n",
        "- temperatura minima (ºC)\n",
        "- temperatura maxima (ºC)\n",
        "- Mesorregião\n",
        "\n",
        "Estimando **produção em Toneladas**."
      ],
      "metadata": {
        "id": "3gvsnUwlvLLT"
      }
    },
    {
      "cell_type": "markdown",
      "source": [
        "## 2. Merge das bases espacial (meso_id) e temporal (Ano)"
      ],
      "metadata": {
        "id": "kdM8D5-zvLLU"
      }
    },
    {
      "cell_type": "code",
      "source": [
        "# Calculando a média anual por municipio\n",
        "clima_anual = indicadores_climaticos.groupby(\n",
        "    ['municipio_id', 'Ano'],\n",
        "    as_index=False\n",
        ").agg({\n",
        "    'Mesorregião_id': 'first',      # Mantém o ID da mesorregião associada ao município\n",
        "    'municipio_nome': 'first',      # Mantém o nome do município (assume que é único por município_id)\n",
        "    'prec_mm': 'mean',              # Média anual da precipitação\n",
        "    'tmax_°C': 'mean',              # Média anual da temperatura máxima\n",
        "    'tmin_°C': 'mean'               # Média anual da temperatura mínima\n",
        "})\n",
        "\n",
        "clima_anual.rename(columns={\n",
        "  'municipio_id': 'Municipio_id',\n",
        "  'prec_mm': 'precipitacao (mm)',\n",
        "  'municipio_nome': 'Municipio',\n",
        "  'tmax_°C': 'temperatura maxima (ºC)',\n",
        "  'tmin_°C': 'temperatura minima (ºC)'\n",
        "}, inplace=True)\n",
        "\n",
        "clima_anual.head(5)"
      ],
      "metadata": {
        "id": "DZB4HLGPvLLU"
      },
      "execution_count": null,
      "outputs": []
    },
    {
      "cell_type": "code",
      "source": [
        "# Lista de Produtos: 'Café (em grão) Total', 'Café (em grão) Arábica', 'Café (em grão) Canephora'\n",
        "indicadores_IBGE_filtrado = indicadores_IBGE[indicadores_IBGE['Produto']==\"Café (em grão) Total\"].copy()\n",
        "indicadores_IBGE_filtrado.drop(columns=['Produto'], inplace=True)\n",
        "\n",
        "# Renomear as colunas do dataframe georeferenciamento\n",
        "georeferenciamento_renomeado = georeferenciamento.rename(columns={\n",
        "    'municipio_id': 'Municipio_id',\n",
        "    'lat': 'latitude',\n",
        "    'lon': 'longitude',\n",
        "    'alt': 'altitude'\n",
        "})\n",
        "\n",
        "# Selecionar as colunas desejadas de cada dataframe\n",
        "colunas_clima = ['Municipio_id', 'Ano', 'precipitacao (mm)', 'temperatura maxima (ºC)', 'temperatura minima (ºC)']\n",
        "colunas_ibge = [\n",
        "    'Mesorregião_id', 'Mesorregião', 'Municipio_id', 'Municipio', 'Ano',\n",
        "    'Área destinada à colheita (Hectares)', 'Área colhida (Hectares)',\n",
        "    'Quantidade produzida (Toneladas)', 'Rendimento médio da produção (Quilogramas por Hectare)',\n",
        "    'Valor da produção (Mil Reais)'\n",
        "]\n",
        "colunas_geo = ['Municipio_id', 'latitude', 'longitude', 'altitude']\n",
        "\n",
        "# Filtrar os dataframes pelas colunas desejadas\n",
        "clima_filtrado = clima_anual[colunas_clima]\n",
        "ibge_filtrado = indicadores_IBGE_filtrado[colunas_ibge]\n",
        "geo_filtrado = georeferenciamento_renomeado[colunas_geo]"
      ],
      "metadata": {
        "id": "K3NiAZhZvLLU"
      },
      "execution_count": null,
      "outputs": []
    },
    {
      "cell_type": "code",
      "source": [
        "# Mesclar clima_filtrado e ibge_filtrado usando Municipio_id e Ano como chaves\n",
        "df_mesclado = pd.merge(clima_filtrado, ibge_filtrado, on=['Municipio_id', 'Ano'], how='inner')\n",
        "\n",
        "# Mesclar o resultado com geo_filtrado usando Municipio_id como chave\n",
        "df_merge = pd.merge(df_mesclado, geo_filtrado, on='Municipio_id', how='inner')\n",
        "\n",
        "df_merge.head(1)"
      ],
      "metadata": {
        "id": "maBhV7OVvLLU"
      },
      "execution_count": null,
      "outputs": []
    },
    {
      "cell_type": "code",
      "source": [
        "# 1) Cria uma cópia para não alterar o original\n",
        "df_escalado = df_merge.copy()\n",
        "\n",
        "# Garante que as colunas numéricas estejam no tipo correto\n",
        "df_escalado['Área colhida (Hectares)'] = pd.to_numeric(df_escalado['Área colhida (Hectares)'], errors='coerce')\n",
        "df_escalado['Quantidade produzida (Toneladas)'] = pd.to_numeric(df_escalado['Quantidade produzida (Toneladas)'], errors='coerce')\n",
        "\n",
        "df_escalado.head(1)"
      ],
      "metadata": {
        "id": "5ugzXMGsvLLU"
      },
      "execution_count": null,
      "outputs": []
    },
    {
      "cell_type": "markdown",
      "source": [
        "## 3. Filtrar período de interesse (1995–2023)"
      ],
      "metadata": {
        "id": "bJxqMzhrvLLU"
      }
    },
    {
      "cell_type": "code",
      "source": [
        "df_periodo = df_escalado[(df_escalado['Ano'] >= 1995) & (df_escalado['Ano'] <= 2023)].copy()"
      ],
      "metadata": {
        "id": "kGC3g5C9vLLU"
      },
      "execution_count": null,
      "outputs": []
    },
    {
      "cell_type": "markdown",
      "source": [
        "## 4. Criar variável-alvo: produtividade em Toneldas por hectare"
      ],
      "metadata": {
        "id": "KSecWCUCvLLU"
      }
    },
    {
      "cell_type": "code",
      "source": [
        "df_target = df_periodo.copy()\n",
        "df_target['target'] = df_target['Quantidade produzida (Toneladas)']"
      ],
      "metadata": {
        "id": "p1NCD9V-vLLU"
      },
      "execution_count": null,
      "outputs": []
    },
    {
      "cell_type": "markdown",
      "source": [
        "## 5. Remoção de outliers usando critério de desvio‑padrão (±3σ)"
      ],
      "metadata": {
        "id": "UWKzWlDNvLLU"
      }
    },
    {
      "cell_type": "code",
      "source": [
        "df_target[[\"target\"]].describe()"
      ],
      "metadata": {
        "id": "sVCxzwJ5vLLU"
      },
      "execution_count": null,
      "outputs": []
    },
    {
      "cell_type": "code",
      "source": [
        "print(len(df_target))\n",
        "\n",
        "valor = 3\n",
        "y = df_target['target']\n",
        "mean_y, std_y = y.mean(), y.std()\n",
        "mask = (y >= mean_y - valor*std_y) & (y <= mean_y + valor*std_y)\n",
        "df_outliers = df_target.loc[mask].reset_index(drop=True)\n",
        "print(len(df_outliers))"
      ],
      "metadata": {
        "id": "GvQboJ3mvLLU"
      },
      "execution_count": null,
      "outputs": []
    },
    {
      "cell_type": "code",
      "source": [
        "df_outliers[[\"target\"]].describe()"
      ],
      "metadata": {
        "id": "QYphPeBevLLV"
      },
      "execution_count": null,
      "outputs": []
    },
    {
      "cell_type": "markdown",
      "source": [
        "## 6. Imputação de faltantes: aqui usamos mediana (poderia ser média ou KNN)"
      ],
      "metadata": {
        "id": "ePdlJRPvvLLV"
      }
    },
    {
      "cell_type": "code",
      "source": [
        "# Antes da imputação\n",
        "dados_faltantes_antes = df_outliers.isnull().sum()\n",
        "print(\"Dados faltantes antes da imputação:\\n\", dados_faltantes_antes)"
      ],
      "metadata": {
        "id": "MIdZnor-vLLV"
      },
      "execution_count": null,
      "outputs": []
    },
    {
      "cell_type": "code",
      "source": [
        "df_outliers.fillna(df_outliers.median(numeric_only=True), inplace=True)"
      ],
      "metadata": {
        "id": "PSXWQHHTvLLV"
      },
      "execution_count": null,
      "outputs": []
    },
    {
      "cell_type": "markdown",
      "source": [
        "## 7. Organizar serie temporal"
      ],
      "metadata": {
        "id": "lmd_Y5H_vLLV"
      }
    },
    {
      "cell_type": "code",
      "source": [
        "import pandas as pd\n",
        "\n",
        "def count_time_series_examples(df: pd.DataFrame,\n",
        "                               id_col: str = 'Municipio_id',\n",
        "                               year_col: str = 'Ano',\n",
        "                               min_context: int = 2,\n",
        "                               horizon: int = 1) -> pd.DataFrame:\n",
        "    \"\"\"\n",
        "    Para cada tamanho de janela de contexto a partir de `min_context`, computa quantos pares\n",
        "    (janela de contexto -> horizonte) são possíveis em cada série do DataFrame.\n",
        "\n",
        "    Passos:\n",
        "    1. Agrupa por `id_col` e ordena por `year_col`.\n",
        "    2. Identifica segmentos contíguos (sem saltos de anos).\n",
        "    3. Seleciona o maior segmento contíguo para cada série.\n",
        "    4. Para cada contexto c, soma todos os exemplos possíveis: max(0, L - c - horizon + 1).\n",
        "    5. Para contextos em que nenhum exemplo seja possível, para o cálculo.\n",
        "\n",
        "    Retorna um DataFrame com colunas:\n",
        "        context: tamanho da janela de contexto\n",
        "        examples: número total de pares treino->teste disponíveis\n",
        "    \"\"\"\n",
        "    # 1. Prepara o DataFrame\n",
        "    df_sorted = df[[id_col, year_col]].drop_duplicates().copy()\n",
        "    df_sorted = df_sorted.sort_values([id_col, year_col])\n",
        "\n",
        "    # 2. Identifica segmentos contíguos\n",
        "    # Calcula a diferença de anos dentro de cada grupo\n",
        "    df_sorted['year_diff'] = df_sorted.groupby(id_col)[year_col].diff().fillna(1)\n",
        "    # Marca início de segmento onde diff > 1\n",
        "    df_sorted['segment_id'] = (df_sorted['year_diff'] > 1).cumsum()\n",
        "\n",
        "    # 3. Computa tamanho de cada segmento e seleciona o maior por série\n",
        "    segments = (\n",
        "        df_sorted\n",
        "        .groupby([id_col, 'segment_id'])\n",
        "        .agg(start_year=(year_col, 'min'),\n",
        "             end_year=(year_col, 'max'),\n",
        "             length=(year_col, 'count'))\n",
        "        .reset_index()\n",
        "    )\n",
        "    # Seleciona o segmento de maior comprimento para cada série\n",
        "    max_segments = (\n",
        "        segments\n",
        "        .sort_values(['length'], ascending=False)\n",
        "        .drop_duplicates(id_col, keep='first')\n",
        "    )\n",
        "\n",
        "    # 4. Varredura de contextos\n",
        "    results = []\n",
        "    c = min_context\n",
        "    while True:\n",
        "        # Para cada segmento, se length >= c + horizon, gera (length - c - horizon + 1) exemplos\n",
        "        max_segments['examples'] = max_segments['length'].apply(\n",
        "            lambda L: max(0, L - c - horizon + 1)\n",
        "        )\n",
        "        total_examples = int(max_segments['examples'].sum())\n",
        "        if total_examples <= 0:\n",
        "            break\n",
        "        results.append({'context': c, 'examples': total_examples})\n",
        "        c += 1\n",
        "\n",
        "    return pd.DataFrame(results)\n",
        "\n",
        "count_time_series_examples(df_outliers)"
      ],
      "metadata": {
        "id": "jZ0ypAeDvLLV"
      },
      "execution_count": null,
      "outputs": []
    },
    {
      "cell_type": "code",
      "source": [
        "def filter_series_by_context(df: pd.DataFrame,\n",
        "                              context: int,\n",
        "                              id_col: str = 'Municipio_id',\n",
        "                              year_col: str = 'Ano',\n",
        "                              horizon: int = 1) -> pd.DataFrame:\n",
        "    \"\"\"\n",
        "    Filtra o DataFrame mantendo apenas as séries cujo maior segmento contíguo\n",
        "    gera pelo menos 2 pares treino->teste para o dado tamanho de contexto.\n",
        "\n",
        "    Parâmetros:\n",
        "    - df: DataFrame completo com colunas de identificação e ano.\n",
        "    - context: tamanho da janela de contexto (número de anos).\n",
        "    - id_col: nome da coluna de identificador de série.\n",
        "    - year_col: nome da coluna de ano.\n",
        "    - horizon: horizonte de previsão (padrão 1 ano).\n",
        "\n",
        "    Retorna:\n",
        "    - DataFrame filtrado, contendo apenas os registros dos municípios válidos.\n",
        "    \"\"\"\n",
        "    # 1) Obtenha apenas as combinações únicas (id, ano) já ordenadas\n",
        "    df_sorted = (\n",
        "        df[[id_col, year_col]]\n",
        "        .drop_duplicates()\n",
        "        .sort_values([id_col, year_col])\n",
        "    )\n",
        "\n",
        "    # 2) Identifique quebras de sequência de anos\n",
        "    df_sorted['year_diff'] = (\n",
        "        df_sorted\n",
        "        .groupby(id_col)[year_col]\n",
        "        .diff()\n",
        "        .fillna(1)\n",
        "    )\n",
        "    df_sorted['segment_id'] = (df_sorted['year_diff'] > 1).cumsum()\n",
        "\n",
        "    # 3) Calcule início, fim e comprimento de cada segmento\n",
        "    segments = (\n",
        "        df_sorted\n",
        "        .groupby([id_col, 'segment_id'])\n",
        "        .agg(\n",
        "            start_year=(year_col, 'min'),\n",
        "            end_year=(year_col, 'max'),\n",
        "            length=(year_col, 'count')\n",
        "        )\n",
        "        .reset_index()\n",
        "    )\n",
        "\n",
        "    # 4) Para cada série (cada id_col), selecione o segmento mais longo\n",
        "    max_seg = (\n",
        "        segments\n",
        "        .sort_values([id_col, 'length'], ascending=[True, False])\n",
        "        .drop_duplicates(subset=id_col, keep='first')\n",
        "        .reset_index(drop=True)\n",
        "    )\n",
        "\n",
        "    # 5) Filtre apenas os segmentos que dão pelo menos 2 pares treino->teste:\n",
        "    #    comprimento >= context + horizon + 1\n",
        "    min_length = context + horizon + 1\n",
        "    valid = max_seg[max_seg['length'] >= min_length]\n",
        "\n",
        "    # 6) Reúna do DataFrame original apenas os anos desses segmentos válidos\n",
        "    dfs = []\n",
        "    for _, row in valid.iterrows():\n",
        "        mid = row[id_col]\n",
        "        anos_validos = range(int(row['start_year']), int(row['end_year']) + 1)\n",
        "        mask = (df[id_col] == mid) & (df[year_col].isin(anos_validos))\n",
        "        dfs.append(df.loc[mask])\n",
        "\n",
        "    if dfs:\n",
        "        return pd.concat(dfs, ignore_index=True)\n",
        "    else:\n",
        "        return df.iloc[0:0]  # vazio, mesmas colunas\n",
        "\n",
        "# Exemplo de uso:\n",
        "janela_contexto = 2\n",
        "df_filtrado = filter_series_by_context(df_outliers, janela_contexto)"
      ],
      "metadata": {
        "id": "W5aHKhznvLLV"
      },
      "execution_count": null,
      "outputs": []
    },
    {
      "cell_type": "markdown",
      "source": [
        "## 8. Seleção de features"
      ],
      "metadata": {
        "id": "JNpUZlJFvLLV"
      }
    },
    {
      "cell_type": "markdown",
      "source": [
        "Mantemos variáveis numéricas e dummies de mesorregião; descartamos IDs se não necessários."
      ],
      "metadata": {
        "id": "LQqZbZzVvLLV"
      }
    },
    {
      "cell_type": "code",
      "source": [
        "num_features = [\n",
        "    'target',\n",
        "    'Municipio',\n",
        "    'Ano',\n",
        "    'latitude',\n",
        "    'longitude',\n",
        "    'altitude',\n",
        "    'precipitacao (mm)',\n",
        "    'temperatura minima (ºC)',\n",
        "    'temperatura maxima (ºC)'\n",
        "]\n",
        "cat_features = [\n",
        "  'Mesorregião'\n",
        "]\n",
        "\n",
        "df_features = df_filtrado[num_features + cat_features].copy()"
      ],
      "metadata": {
        "id": "RfqLGKZkvLLV"
      },
      "execution_count": null,
      "outputs": []
    },
    {
      "cell_type": "markdown",
      "source": [
        "## 9. Divisão temporal treino/teste (anos ≤ 2009 → treino, ≥ 2010 → teste)"
      ],
      "metadata": {
        "id": "E07jplvHvLLV"
      }
    },
    {
      "cell_type": "code",
      "source": [
        "horizon = 1\n",
        "year_col = 'Ano'\n",
        "id_col = 'Municipio'\n",
        "\n",
        "df = df_features.copy()\n",
        "df['split'] = 'train'\n",
        "k = janela_contexto + horizon\n",
        "# Para cada série, marca como test as últimas k observações\n",
        "def mark_test(sub):\n",
        "    if len(sub) <= k:\n",
        "        return pd.Series(['test'] * len(sub), index=sub.index)\n",
        "    test_idx = sub.nlargest(k, year_col).index\n",
        "    splits = pd.Series('train', index=sub.index)\n",
        "    splits.loc[test_idx] = 'test'\n",
        "    return splits\n",
        "df['split'] = df.groupby(id_col).apply(lambda g: mark_test(g), include_groups=False).reset_index(level=0, drop=True)\n",
        "\n",
        "print(df['split'].value_counts())"
      ],
      "metadata": {
        "id": "PsrI_0NEvLLV"
      },
      "execution_count": null,
      "outputs": []
    },
    {
      "cell_type": "code",
      "source": [
        "df[df.Municipio == \"Abadia dos Dourados - MG\"]"
      ],
      "metadata": {
        "id": "gDYzYk3HvLLV"
      },
      "execution_count": null,
      "outputs": []
    },
    {
      "cell_type": "code",
      "source": [
        "df.to_csv('dataset_v5.csv', index=False)\n",
        "df.info()"
      ],
      "metadata": {
        "id": "2444mLE1vLLW"
      },
      "execution_count": null,
      "outputs": []
    },
    {
      "cell_type": "markdown",
      "source": [
        "# Dataset V4 - Produtividade (1995-2023) - Serie temporal\n"
      ],
      "metadata": {
        "id": "2pPFONR05Aa2"
      }
    },
    {
      "cell_type": "markdown",
      "source": [
        "**Features**\n",
        "- Ano\n",
        "- latitude\n",
        "- longitude\n",
        "- altitude\n",
        "- ~~Área Colhida (mil hectares)~~\n",
        "- ~~Valor da produção (Mil Reais)~~\n",
        "- precipitacao (mm)\n",
        "- temperatura minima (ºC)\n",
        "- temperatura maxima (ºC)\n",
        "- Mesorregião\n",
        "\n",
        "Estimando **produtividade em Toneladas/Hectares**."
      ],
      "metadata": {
        "id": "sDe9c-kF5Aa3"
      }
    },
    {
      "cell_type": "markdown",
      "source": [
        "## 2. Merge das bases espacial (meso_id) e temporal (Ano)"
      ],
      "metadata": {
        "id": "JRic0J775Aa3"
      }
    },
    {
      "cell_type": "code",
      "source": [
        "# Calculando a média anual por municipio\n",
        "clima_anual = indicadores_climaticos.groupby(\n",
        "    ['municipio_id', 'Ano'],\n",
        "    as_index=False\n",
        ").agg({\n",
        "    'Mesorregião_id': 'first',      # Mantém o ID da mesorregião associada ao município\n",
        "    'municipio_nome': 'first',      # Mantém o nome do município (assume que é único por município_id)\n",
        "    'prec_mm': 'mean',              # Média anual da precipitação\n",
        "    'tmax_°C': 'mean',              # Média anual da temperatura máxima\n",
        "    'tmin_°C': 'mean'               # Média anual da temperatura mínima\n",
        "})\n",
        "\n",
        "clima_anual.rename(columns={\n",
        "  'municipio_id': 'Municipio_id',\n",
        "  'prec_mm': 'precipitacao (mm)',\n",
        "  'municipio_nome': 'Municipio',\n",
        "  'tmax_°C': 'temperatura maxima (ºC)',\n",
        "  'tmin_°C': 'temperatura minima (ºC)'\n",
        "}, inplace=True)\n",
        "\n",
        "clima_anual.head(5)"
      ],
      "metadata": {
        "id": "3u-VAJtE5Aa3"
      },
      "execution_count": null,
      "outputs": []
    },
    {
      "cell_type": "code",
      "source": [
        "# Lista de Produtos: 'Café (em grão) Total', 'Café (em grão) Arábica', 'Café (em grão) Canephora'\n",
        "indicadores_IBGE_filtrado = indicadores_IBGE[indicadores_IBGE['Produto']==\"Café (em grão) Total\"].copy()\n",
        "indicadores_IBGE_filtrado.drop(columns=['Produto'], inplace=True)\n",
        "\n",
        "# Renomear as colunas do dataframe georeferenciamento\n",
        "georeferenciamento_renomeado = georeferenciamento.rename(columns={\n",
        "    'municipio_id': 'Municipio_id',\n",
        "    'lat': 'latitude',\n",
        "    'lon': 'longitude',\n",
        "    'alt': 'altitude'\n",
        "})\n",
        "\n",
        "# Selecionar as colunas desejadas de cada dataframe\n",
        "colunas_clima = ['Municipio_id', 'Ano', 'precipitacao (mm)', 'temperatura maxima (ºC)', 'temperatura minima (ºC)']\n",
        "colunas_ibge = [\n",
        "    'Mesorregião_id', 'Mesorregião', 'Municipio_id', 'Municipio', 'Ano',\n",
        "    'Área destinada à colheita (Hectares)', 'Área colhida (Hectares)',\n",
        "    'Quantidade produzida (Toneladas)', 'Rendimento médio da produção (Quilogramas por Hectare)',\n",
        "    'Valor da produção (Mil Reais)'\n",
        "]\n",
        "colunas_geo = ['Municipio_id', 'latitude', 'longitude', 'altitude']\n",
        "\n",
        "# Filtrar os dataframes pelas colunas desejadas\n",
        "clima_filtrado = clima_anual[colunas_clima]\n",
        "ibge_filtrado = indicadores_IBGE_filtrado[colunas_ibge]\n",
        "geo_filtrado = georeferenciamento_renomeado[colunas_geo]"
      ],
      "metadata": {
        "id": "K0s1pTks5Aa3"
      },
      "execution_count": null,
      "outputs": []
    },
    {
      "cell_type": "code",
      "source": [
        "# Mesclar clima_filtrado e ibge_filtrado usando Municipio_id e Ano como chaves\n",
        "df_mesclado = pd.merge(clima_filtrado, ibge_filtrado, on=['Municipio_id', 'Ano'], how='inner')\n",
        "\n",
        "# Mesclar o resultado com geo_filtrado usando Municipio_id como chave\n",
        "df_merge = pd.merge(df_mesclado, geo_filtrado, on='Municipio_id', how='inner')\n",
        "\n",
        "df_merge.head(1)"
      ],
      "metadata": {
        "id": "197lEjmR5Aa4"
      },
      "execution_count": null,
      "outputs": []
    },
    {
      "cell_type": "code",
      "source": [
        "# 1) Cria uma cópia para não alterar o original\n",
        "df_escalado = df_merge.copy()\n",
        "\n",
        "# Garante que as colunas numéricas estejam no tipo correto\n",
        "df_escalado['Área colhida (Hectares)'] = pd.to_numeric(df_escalado['Área colhida (Hectares)'], errors='coerce')\n",
        "df_escalado['Quantidade produzida (Toneladas)'] = pd.to_numeric(df_escalado['Quantidade produzida (Toneladas)'], errors='coerce')\n",
        "\n",
        "df_escalado.head(1)"
      ],
      "metadata": {
        "id": "v7i1OcCH5Aa4"
      },
      "execution_count": null,
      "outputs": []
    },
    {
      "cell_type": "markdown",
      "source": [
        "## 3. Filtrar período de interesse (1995–2023)"
      ],
      "metadata": {
        "id": "BI9ajbSR5Aa4"
      }
    },
    {
      "cell_type": "code",
      "source": [
        "df_periodo = df_escalado[(df_escalado['Ano'] >= 1995) & (df_escalado['Ano'] <= 2023)].copy()"
      ],
      "metadata": {
        "id": "o948wvXR5Aa4"
      },
      "execution_count": null,
      "outputs": []
    },
    {
      "cell_type": "markdown",
      "source": [
        "## 4. Criar variável-alvo: produtividade em Toneldas por hectare"
      ],
      "metadata": {
        "id": "jf_QSyaM5Aa4"
      }
    },
    {
      "cell_type": "code",
      "source": [
        "df_target = df_periodo.copy()\n",
        "df_target['target'] = df_target['Quantidade produzida (Toneladas)'] / df_target['Área colhida (Hectares)'] # produtividade em toneladas por hectare"
      ],
      "metadata": {
        "id": "nCGp_2xH5Aa4"
      },
      "execution_count": null,
      "outputs": []
    },
    {
      "cell_type": "markdown",
      "source": [
        "## 5. Remoção de outliers usando critério de desvio‑padrão (±3σ)"
      ],
      "metadata": {
        "id": "Vc5uFOsM5Aa4"
      }
    },
    {
      "cell_type": "code",
      "source": [
        "df_target[[\"target\"]].describe()"
      ],
      "metadata": {
        "id": "kj3FXhgJ5Aa4"
      },
      "execution_count": null,
      "outputs": []
    },
    {
      "cell_type": "code",
      "source": [
        "print(len(df_target))\n",
        "\n",
        "valor = 3\n",
        "y = df_target['target']\n",
        "mean_y, std_y = y.mean(), y.std()\n",
        "mask = (y >= mean_y - valor*std_y) & (y <= mean_y + valor*std_y)\n",
        "df_outliers = df_target.loc[mask].reset_index(drop=True)\n",
        "print(len(df_outliers))"
      ],
      "metadata": {
        "id": "kz0aeQQT5Aa4"
      },
      "execution_count": null,
      "outputs": []
    },
    {
      "cell_type": "code",
      "source": [
        "df_outliers[[\"target\"]].describe()"
      ],
      "metadata": {
        "id": "BwWFcLpj5Aa5"
      },
      "execution_count": null,
      "outputs": []
    },
    {
      "cell_type": "markdown",
      "source": [
        "## 6. Imputação de faltantes: aqui usamos mediana (poderia ser média ou KNN)"
      ],
      "metadata": {
        "id": "SKvlCdOl5Aa5"
      }
    },
    {
      "cell_type": "code",
      "source": [
        "# Antes da imputação\n",
        "dados_faltantes_antes = df_outliers.isnull().sum()\n",
        "print(\"Dados faltantes antes da imputação:\\n\", dados_faltantes_antes)"
      ],
      "metadata": {
        "id": "qi93LQPO5Aa5"
      },
      "execution_count": null,
      "outputs": []
    },
    {
      "cell_type": "code",
      "source": [
        "df_outliers.fillna(df_outliers.median(numeric_only=True), inplace=True)"
      ],
      "metadata": {
        "id": "1TrMjfWu5Aa5"
      },
      "execution_count": null,
      "outputs": []
    },
    {
      "cell_type": "markdown",
      "source": [
        "## 7. Organizar serie temporal"
      ],
      "metadata": {
        "id": "T8V12lP316Ne"
      }
    },
    {
      "cell_type": "code",
      "source": [
        "import pandas as pd\n",
        "\n",
        "def count_time_series_examples(df: pd.DataFrame,\n",
        "                               id_col: str = 'Municipio_id',\n",
        "                               year_col: str = 'Ano',\n",
        "                               min_context: int = 2,\n",
        "                               horizon: int = 1) -> pd.DataFrame:\n",
        "    \"\"\"\n",
        "    Para cada tamanho de janela de contexto a partir de `min_context`, computa quantos pares\n",
        "    (janela de contexto -> horizonte) são possíveis em cada série do DataFrame.\n",
        "\n",
        "    Passos:\n",
        "    1. Agrupa por `id_col` e ordena por `year_col`.\n",
        "    2. Identifica segmentos contíguos (sem saltos de anos).\n",
        "    3. Seleciona o maior segmento contíguo para cada série.\n",
        "    4. Para cada contexto c, soma todos os exemplos possíveis: max(0, L - c - horizon + 1).\n",
        "    5. Para contextos em que nenhum exemplo seja possível, para o cálculo.\n",
        "\n",
        "    Retorna um DataFrame com colunas:\n",
        "        context: tamanho da janela de contexto\n",
        "        examples: número total de pares treino->teste disponíveis\n",
        "    \"\"\"\n",
        "    # 1. Prepara o DataFrame\n",
        "    df_sorted = df[[id_col, year_col]].drop_duplicates().copy()\n",
        "    df_sorted = df_sorted.sort_values([id_col, year_col])\n",
        "\n",
        "    # 2. Identifica segmentos contíguos\n",
        "    # Calcula a diferença de anos dentro de cada grupo\n",
        "    df_sorted['year_diff'] = df_sorted.groupby(id_col)[year_col].diff().fillna(1)\n",
        "    # Marca início de segmento onde diff > 1\n",
        "    df_sorted['segment_id'] = (df_sorted['year_diff'] > 1).cumsum()\n",
        "\n",
        "    # 3. Computa tamanho de cada segmento e seleciona o maior por série\n",
        "    segments = (\n",
        "        df_sorted\n",
        "        .groupby([id_col, 'segment_id'])\n",
        "        .agg(start_year=(year_col, 'min'),\n",
        "             end_year=(year_col, 'max'),\n",
        "             length=(year_col, 'count'))\n",
        "        .reset_index()\n",
        "    )\n",
        "    # Seleciona o segmento de maior comprimento para cada série\n",
        "    max_segments = (\n",
        "        segments\n",
        "        .sort_values(['length'], ascending=False)\n",
        "        .drop_duplicates(id_col, keep='first')\n",
        "    )\n",
        "\n",
        "    # 4. Varredura de contextos\n",
        "    results = []\n",
        "    c = min_context\n",
        "    while True:\n",
        "        # Para cada segmento, se length >= c + horizon, gera (length - c - horizon + 1) exemplos\n",
        "        max_segments['examples'] = max_segments['length'].apply(\n",
        "            lambda L: max(0, L - c - horizon + 1)\n",
        "        )\n",
        "        total_examples = int(max_segments['examples'].sum())\n",
        "        if total_examples <= 0:\n",
        "            break\n",
        "        results.append({'context': c, 'examples': total_examples})\n",
        "        c += 1\n",
        "\n",
        "    return pd.DataFrame(results)\n",
        "\n",
        "count_time_series_examples(df_outliers)"
      ],
      "metadata": {
        "id": "-boSuKlW1_Sd"
      },
      "execution_count": null,
      "outputs": []
    },
    {
      "cell_type": "code",
      "source": [
        "def filter_series_by_context(df: pd.DataFrame,\n",
        "                              context: int,\n",
        "                              id_col: str = 'Municipio_id',\n",
        "                              year_col: str = 'Ano',\n",
        "                              horizon: int = 1) -> pd.DataFrame:\n",
        "    \"\"\"\n",
        "    Filtra o DataFrame mantendo apenas as séries cujo maior segmento contíguo\n",
        "    gera pelo menos 2 pares treino->teste para o dado tamanho de contexto.\n",
        "\n",
        "    Parâmetros:\n",
        "    - df: DataFrame completo com colunas de identificação e ano.\n",
        "    - context: tamanho da janela de contexto (número de anos).\n",
        "    - id_col: nome da coluna de identificador de série.\n",
        "    - year_col: nome da coluna de ano.\n",
        "    - horizon: horizonte de previsão (padrão 1 ano).\n",
        "\n",
        "    Retorna:\n",
        "    - DataFrame filtrado, contendo apenas os registros dos municípios válidos.\n",
        "    \"\"\"\n",
        "    # 1) Obtenha apenas as combinações únicas (id, ano) já ordenadas\n",
        "    df_sorted = (\n",
        "        df[[id_col, year_col]]\n",
        "        .drop_duplicates()\n",
        "        .sort_values([id_col, year_col])\n",
        "    )\n",
        "\n",
        "    # 2) Identifique quebras de sequência de anos\n",
        "    df_sorted['year_diff'] = (\n",
        "        df_sorted\n",
        "        .groupby(id_col)[year_col]\n",
        "        .diff()\n",
        "        .fillna(1)\n",
        "    )\n",
        "    df_sorted['segment_id'] = (df_sorted['year_diff'] > 1).cumsum()\n",
        "\n",
        "    # 3) Calcule início, fim e comprimento de cada segmento\n",
        "    segments = (\n",
        "        df_sorted\n",
        "        .groupby([id_col, 'segment_id'])\n",
        "        .agg(\n",
        "            start_year=(year_col, 'min'),\n",
        "            end_year=(year_col, 'max'),\n",
        "            length=(year_col, 'count')\n",
        "        )\n",
        "        .reset_index()\n",
        "    )\n",
        "\n",
        "    # 4) Para cada série (cada id_col), selecione o segmento mais longo\n",
        "    max_seg = (\n",
        "        segments\n",
        "        .sort_values([id_col, 'length'], ascending=[True, False])\n",
        "        .drop_duplicates(subset=id_col, keep='first')\n",
        "        .reset_index(drop=True)\n",
        "    )\n",
        "\n",
        "    # 5) Filtre apenas os segmentos que dão pelo menos 2 pares treino->teste:\n",
        "    #    comprimento >= context + horizon + 1\n",
        "    min_length = context + horizon + 1\n",
        "    valid = max_seg[max_seg['length'] >= min_length]\n",
        "\n",
        "    # 6) Reúna do DataFrame original apenas os anos desses segmentos válidos\n",
        "    dfs = []\n",
        "    for _, row in valid.iterrows():\n",
        "        mid = row[id_col]\n",
        "        anos_validos = range(int(row['start_year']), int(row['end_year']) + 1)\n",
        "        mask = (df[id_col] == mid) & (df[year_col].isin(anos_validos))\n",
        "        dfs.append(df.loc[mask])\n",
        "\n",
        "    if dfs:\n",
        "        return pd.concat(dfs, ignore_index=True)\n",
        "    else:\n",
        "        return df.iloc[0:0]  # vazio, mesmas colunas\n",
        "\n",
        "# Exemplo de uso:\n",
        "janela_contexto = 2\n",
        "df_filtrado = filter_series_by_context(df_outliers, janela_contexto)"
      ],
      "metadata": {
        "id": "Orreu_SU_bsx"
      },
      "execution_count": null,
      "outputs": []
    },
    {
      "cell_type": "markdown",
      "source": [
        "## 8. Seleção de features"
      ],
      "metadata": {
        "id": "-qiMHZDW5Aa5"
      }
    },
    {
      "cell_type": "markdown",
      "source": [
        "Mantemos variáveis numéricas e dummies de mesorregião; descartamos IDs se não necessários."
      ],
      "metadata": {
        "id": "M2s6G4DW5Aa6"
      }
    },
    {
      "cell_type": "code",
      "source": [
        "num_features = [\n",
        "    'target',\n",
        "    'Municipio',\n",
        "    'Ano',\n",
        "    'latitude',\n",
        "    'longitude',\n",
        "    'altitude',\n",
        "    'precipitacao (mm)',\n",
        "    'temperatura minima (ºC)',\n",
        "    'temperatura maxima (ºC)'\n",
        "]\n",
        "cat_features = [\n",
        "  'Mesorregião'\n",
        "]\n",
        "\n",
        "df_features = df_filtrado[num_features + cat_features].copy()"
      ],
      "metadata": {
        "id": "CN09il3F5Aa6"
      },
      "execution_count": null,
      "outputs": []
    },
    {
      "cell_type": "markdown",
      "source": [
        "## 9. Divisão temporal treino/teste (anos ≤ 2009 → treino, ≥ 2010 → teste)"
      ],
      "metadata": {
        "id": "bcFBWo0d5Aa6"
      }
    },
    {
      "cell_type": "code",
      "source": [
        "horizon = 1\n",
        "year_col = 'Ano'\n",
        "id_col = 'Municipio'\n",
        "\n",
        "df = df_features.copy()\n",
        "df['split'] = 'train'\n",
        "k = janela_contexto + horizon\n",
        "# Para cada série, marca como test as últimas k observações\n",
        "def mark_test(sub):\n",
        "    if len(sub) <= k:\n",
        "        return pd.Series(['test'] * len(sub), index=sub.index)\n",
        "    test_idx = sub.nlargest(k, year_col).index\n",
        "    splits = pd.Series('train', index=sub.index)\n",
        "    splits.loc[test_idx] = 'test'\n",
        "    return splits\n",
        "df['split'] = df.groupby(id_col).apply(lambda g: mark_test(g), include_groups=False).reset_index(level=0, drop=True)\n",
        "\n",
        "print(df['split'].value_counts())"
      ],
      "metadata": {
        "id": "M4Il2LVzB0Hl"
      },
      "execution_count": null,
      "outputs": []
    },
    {
      "cell_type": "code",
      "source": [
        "df[df.Municipio == \"Abadia dos Dourados - MG\"]"
      ],
      "metadata": {
        "id": "hZvtjXukDBBD"
      },
      "execution_count": null,
      "outputs": []
    },
    {
      "cell_type": "code",
      "source": [
        "df.to_csv('dataset_v4.csv', index=False)\n",
        "df.info()"
      ],
      "metadata": {
        "id": "6c2IADSK5Aa6"
      },
      "execution_count": null,
      "outputs": []
    },
    {
      "cell_type": "markdown",
      "source": [
        "# Dataset V3 - Produtividade"
      ],
      "metadata": {
        "id": "kXvpkxnoMCyw"
      }
    },
    {
      "cell_type": "markdown",
      "source": [
        "Nesta versão, ao inves de avaliar a quantidade de toneladas de café produzida, será avaliada a produtividade, que é a quantidade produzida por área (toneladas/hectares)"
      ],
      "metadata": {
        "id": "2RKsGaj8maA-"
      }
    },
    {
      "cell_type": "markdown",
      "source": [
        "**Features**\n",
        "- Ano\n",
        "- latitude\n",
        "- longitude\n",
        "- altitude\n",
        "- ~~Área Colhida (mil hectares)~~\n",
        "- ~~Valor da produção (Mil Reais)~~\n",
        "- precipitacao (mm)\n",
        "- temperatura minima (ºC)\n",
        "- temperatura maxima (ºC)\n",
        "- Mesorregião\n",
        "\n",
        "Estimando **produtividade em Toneladas/Hectares**."
      ],
      "metadata": {
        "id": "k9WvrR86MCyy"
      }
    },
    {
      "cell_type": "markdown",
      "source": [
        "## 2. Merge das bases espacial (meso_id) e temporal (Ano)"
      ],
      "metadata": {
        "id": "sJiI53hIMCyz"
      }
    },
    {
      "cell_type": "code",
      "source": [
        "# Calculando a média anual por municipio\n",
        "clima_anual = indicadores_climaticos.groupby(\n",
        "    ['municipio_id', 'Ano'],\n",
        "    as_index=False\n",
        ").agg({\n",
        "    'Mesorregião_id': 'first',      # Mantém o ID da mesorregião associada ao município\n",
        "    'municipio_nome': 'first',      # Mantém o nome do município (assume que é único por município_id)\n",
        "    'prec_mm': 'mean',              # Média anual da precipitação\n",
        "    'tmax_°C': 'mean',              # Média anual da temperatura máxima\n",
        "    'tmin_°C': 'mean'               # Média anual da temperatura mínima\n",
        "})\n",
        "\n",
        "clima_anual.rename(columns={\n",
        "  'municipio_id': 'Municipio_id',\n",
        "  'prec_mm': 'precipitacao (mm)',\n",
        "  'municipio_nome': 'Municipio',\n",
        "  'tmax_°C': 'temperatura maxima (ºC)',\n",
        "  'tmin_°C': 'temperatura minima (ºC)'\n",
        "}, inplace=True)\n",
        "\n",
        "clima_anual.head(5)"
      ],
      "metadata": {
        "id": "zbcKeJ-3MCyz"
      },
      "execution_count": null,
      "outputs": []
    },
    {
      "cell_type": "code",
      "source": [
        "# Lista de Produtos: 'Café (em grão) Total', 'Café (em grão) Arábica', 'Café (em grão) Canephora'\n",
        "indicadores_IBGE_filtrado = indicadores_IBGE[indicadores_IBGE['Produto']==\"Café (em grão) Total\"].copy()\n",
        "indicadores_IBGE_filtrado.drop(columns=['Produto'], inplace=True)\n",
        "\n",
        "# Renomear as colunas do dataframe georeferenciamento\n",
        "georeferenciamento_renomeado = georeferenciamento.rename(columns={\n",
        "    'municipio_id': 'Municipio_id',\n",
        "    'lat': 'latitude',\n",
        "    'lon': 'longitude',\n",
        "    'alt': 'altitude'\n",
        "})\n",
        "\n",
        "# Selecionar as colunas desejadas de cada dataframe\n",
        "colunas_clima = ['Municipio_id', 'Ano', 'precipitacao (mm)', 'temperatura maxima (ºC)', 'temperatura minima (ºC)']\n",
        "colunas_ibge = [\n",
        "    'Mesorregião_id', 'Mesorregião', 'Municipio_id', 'Municipio', 'Ano',\n",
        "    'Área destinada à colheita (Hectares)', 'Área colhida (Hectares)',\n",
        "    'Quantidade produzida (Toneladas)', 'Rendimento médio da produção (Quilogramas por Hectare)',\n",
        "    'Valor da produção (Mil Reais)'\n",
        "]\n",
        "colunas_geo = ['Municipio_id', 'latitude', 'longitude', 'altitude']\n",
        "\n",
        "# Filtrar os dataframes pelas colunas desejadas\n",
        "clima_filtrado = clima_anual[colunas_clima]\n",
        "ibge_filtrado = indicadores_IBGE_filtrado[colunas_ibge]\n",
        "geo_filtrado = georeferenciamento_renomeado[colunas_geo]"
      ],
      "metadata": {
        "id": "hDils4NcMCy0"
      },
      "execution_count": null,
      "outputs": []
    },
    {
      "cell_type": "code",
      "source": [
        "# Mesclar clima_filtrado e ibge_filtrado usando Municipio_id e Ano como chaves\n",
        "df_mesclado = pd.merge(clima_filtrado, ibge_filtrado, on=['Municipio_id', 'Ano'], how='inner')\n",
        "\n",
        "# Mesclar o resultado com geo_filtrado usando Municipio_id como chave\n",
        "df_merge = pd.merge(df_mesclado, geo_filtrado, on='Municipio_id', how='inner')\n",
        "\n",
        "df_merge.head(2)"
      ],
      "metadata": {
        "id": "o22OIP83MCy0"
      },
      "execution_count": null,
      "outputs": []
    },
    {
      "cell_type": "code",
      "source": [
        "# 1) Cria uma cópia para não alterar o original\n",
        "df_escalado = df_merge.copy()\n",
        "\n",
        "# Garante que as colunas numéricas estejam no tipo correto\n",
        "df_escalado['Área colhida (Hectares)'] = pd.to_numeric(df_escalado['Área colhida (Hectares)'], errors='coerce')\n",
        "df_escalado['Quantidade produzida (Toneladas)'] = pd.to_numeric(df_escalado['Quantidade produzida (Toneladas)'], errors='coerce')\n",
        "\n",
        "df_escalado.head(2)"
      ],
      "metadata": {
        "id": "YpcYOw1PMCy0"
      },
      "execution_count": null,
      "outputs": []
    },
    {
      "cell_type": "markdown",
      "source": [
        "## 3. Filtrar período de interesse (1995–2023)"
      ],
      "metadata": {
        "id": "QbpFzPLhMCy1"
      }
    },
    {
      "cell_type": "code",
      "source": [
        "df_periodo = df_escalado[(df_escalado['Ano'] >= 1995) & (df_escalado['Ano'] <= 2023)].copy()"
      ],
      "metadata": {
        "id": "etiF_444MCy1"
      },
      "execution_count": null,
      "outputs": []
    },
    {
      "cell_type": "markdown",
      "source": [
        "## 4. Criar variável-alvo: produtividade em Kilos por hectare"
      ],
      "metadata": {
        "id": "3Mn6f2fXMCy1"
      }
    },
    {
      "cell_type": "code",
      "source": [
        "df_target = df_periodo.copy()\n",
        "df_target['target'] = df_target['Quantidade produzida (Toneladas)'] / df_target['Área colhida (Hectares)'] # produtividade em toneladas por hectare"
      ],
      "metadata": {
        "id": "SmbuqRYdMCy2"
      },
      "execution_count": null,
      "outputs": []
    },
    {
      "cell_type": "markdown",
      "source": [
        "## 5. Remoção de outliers usando critério de desvio‑padrão (±3σ)"
      ],
      "metadata": {
        "id": "_EoAAuR4MCy3"
      }
    },
    {
      "cell_type": "code",
      "source": [
        "df_target[[\"target\"]].describe()"
      ],
      "metadata": {
        "id": "Is7Vh5yjMCy3"
      },
      "execution_count": null,
      "outputs": []
    },
    {
      "cell_type": "code",
      "source": [
        "print(len(df_target))\n",
        "\n",
        "valor = 3\n",
        "y = df_target['target']\n",
        "mean_y, std_y = y.mean(), y.std()\n",
        "mask = (y >= mean_y - valor*std_y) & (y <= mean_y + valor*std_y)\n",
        "df_outliers = df_target.loc[mask].reset_index(drop=True)\n",
        "print(len(df_outliers))"
      ],
      "metadata": {
        "id": "EKvGLFuSMCy3"
      },
      "execution_count": null,
      "outputs": []
    },
    {
      "cell_type": "code",
      "source": [
        "df_outliers[[\"target\"]].describe()"
      ],
      "metadata": {
        "id": "eVeCeZy7MCy3"
      },
      "execution_count": null,
      "outputs": []
    },
    {
      "cell_type": "markdown",
      "source": [
        "## 6. Imputação de faltantes: aqui usamos mediana (poderia ser média ou KNN)"
      ],
      "metadata": {
        "id": "O04m_j7hMCy3"
      }
    },
    {
      "cell_type": "code",
      "source": [
        "# Antes da imputação\n",
        "dados_faltantes_antes = df_outliers.isnull().sum()\n",
        "print(\"Dados faltantes antes da imputação:\\n\", dados_faltantes_antes)"
      ],
      "metadata": {
        "id": "Cd61Ol1JMCy3"
      },
      "execution_count": null,
      "outputs": []
    },
    {
      "cell_type": "code",
      "source": [
        "df_outliers.fillna(df_outliers.median(numeric_only=True), inplace=True)"
      ],
      "metadata": {
        "id": "qA1HPMBwMCy4"
      },
      "execution_count": null,
      "outputs": []
    },
    {
      "cell_type": "markdown",
      "source": [
        "## 7. Seleção de features"
      ],
      "metadata": {
        "id": "jYnPhxsGMCy4"
      }
    },
    {
      "cell_type": "markdown",
      "source": [
        "Mantemos variáveis numéricas e dummies de mesorregião; descartamos IDs se não necessários."
      ],
      "metadata": {
        "id": "6VrMp5aXMCy4"
      }
    },
    {
      "cell_type": "code",
      "source": [
        "num_features = [\n",
        "    'target',\n",
        "    'Municipio',\n",
        "    'Ano',\n",
        "    'latitude',\n",
        "    'longitude',\n",
        "    'altitude',\n",
        "    'precipitacao (mm)',\n",
        "    'temperatura minima (ºC)',\n",
        "    'temperatura maxima (ºC)'\n",
        "]\n",
        "cat_features = [\n",
        "  'Mesorregião'\n",
        "]\n",
        "dataset_final = df_outliers[num_features + cat_features].copy()"
      ],
      "metadata": {
        "id": "SJxmCRekMCy4"
      },
      "execution_count": null,
      "outputs": []
    },
    {
      "cell_type": "markdown",
      "source": [
        "## 8. Divisão temporal treino/teste (anos ≤ 2015 → treino, ≥ 2016 → teste)"
      ],
      "metadata": {
        "id": "JdpX9DgVMCy4"
      }
    },
    {
      "cell_type": "code",
      "source": [
        "dataset_final['split'] = pd.Series(dtype='str')  # Inicializa a coluna com tipo string\n",
        "dataset_final.loc[dataset_final['Ano'] <= 2015, 'split'] = 'train'\n",
        "dataset_final.loc[dataset_final['Ano'] >= 2016, 'split'] = 'test'\n",
        "\n",
        "# Verifica o resultado\n",
        "print(dataset_final['split'].value_counts())"
      ],
      "metadata": {
        "id": "sVP6xDMQMCy4"
      },
      "execution_count": null,
      "outputs": []
    },
    {
      "cell_type": "code",
      "source": [
        "dataset_final.to_csv('dataset_v3.csv', index=False)\n",
        "dataset_final.info()"
      ],
      "metadata": {
        "id": "PunWvkNTMCy4"
      },
      "execution_count": null,
      "outputs": []
    },
    {
      "cell_type": "markdown",
      "source": [
        "# Dataset V2 - Produção"
      ],
      "metadata": {
        "id": "RoHUpTkWFXWP"
      }
    },
    {
      "cell_type": "markdown",
      "source": [
        "Nesta versão apeas o valor da produção é removido em relação ao anterior."
      ],
      "metadata": {
        "id": "9Zs04uNdlHiP"
      }
    },
    {
      "cell_type": "markdown",
      "source": [
        "**Features**\n",
        "- Ano\n",
        "- latitude\n",
        "- longitude\n",
        "- altitude\n",
        "- Área Colhida (mil hectares)\n",
        "- ~~Valor da produção (Mil Reais)~~\n",
        "- precipitacao (mm)\n",
        "- temperatura minima (ºC)\n",
        "- temperatura maxima (ºC)\n",
        "- Mesorregião\n",
        "\n",
        "Estimando **quantidade produzida em toneladas**."
      ],
      "metadata": {
        "id": "b-xILAjKFXWQ"
      }
    },
    {
      "cell_type": "markdown",
      "source": [
        "## 2. Merge das bases espacial (meso_id) e temporal (Ano)"
      ],
      "metadata": {
        "id": "jkJU_dD7FXWQ"
      }
    },
    {
      "cell_type": "code",
      "source": [
        "# Calculando a média anual por municipio\n",
        "clima_anual = indicadores_climaticos.groupby(\n",
        "    ['municipio_id', 'Ano'],\n",
        "    as_index=False\n",
        ").agg({\n",
        "    'Mesorregião_id': 'first',      # Mantém o ID da mesorregião associada ao município\n",
        "    'municipio_nome': 'first',      # Mantém o nome do município (assume que é único por município_id)\n",
        "    'prec_mm': 'mean',              # Média anual da precipitação\n",
        "    'tmax_°C': 'mean',              # Média anual da temperatura máxima\n",
        "    'tmin_°C': 'mean'               # Média anual da temperatura mínima\n",
        "})\n",
        "\n",
        "clima_anual.rename(columns={\n",
        "  'municipio_id': 'Municipio_id',\n",
        "  'prec_mm': 'precipitacao (mm)',\n",
        "  'municipio_nome': 'Municipio',\n",
        "  'tmax_°C': 'temperatura maxima (ºC)',\n",
        "  'tmin_°C': 'temperatura minima (ºC)'\n",
        "}, inplace=True)\n",
        "\n",
        "clima_anual.head(5)"
      ],
      "metadata": {
        "id": "qxazK6h5FXWR"
      },
      "execution_count": null,
      "outputs": []
    },
    {
      "cell_type": "code",
      "source": [
        "# Lista de Produtos: 'Café (em grão) Total', 'Café (em grão) Arábica', 'Café (em grão) Canephora'\n",
        "indicadores_IBGE_filtrado = indicadores_IBGE[indicadores_IBGE['Produto']==\"Café (em grão) Total\"].copy()\n",
        "indicadores_IBGE_filtrado.drop(columns=['Produto'], inplace=True)\n",
        "\n",
        "# Renomear as colunas do dataframe georeferenciamento\n",
        "georeferenciamento_renomeado = georeferenciamento.rename(columns={\n",
        "    'municipio_id': 'Municipio_id',\n",
        "    'lat': 'latitude',\n",
        "    'lon': 'longitude',\n",
        "    'alt': 'altitude'\n",
        "})\n",
        "\n",
        "# Selecionar as colunas desejadas de cada dataframe\n",
        "colunas_clima = ['Municipio_id', 'Ano', 'precipitacao (mm)', 'temperatura maxima (ºC)', 'temperatura minima (ºC)']\n",
        "colunas_ibge = [\n",
        "    'Mesorregião_id', 'Mesorregião', 'Municipio_id', 'Municipio', 'Ano',\n",
        "    'Área destinada à colheita (Hectares)', 'Área colhida (Hectares)',\n",
        "    'Quantidade produzida (Toneladas)', 'Rendimento médio da produção (Quilogramas por Hectare)',\n",
        "    'Valor da produção (Mil Reais)'\n",
        "]\n",
        "colunas_geo = ['Municipio_id', 'latitude', 'longitude', 'altitude']\n",
        "\n",
        "# Filtrar os dataframes pelas colunas desejadas\n",
        "clima_filtrado = clima_anual[colunas_clima]\n",
        "ibge_filtrado = indicadores_IBGE_filtrado[colunas_ibge]\n",
        "geo_filtrado = georeferenciamento_renomeado[colunas_geo]"
      ],
      "metadata": {
        "id": "O0vBfhKNFXWR"
      },
      "execution_count": null,
      "outputs": []
    },
    {
      "cell_type": "code",
      "source": [
        "# Mesclar clima_filtrado e ibge_filtrado usando Municipio_id e Ano como chaves\n",
        "df_mesclado = pd.merge(clima_filtrado, ibge_filtrado, on=['Municipio_id', 'Ano'], how='inner')\n",
        "\n",
        "# Mesclar o resultado com geo_filtrado usando Municipio_id como chave\n",
        "df_merge = pd.merge(df_mesclado, geo_filtrado, on='Municipio_id', how='inner')\n",
        "\n",
        "df_merge.head(2)"
      ],
      "metadata": {
        "id": "PF8rGTvcFXWR"
      },
      "execution_count": null,
      "outputs": []
    },
    {
      "cell_type": "code",
      "source": [
        "# 1) Cria uma cópia para não alterar o original\n",
        "df_escalado = df_merge.copy()\n",
        "\n",
        "# Garante que as colunas numéricas estejam no tipo correto\n",
        "df_escalado['Área colhida (Hectares)'] = pd.to_numeric(df_escalado['Área colhida (Hectares)'], errors='coerce')\n",
        "df_escalado['Quantidade produzida (Toneladas)'] = pd.to_numeric(df_escalado['Quantidade produzida (Toneladas)'], errors='coerce')\n",
        "\n",
        "df_escalado.head(2)"
      ],
      "metadata": {
        "id": "pg0nwSFDFXWR"
      },
      "execution_count": null,
      "outputs": []
    },
    {
      "cell_type": "markdown",
      "source": [
        "## 3. Filtrar período de interesse (1995–2023)"
      ],
      "metadata": {
        "id": "WhQQelNiFXWR"
      }
    },
    {
      "cell_type": "code",
      "source": [
        "df_periodo = df_escalado[(df_escalado['Ano'] >= 1995) & (df_escalado['Ano'] <= 2023)].copy()"
      ],
      "metadata": {
        "id": "k1qR8lsSFXWS"
      },
      "execution_count": null,
      "outputs": []
    },
    {
      "cell_type": "markdown",
      "source": [
        "## 4. Criar variável-alvo: Quantidade produzida em TONELADAS"
      ],
      "metadata": {
        "id": "EwLo7gLZFXWS"
      }
    },
    {
      "cell_type": "code",
      "source": [
        "coluna_alvo = 'Quantidade produzida (Toneladas)'\n",
        "df_target = df_periodo.rename(columns={coluna_alvo: 'target'})"
      ],
      "metadata": {
        "id": "b1QqbgY4FXWS"
      },
      "execution_count": null,
      "outputs": []
    },
    {
      "cell_type": "markdown",
      "source": [
        "## 5. Remoção de outliers usando critério de desvio‑padrão (±3σ)"
      ],
      "metadata": {
        "id": "REyhDuqWFXWS"
      }
    },
    {
      "cell_type": "code",
      "source": [
        "df_target[[\"target\"]].describe()"
      ],
      "metadata": {
        "id": "n0R9ReFfFXWS"
      },
      "execution_count": null,
      "outputs": []
    },
    {
      "cell_type": "code",
      "source": [
        "print(len(df_target))\n",
        "\n",
        "valor = 3\n",
        "y = df_target['target']\n",
        "mean_y, std_y = y.mean(), y.std()\n",
        "mask = (y >= mean_y - valor*std_y) & (y <= mean_y + valor*std_y)\n",
        "df_outliers = df_target.loc[mask].reset_index(drop=True)\n",
        "print(len(df_outliers))"
      ],
      "metadata": {
        "id": "kyVmb5ghFXWS"
      },
      "execution_count": null,
      "outputs": []
    },
    {
      "cell_type": "code",
      "source": [
        "df_outliers[[\"target\"]].describe()"
      ],
      "metadata": {
        "id": "UvMZ_MS9FXWS"
      },
      "execution_count": null,
      "outputs": []
    },
    {
      "cell_type": "markdown",
      "source": [
        "## 6. Imputação de faltantes: aqui usamos mediana (poderia ser média ou KNN)"
      ],
      "metadata": {
        "id": "AeSCJlf7FXWS"
      }
    },
    {
      "cell_type": "code",
      "source": [
        "# Antes da imputação\n",
        "dados_faltantes_antes = df_outliers.isnull().sum()\n",
        "print(\"Dados faltantes antes da imputação:\\n\", dados_faltantes_antes)"
      ],
      "metadata": {
        "id": "a4YVw_6oFXWS"
      },
      "execution_count": null,
      "outputs": []
    },
    {
      "cell_type": "code",
      "source": [
        "df_outliers.fillna(df_outliers.median(numeric_only=True), inplace=True)"
      ],
      "metadata": {
        "id": "lhcLk4M2FXWT"
      },
      "execution_count": null,
      "outputs": []
    },
    {
      "cell_type": "markdown",
      "source": [
        "## 7. Seleção de features"
      ],
      "metadata": {
        "id": "IqywkctVFXWT"
      }
    },
    {
      "cell_type": "markdown",
      "source": [
        "Mantemos variáveis numéricas e dummies de mesorregião; descartamos IDs se não necessários."
      ],
      "metadata": {
        "id": "fscaDrwrFXWT"
      }
    },
    {
      "cell_type": "code",
      "source": [
        "num_features = [\n",
        "    'target',\n",
        "    'Municipio',\n",
        "    'Ano',\n",
        "    'latitude',\n",
        "    'longitude',\n",
        "    'altitude',\n",
        "    'Área colhida (Hectares)',\n",
        "    'precipitacao (mm)',\n",
        "    'temperatura minima (ºC)',\n",
        "    'temperatura maxima (ºC)'\n",
        "]\n",
        "cat_features = [\n",
        "  'Mesorregião'\n",
        "]"
      ],
      "metadata": {
        "id": "qAMck04XFXWT"
      },
      "execution_count": null,
      "outputs": []
    },
    {
      "cell_type": "markdown",
      "source": [
        "## 8. Divisão temporal treino/teste (anos ≤ 2015 → treino, ≥ 2016 → teste)"
      ],
      "metadata": {
        "id": "3dVnso-BFXWT"
      }
    },
    {
      "cell_type": "code",
      "source": [
        "dataset_final = df_outliers[num_features + cat_features].copy()\n",
        "\n",
        "dataset_final['split'] = pd.Series(dtype='str')  # Inicializa a coluna com tipo string\n",
        "dataset_final.loc[dataset_final['Ano'] <= 2015, 'split'] = 'train'\n",
        "dataset_final.loc[dataset_final['Ano'] >= 2016, 'split'] = 'test'\n",
        "\n",
        "# Verifica o resultado\n",
        "print(dataset_final['split'].value_counts())"
      ],
      "metadata": {
        "id": "I2KnSXs7FXWT"
      },
      "execution_count": null,
      "outputs": []
    },
    {
      "cell_type": "code",
      "source": [
        "dataset_final.to_csv('dataset_v2.csv', index=False)\n",
        "dataset_final.info()"
      ],
      "metadata": {
        "id": "_uiO9Lm0FXWU"
      },
      "execution_count": null,
      "outputs": []
    },
    {
      "cell_type": "markdown",
      "source": [
        "# Dataset V1 - Todos os atributos"
      ],
      "metadata": {
        "id": "ckZWps2zA6JW"
      }
    },
    {
      "cell_type": "markdown",
      "source": [
        "**Features**\n",
        "- Ano\n",
        "- latitude\n",
        "- longitude\n",
        "- altitude\n",
        "- Área Colhida (hectares)\n",
        "- Valor da produção (Mil Reais)\n",
        "- precipitacao (mm)\n",
        "- temperatura minima (ºC)\n",
        "- temperatura maxima (ºC)\n",
        "- Mesorregião\n",
        "\n",
        "Estimando **quantidade produzida**."
      ],
      "metadata": {
        "id": "P2oN39s0A6JX"
      }
    },
    {
      "cell_type": "markdown",
      "source": [
        "## 2. Merge das bases espacial (meso_id) e temporal (Ano)"
      ],
      "metadata": {
        "id": "pogXtYq4A6JX"
      }
    },
    {
      "cell_type": "code",
      "source": [
        "# Calculando a média anual por municipio\n",
        "clima_anual = indicadores_climaticos.groupby(\n",
        "    ['municipio_id', 'Ano'],\n",
        "    as_index=False\n",
        ").agg({\n",
        "    'Mesorregião_id': 'first',      # Mantém o ID da mesorregião associada ao município\n",
        "    'municipio_nome': 'first',      # Mantém o nome do município (assume que é único por município_id)\n",
        "    'prec_mm': 'mean',              # Média anual da precipitação\n",
        "    'tmax_°C': 'mean',              # Média anual da temperatura máxima\n",
        "    'tmin_°C': 'mean'               # Média anual da temperatura mínima\n",
        "})\n",
        "\n",
        "clima_anual.rename(columns={\n",
        "  'municipio_id': 'Municipio_id',\n",
        "  'prec_mm': 'precipitacao (mm)',\n",
        "  'municipio_nome': 'Municipio',\n",
        "  'tmax_°C': 'temperatura maxima (ºC)',\n",
        "  'tmin_°C': 'temperatura minima (ºC)'\n",
        "}, inplace=True)\n",
        "\n",
        "clima_anual.head(5)"
      ],
      "metadata": {
        "id": "fll6tbikA6JX"
      },
      "execution_count": null,
      "outputs": []
    },
    {
      "cell_type": "code",
      "source": [
        "# Lista de Produtos: 'Café (em grão) Total', 'Café (em grão) Arábica', 'Café (em grão) Canephora'\n",
        "indicadores_IBGE_filtrado = indicadores_IBGE[indicadores_IBGE['Produto']==\"Café (em grão) Total\"].copy()\n",
        "indicadores_IBGE_filtrado.drop(columns=['Produto'], inplace=True)\n",
        "\n",
        "# Renomear as colunas do dataframe georeferenciamento\n",
        "georeferenciamento_renomeado = georeferenciamento.rename(columns={\n",
        "    'municipio_id': 'Municipio_id',\n",
        "    'lat': 'latitude',\n",
        "    'lon': 'longitude',\n",
        "    'alt': 'altitude'\n",
        "})\n",
        "\n",
        "# Selecionar as colunas desejadas de cada dataframe\n",
        "colunas_clima = ['Municipio_id', 'Ano', 'precipitacao (mm)', 'temperatura maxima (ºC)', 'temperatura minima (ºC)']\n",
        "colunas_ibge = [\n",
        "    'Mesorregião_id', 'Mesorregião', 'Municipio_id', 'Municipio', 'Ano',\n",
        "    'Área destinada à colheita (Hectares)', 'Área colhida (Hectares)',\n",
        "    'Quantidade produzida (Toneladas)', 'Rendimento médio da produção (Quilogramas por Hectare)',\n",
        "    'Valor da produção (Mil Reais)'\n",
        "]\n",
        "colunas_geo = ['Municipio_id', 'latitude', 'longitude', 'altitude']\n",
        "\n",
        "# Filtrar os dataframes pelas colunas desejadas\n",
        "clima_filtrado = clima_anual[colunas_clima]\n",
        "ibge_filtrado = indicadores_IBGE_filtrado[colunas_ibge]\n",
        "geo_filtrado = georeferenciamento_renomeado[colunas_geo]"
      ],
      "metadata": {
        "id": "tseMumRnA6JX"
      },
      "execution_count": null,
      "outputs": []
    },
    {
      "cell_type": "code",
      "source": [
        "# Mesclar clima_filtrado e ibge_filtrado usando Municipio_id e Ano como chaves\n",
        "df_mesclado = pd.merge(clima_filtrado, ibge_filtrado, on=['Municipio_id', 'Ano'], how='inner')\n",
        "\n",
        "# Mesclar o resultado com geo_filtrado usando Municipio_id como chave\n",
        "df_merge = pd.merge(df_mesclado, geo_filtrado, on='Municipio_id', how='inner')\n",
        "\n",
        "df_merge.head(2)"
      ],
      "metadata": {
        "id": "iZviCJToA6JY"
      },
      "execution_count": null,
      "outputs": []
    },
    {
      "cell_type": "code",
      "source": [
        "# 1) Cria uma cópia para não alterar o original\n",
        "df_escalado = df_merge.copy()\n",
        "\n",
        "# Garante que as colunas numéricas estejam no tipo correto\n",
        "df_escalado['Área colhida (Hectares)'] = pd.to_numeric(df_escalado['Área colhida (Hectares)'], errors='coerce')\n",
        "df_escalado['Quantidade produzida (Toneladas)'] = pd.to_numeric(df_escalado['Quantidade produzida (Toneladas)'], errors='coerce')\n",
        "\n",
        "df_escalado.head(2)"
      ],
      "metadata": {
        "id": "zgyjaHSOA6JY"
      },
      "execution_count": null,
      "outputs": []
    },
    {
      "cell_type": "markdown",
      "source": [
        "## 3. Filtrar período de interesse (1995–2023)"
      ],
      "metadata": {
        "id": "BkOQsHj_A6JY"
      }
    },
    {
      "cell_type": "code",
      "source": [
        "df_periodo = df_escalado[(df_escalado['Ano'] >= 1995) & (df_escalado['Ano'] <= 2023)].copy()"
      ],
      "metadata": {
        "id": "-o4pqTmnA6JY"
      },
      "execution_count": null,
      "outputs": []
    },
    {
      "cell_type": "markdown",
      "source": [
        "## 4. Criar variável-alvo: Quantidade produzida em MIL TONELADAS"
      ],
      "metadata": {
        "id": "Gh2ynMOKA6JY"
      }
    },
    {
      "cell_type": "code",
      "source": [
        "coluna_alvo = 'Quantidade produzida (Toneladas)'\n",
        "df_target = df_periodo.rename(columns={coluna_alvo: 'target'})"
      ],
      "metadata": {
        "id": "ZMxL9EfFA6JY"
      },
      "execution_count": null,
      "outputs": []
    },
    {
      "cell_type": "markdown",
      "source": [
        "## 5. Remoção de outliers usando critério de desvio‑padrão (±3σ)"
      ],
      "metadata": {
        "id": "ViTIa7T-A6JZ"
      }
    },
    {
      "cell_type": "code",
      "source": [
        "df_target[[\"target\"]].describe()"
      ],
      "metadata": {
        "id": "Wu8_PS9_A6JZ"
      },
      "execution_count": null,
      "outputs": []
    },
    {
      "cell_type": "code",
      "source": [
        "print(len(df_target))\n",
        "\n",
        "valor = 3\n",
        "y = df_target['target']\n",
        "mean_y, std_y = y.mean(), y.std()\n",
        "mask = (y >= mean_y - valor*std_y) & (y <= mean_y + valor*std_y)\n",
        "df_outliers = df_target.loc[mask].reset_index(drop=True)\n",
        "print(len(df_outliers))"
      ],
      "metadata": {
        "id": "tqQh6-14A6JZ"
      },
      "execution_count": null,
      "outputs": []
    },
    {
      "cell_type": "code",
      "source": [
        "df_outliers[[\"target\"]].describe()"
      ],
      "metadata": {
        "id": "BT-sAxzgA6JZ"
      },
      "execution_count": null,
      "outputs": []
    },
    {
      "cell_type": "markdown",
      "source": [
        "## 6. Imputação de faltantes: aqui usamos mediana (poderia ser média ou KNN)"
      ],
      "metadata": {
        "id": "26pQU9ebA6JZ"
      }
    },
    {
      "cell_type": "code",
      "source": [
        "# Antes da imputação\n",
        "dados_faltantes_antes = df_outliers.isnull().sum()\n",
        "print(\"Dados faltantes antes da imputação:\\n\", dados_faltantes_antes)"
      ],
      "metadata": {
        "id": "VYRGrmf1A6JZ"
      },
      "execution_count": null,
      "outputs": []
    },
    {
      "cell_type": "code",
      "source": [
        "df_outliers.fillna(df_outliers.median(numeric_only=True), inplace=True)"
      ],
      "metadata": {
        "id": "qwb97_sRA6JZ"
      },
      "execution_count": null,
      "outputs": []
    },
    {
      "cell_type": "markdown",
      "source": [
        "## 7. Seleção de features"
      ],
      "metadata": {
        "id": "ShAWGchpA6Ja"
      }
    },
    {
      "cell_type": "markdown",
      "source": [
        "Mantemos variáveis numéricas e dummies de mesorregião; descartamos IDs se não necessários. \\\n",
        "Comentário: meso_id, lat, lon, altitude_m não entram no modelo após one-hot"
      ],
      "metadata": {
        "id": "SwzSIY3oA6Ja"
      }
    },
    {
      "cell_type": "code",
      "source": [
        "num_features = [\n",
        "    'target',\n",
        "    'Municipio',\n",
        "    'Ano',\n",
        "    'latitude',\n",
        "    'longitude',\n",
        "    'altitude',\n",
        "    'Área colhida (Hectares)',\n",
        "    'Valor da produção (Mil Reais)',\n",
        "    'precipitacao (mm)',\n",
        "    'temperatura minima (ºC)',\n",
        "    'temperatura maxima (ºC)'\n",
        "]\n",
        "cat_features = [\n",
        "  'Mesorregião'\n",
        "]"
      ],
      "metadata": {
        "id": "rRmHzJJxA6Ja"
      },
      "execution_count": null,
      "outputs": []
    },
    {
      "cell_type": "markdown",
      "source": [
        "## 8. Divisão temporal treino/teste (anos ≤ 2009 → treino, ≥ 2010 → teste)"
      ],
      "metadata": {
        "id": "vE9tVHqPA6Ja"
      }
    },
    {
      "cell_type": "code",
      "source": [
        "dataset_final = df_outliers[num_features + cat_features].copy()\n",
        "\n",
        "dataset_final['split'] = pd.Series(dtype='str')  # Inicializa a coluna com tipo string\n",
        "dataset_final.loc[dataset_final['Ano'] <= 2015, 'split'] = 'train'\n",
        "dataset_final.loc[dataset_final['Ano'] >= 2016, 'split'] = 'test'\n",
        "\n",
        "# Verifica o resultado\n",
        "print(dataset_final['split'].value_counts())"
      ],
      "metadata": {
        "id": "AFsvHXFZA6Ja"
      },
      "execution_count": null,
      "outputs": []
    },
    {
      "cell_type": "code",
      "source": [
        "dataset_final.to_csv('dataset_v1.csv', index=False)\n",
        "dataset_final.info()"
      ],
      "metadata": {
        "id": "HMHNLYZ_A6Ja"
      },
      "execution_count": null,
      "outputs": []
    }
  ]
}