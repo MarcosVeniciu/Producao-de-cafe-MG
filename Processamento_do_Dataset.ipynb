{
  "nbformat": 4,
  "nbformat_minor": 0,
  "metadata": {
    "colab": {
      "provenance": [],
      "collapsed_sections": [
        "zXZ4WPGRw_zi",
        "uCjAFeS-vLLT",
        "2pPFONR05Aa2",
        "kXvpkxnoMCyw",
        "RoHUpTkWFXWP",
        "jkJU_dD7FXWQ",
        "ckZWps2zA6JW"
      ],
      "authorship_tag": "ABX9TyOOICM0x6SKUfOcYzo4I7Km",
      "include_colab_link": true
    },
    "kernelspec": {
      "name": "python3",
      "display_name": "Python 3"
    },
    "language_info": {
      "name": "python"
    }
  },
  "cells": [
    {
      "cell_type": "markdown",
      "metadata": {
        "id": "view-in-github",
        "colab_type": "text"
      },
      "source": [
        "<a href=\"https://colab.research.google.com/github/MarcosVeniciu/Producao-de-cafe-MG/blob/main/Processamento_do_Dataset.ipynb\" target=\"_parent\"><img src=\"https://colab.research.google.com/assets/colab-badge.svg\" alt=\"Open In Colab\"/></a>"
      ]
    },
    {
      "cell_type": "markdown",
      "source": [
        "#1. Carregar dataframes"
      ],
      "metadata": {
        "id": "zXZ4WPGRw_zi"
      }
    },
    {
      "cell_type": "code",
      "source": [
        "import pandas as pd\n",
        "import numpy as np"
      ],
      "metadata": {
        "id": "LPyyoqv_xM6U"
      },
      "execution_count": 1,
      "outputs": []
    },
    {
      "cell_type": "code",
      "execution_count": 2,
      "metadata": {
        "id": "mLjkmUUBdiLU"
      },
      "outputs": [],
      "source": [
        "indicadores_IBGE = pd.read_excel('/content/Indicadores IBGE por Municipio - 1995 a 2023.xlsx')\n",
        "indicadores_climaticos = pd.read_csv('/content/climate_por_municipio_1990_2024.csv')\n",
        "georeferenciamento = pd.read_excel('/content/municipios_georeferenciamento.xlsx')"
      ]
    },
    {
      "cell_type": "code",
      "source": [
        "indicadores_IBGE.info()"
      ],
      "metadata": {
        "colab": {
          "base_uri": "https://localhost:8080/"
        },
        "id": "TxrYzenqumUR",
        "outputId": "49eab17f-f55a-4a2b-f9ff-7f4dd1e4901c"
      },
      "execution_count": 3,
      "outputs": [
        {
          "output_type": "stream",
          "name": "stdout",
          "text": [
            "<class 'pandas.core.frame.DataFrame'>\n",
            "RangeIndex: 74124 entries, 0 to 74123\n",
            "Data columns (total 11 columns):\n",
            " #   Column                                                  Non-Null Count  Dtype  \n",
            "---  ------                                                  --------------  -----  \n",
            " 0   Mesorregião_id                                          74124 non-null  int64  \n",
            " 1   Mesorregião                                             74124 non-null  object \n",
            " 2   Municipio_id                                            74124 non-null  int64  \n",
            " 3   Municipio                                               74124 non-null  object \n",
            " 4   Produto                                                 74124 non-null  object \n",
            " 5   Ano                                                     74124 non-null  int64  \n",
            " 6   Área destinada à colheita (Hectares)                    24163 non-null  float64\n",
            " 7   Área colhida (Hectares)                                 24155 non-null  float64\n",
            " 8   Quantidade produzida (Toneladas)                        24155 non-null  float64\n",
            " 9   Rendimento médio da produção (Quilogramas por Hectare)  24151 non-null  float64\n",
            " 10  Valor da produção (Mil Reais)                           24156 non-null  float64\n",
            "dtypes: float64(5), int64(3), object(3)\n",
            "memory usage: 6.2+ MB\n"
          ]
        }
      ]
    },
    {
      "cell_type": "code",
      "source": [
        "indicadores_climaticos.info()"
      ],
      "metadata": {
        "colab": {
          "base_uri": "https://localhost:8080/"
        },
        "id": "lvQu-WHzur_D",
        "outputId": "a3d82b47-f419-4bfd-8689-4da3b8291ebb"
      },
      "execution_count": 4,
      "outputs": [
        {
          "output_type": "stream",
          "name": "stdout",
          "text": [
            "<class 'pandas.core.frame.DataFrame'>\n",
            "RangeIndex: 357840 entries, 0 to 357839\n",
            "Data columns (total 8 columns):\n",
            " #   Column          Non-Null Count   Dtype  \n",
            "---  ------          --------------   -----  \n",
            " 0   Mesorregião_id  357840 non-null  int64  \n",
            " 1   municipio_id    357840 non-null  int64  \n",
            " 2   municipio_nome  357840 non-null  object \n",
            " 3   Ano             357840 non-null  int64  \n",
            " 4   Mês             357840 non-null  int64  \n",
            " 5   prec_mm         357840 non-null  float64\n",
            " 6   tmax_°C         357840 non-null  float64\n",
            " 7   tmin_°C         357840 non-null  float64\n",
            "dtypes: float64(3), int64(4), object(1)\n",
            "memory usage: 21.8+ MB\n"
          ]
        }
      ]
    },
    {
      "cell_type": "code",
      "source": [
        "georeferenciamento.info()"
      ],
      "metadata": {
        "colab": {
          "base_uri": "https://localhost:8080/"
        },
        "id": "0ydQcdhoutce",
        "outputId": "23df1443-eee1-419e-8121-4160ed4179a2"
      },
      "execution_count": 5,
      "outputs": [
        {
          "output_type": "stream",
          "name": "stdout",
          "text": [
            "<class 'pandas.core.frame.DataFrame'>\n",
            "RangeIndex: 852 entries, 0 to 851\n",
            "Data columns (total 6 columns):\n",
            " #   Column          Non-Null Count  Dtype  \n",
            "---  ------          --------------  -----  \n",
            " 0   Mesorregião_id  852 non-null    int64  \n",
            " 1   municipio_id    852 non-null    int64  \n",
            " 2   municipio_nome  852 non-null    object \n",
            " 3   lat             852 non-null    float64\n",
            " 4   lon             852 non-null    float64\n",
            " 5   alt             852 non-null    int64  \n",
            "dtypes: float64(2), int64(3), object(1)\n",
            "memory usage: 40.1+ KB\n"
          ]
        }
      ]
    },
    {
      "cell_type": "markdown",
      "source": [
        "# Dataset V5 - Produção (1995-2023) - Serie temporal\n"
      ],
      "metadata": {
        "id": "uCjAFeS-vLLT"
      }
    },
    {
      "cell_type": "markdown",
      "source": [
        "**Features**\n",
        "- Ano\n",
        "- latitude\n",
        "- longitude\n",
        "- altitude\n",
        "- Área Colhida (mil hectares) (área plantada)\n",
        "- ~~Valor da produção (Mil Reais)~~\n",
        "- precipitacao (mm)\n",
        "- temperatura minima (ºC)\n",
        "- temperatura maxima (ºC)\n",
        "- Mesorregião\n",
        "\n",
        "Estimando **produção em Toneladas**."
      ],
      "metadata": {
        "id": "3gvsnUwlvLLT"
      }
    },
    {
      "cell_type": "markdown",
      "source": [
        "## 2. Merge das bases espacial (meso_id) e temporal (Ano)"
      ],
      "metadata": {
        "id": "kdM8D5-zvLLU"
      }
    },
    {
      "cell_type": "code",
      "source": [
        "# Calculando a média anual por municipio\n",
        "clima_anual = indicadores_climaticos.groupby(\n",
        "    ['municipio_id', 'Ano'],\n",
        "    as_index=False\n",
        ").agg({\n",
        "    'Mesorregião_id': 'first',      # Mantém o ID da mesorregião associada ao município\n",
        "    'municipio_nome': 'first',      # Mantém o nome do município (assume que é único por município_id)\n",
        "    'prec_mm': 'mean',              # Média anual da precipitação\n",
        "    'tmax_°C': 'mean',              # Média anual da temperatura máxima\n",
        "    'tmin_°C': 'mean'               # Média anual da temperatura mínima\n",
        "})\n",
        "\n",
        "clima_anual.rename(columns={\n",
        "  'municipio_id': 'Municipio_id',\n",
        "  'prec_mm': 'precipitacao (mm)',\n",
        "  'municipio_nome': 'Municipio',\n",
        "  'tmax_°C': 'temperatura maxima (ºC)',\n",
        "  'tmin_°C': 'temperatura minima (ºC)'\n",
        "}, inplace=True)\n",
        "\n",
        "clima_anual.head(5)"
      ],
      "metadata": {
        "colab": {
          "base_uri": "https://localhost:8080/",
          "height": 206
        },
        "outputId": "cf8ac37a-b956-4b98-da06-628f01fc8209",
        "id": "DZB4HLGPvLLU"
      },
      "execution_count": 6,
      "outputs": [
        {
          "output_type": "execute_result",
          "data": {
            "text/plain": [
              "   Municipio_id   Ano  Mesorregião_id                 Municipio  \\\n",
              "0       3100104  1990            3105  Abadia dos Dourados - MG   \n",
              "1       3100104  1991            3105  Abadia dos Dourados - MG   \n",
              "2       3100104  1992            3105  Abadia dos Dourados - MG   \n",
              "3       3100104  1993            3105  Abadia dos Dourados - MG   \n",
              "4       3100104  1994            3105  Abadia dos Dourados - MG   \n",
              "\n",
              "   precipitacao (mm)  temperatura maxima (ºC)  temperatura minima (ºC)  \n",
              "0          91.475000                27.583333                16.083333  \n",
              "1         134.041667                27.333333                16.000000  \n",
              "2         158.658334                26.833333                16.000000  \n",
              "3         113.283333                27.666667                16.000000  \n",
              "4         120.783331                27.666667                16.250000  "
            ],
            "text/html": [
              "\n",
              "  <div id=\"df-1c78ad32-980f-463d-8c2a-2b70d6e41347\" class=\"colab-df-container\">\n",
              "    <div>\n",
              "<style scoped>\n",
              "    .dataframe tbody tr th:only-of-type {\n",
              "        vertical-align: middle;\n",
              "    }\n",
              "\n",
              "    .dataframe tbody tr th {\n",
              "        vertical-align: top;\n",
              "    }\n",
              "\n",
              "    .dataframe thead th {\n",
              "        text-align: right;\n",
              "    }\n",
              "</style>\n",
              "<table border=\"1\" class=\"dataframe\">\n",
              "  <thead>\n",
              "    <tr style=\"text-align: right;\">\n",
              "      <th></th>\n",
              "      <th>Municipio_id</th>\n",
              "      <th>Ano</th>\n",
              "      <th>Mesorregião_id</th>\n",
              "      <th>Municipio</th>\n",
              "      <th>precipitacao (mm)</th>\n",
              "      <th>temperatura maxima (ºC)</th>\n",
              "      <th>temperatura minima (ºC)</th>\n",
              "    </tr>\n",
              "  </thead>\n",
              "  <tbody>\n",
              "    <tr>\n",
              "      <th>0</th>\n",
              "      <td>3100104</td>\n",
              "      <td>1990</td>\n",
              "      <td>3105</td>\n",
              "      <td>Abadia dos Dourados - MG</td>\n",
              "      <td>91.475000</td>\n",
              "      <td>27.583333</td>\n",
              "      <td>16.083333</td>\n",
              "    </tr>\n",
              "    <tr>\n",
              "      <th>1</th>\n",
              "      <td>3100104</td>\n",
              "      <td>1991</td>\n",
              "      <td>3105</td>\n",
              "      <td>Abadia dos Dourados - MG</td>\n",
              "      <td>134.041667</td>\n",
              "      <td>27.333333</td>\n",
              "      <td>16.000000</td>\n",
              "    </tr>\n",
              "    <tr>\n",
              "      <th>2</th>\n",
              "      <td>3100104</td>\n",
              "      <td>1992</td>\n",
              "      <td>3105</td>\n",
              "      <td>Abadia dos Dourados - MG</td>\n",
              "      <td>158.658334</td>\n",
              "      <td>26.833333</td>\n",
              "      <td>16.000000</td>\n",
              "    </tr>\n",
              "    <tr>\n",
              "      <th>3</th>\n",
              "      <td>3100104</td>\n",
              "      <td>1993</td>\n",
              "      <td>3105</td>\n",
              "      <td>Abadia dos Dourados - MG</td>\n",
              "      <td>113.283333</td>\n",
              "      <td>27.666667</td>\n",
              "      <td>16.000000</td>\n",
              "    </tr>\n",
              "    <tr>\n",
              "      <th>4</th>\n",
              "      <td>3100104</td>\n",
              "      <td>1994</td>\n",
              "      <td>3105</td>\n",
              "      <td>Abadia dos Dourados - MG</td>\n",
              "      <td>120.783331</td>\n",
              "      <td>27.666667</td>\n",
              "      <td>16.250000</td>\n",
              "    </tr>\n",
              "  </tbody>\n",
              "</table>\n",
              "</div>\n",
              "    <div class=\"colab-df-buttons\">\n",
              "\n",
              "  <div class=\"colab-df-container\">\n",
              "    <button class=\"colab-df-convert\" onclick=\"convertToInteractive('df-1c78ad32-980f-463d-8c2a-2b70d6e41347')\"\n",
              "            title=\"Convert this dataframe to an interactive table.\"\n",
              "            style=\"display:none;\">\n",
              "\n",
              "  <svg xmlns=\"http://www.w3.org/2000/svg\" height=\"24px\" viewBox=\"0 -960 960 960\">\n",
              "    <path d=\"M120-120v-720h720v720H120Zm60-500h600v-160H180v160Zm220 220h160v-160H400v160Zm0 220h160v-160H400v160ZM180-400h160v-160H180v160Zm440 0h160v-160H620v160ZM180-180h160v-160H180v160Zm440 0h160v-160H620v160Z\"/>\n",
              "  </svg>\n",
              "    </button>\n",
              "\n",
              "  <style>\n",
              "    .colab-df-container {\n",
              "      display:flex;\n",
              "      gap: 12px;\n",
              "    }\n",
              "\n",
              "    .colab-df-convert {\n",
              "      background-color: #E8F0FE;\n",
              "      border: none;\n",
              "      border-radius: 50%;\n",
              "      cursor: pointer;\n",
              "      display: none;\n",
              "      fill: #1967D2;\n",
              "      height: 32px;\n",
              "      padding: 0 0 0 0;\n",
              "      width: 32px;\n",
              "    }\n",
              "\n",
              "    .colab-df-convert:hover {\n",
              "      background-color: #E2EBFA;\n",
              "      box-shadow: 0px 1px 2px rgba(60, 64, 67, 0.3), 0px 1px 3px 1px rgba(60, 64, 67, 0.15);\n",
              "      fill: #174EA6;\n",
              "    }\n",
              "\n",
              "    .colab-df-buttons div {\n",
              "      margin-bottom: 4px;\n",
              "    }\n",
              "\n",
              "    [theme=dark] .colab-df-convert {\n",
              "      background-color: #3B4455;\n",
              "      fill: #D2E3FC;\n",
              "    }\n",
              "\n",
              "    [theme=dark] .colab-df-convert:hover {\n",
              "      background-color: #434B5C;\n",
              "      box-shadow: 0px 1px 3px 1px rgba(0, 0, 0, 0.15);\n",
              "      filter: drop-shadow(0px 1px 2px rgba(0, 0, 0, 0.3));\n",
              "      fill: #FFFFFF;\n",
              "    }\n",
              "  </style>\n",
              "\n",
              "    <script>\n",
              "      const buttonEl =\n",
              "        document.querySelector('#df-1c78ad32-980f-463d-8c2a-2b70d6e41347 button.colab-df-convert');\n",
              "      buttonEl.style.display =\n",
              "        google.colab.kernel.accessAllowed ? 'block' : 'none';\n",
              "\n",
              "      async function convertToInteractive(key) {\n",
              "        const element = document.querySelector('#df-1c78ad32-980f-463d-8c2a-2b70d6e41347');\n",
              "        const dataTable =\n",
              "          await google.colab.kernel.invokeFunction('convertToInteractive',\n",
              "                                                    [key], {});\n",
              "        if (!dataTable) return;\n",
              "\n",
              "        const docLinkHtml = 'Like what you see? Visit the ' +\n",
              "          '<a target=\"_blank\" href=https://colab.research.google.com/notebooks/data_table.ipynb>data table notebook</a>'\n",
              "          + ' to learn more about interactive tables.';\n",
              "        element.innerHTML = '';\n",
              "        dataTable['output_type'] = 'display_data';\n",
              "        await google.colab.output.renderOutput(dataTable, element);\n",
              "        const docLink = document.createElement('div');\n",
              "        docLink.innerHTML = docLinkHtml;\n",
              "        element.appendChild(docLink);\n",
              "      }\n",
              "    </script>\n",
              "  </div>\n",
              "\n",
              "\n",
              "    <div id=\"df-2f089068-ce69-48d6-96b8-33e032a9f13b\">\n",
              "      <button class=\"colab-df-quickchart\" onclick=\"quickchart('df-2f089068-ce69-48d6-96b8-33e032a9f13b')\"\n",
              "                title=\"Suggest charts\"\n",
              "                style=\"display:none;\">\n",
              "\n",
              "<svg xmlns=\"http://www.w3.org/2000/svg\" height=\"24px\"viewBox=\"0 0 24 24\"\n",
              "     width=\"24px\">\n",
              "    <g>\n",
              "        <path d=\"M19 3H5c-1.1 0-2 .9-2 2v14c0 1.1.9 2 2 2h14c1.1 0 2-.9 2-2V5c0-1.1-.9-2-2-2zM9 17H7v-7h2v7zm4 0h-2V7h2v10zm4 0h-2v-4h2v4z\"/>\n",
              "    </g>\n",
              "</svg>\n",
              "      </button>\n",
              "\n",
              "<style>\n",
              "  .colab-df-quickchart {\n",
              "      --bg-color: #E8F0FE;\n",
              "      --fill-color: #1967D2;\n",
              "      --hover-bg-color: #E2EBFA;\n",
              "      --hover-fill-color: #174EA6;\n",
              "      --disabled-fill-color: #AAA;\n",
              "      --disabled-bg-color: #DDD;\n",
              "  }\n",
              "\n",
              "  [theme=dark] .colab-df-quickchart {\n",
              "      --bg-color: #3B4455;\n",
              "      --fill-color: #D2E3FC;\n",
              "      --hover-bg-color: #434B5C;\n",
              "      --hover-fill-color: #FFFFFF;\n",
              "      --disabled-bg-color: #3B4455;\n",
              "      --disabled-fill-color: #666;\n",
              "  }\n",
              "\n",
              "  .colab-df-quickchart {\n",
              "    background-color: var(--bg-color);\n",
              "    border: none;\n",
              "    border-radius: 50%;\n",
              "    cursor: pointer;\n",
              "    display: none;\n",
              "    fill: var(--fill-color);\n",
              "    height: 32px;\n",
              "    padding: 0;\n",
              "    width: 32px;\n",
              "  }\n",
              "\n",
              "  .colab-df-quickchart:hover {\n",
              "    background-color: var(--hover-bg-color);\n",
              "    box-shadow: 0 1px 2px rgba(60, 64, 67, 0.3), 0 1px 3px 1px rgba(60, 64, 67, 0.15);\n",
              "    fill: var(--button-hover-fill-color);\n",
              "  }\n",
              "\n",
              "  .colab-df-quickchart-complete:disabled,\n",
              "  .colab-df-quickchart-complete:disabled:hover {\n",
              "    background-color: var(--disabled-bg-color);\n",
              "    fill: var(--disabled-fill-color);\n",
              "    box-shadow: none;\n",
              "  }\n",
              "\n",
              "  .colab-df-spinner {\n",
              "    border: 2px solid var(--fill-color);\n",
              "    border-color: transparent;\n",
              "    border-bottom-color: var(--fill-color);\n",
              "    animation:\n",
              "      spin 1s steps(1) infinite;\n",
              "  }\n",
              "\n",
              "  @keyframes spin {\n",
              "    0% {\n",
              "      border-color: transparent;\n",
              "      border-bottom-color: var(--fill-color);\n",
              "      border-left-color: var(--fill-color);\n",
              "    }\n",
              "    20% {\n",
              "      border-color: transparent;\n",
              "      border-left-color: var(--fill-color);\n",
              "      border-top-color: var(--fill-color);\n",
              "    }\n",
              "    30% {\n",
              "      border-color: transparent;\n",
              "      border-left-color: var(--fill-color);\n",
              "      border-top-color: var(--fill-color);\n",
              "      border-right-color: var(--fill-color);\n",
              "    }\n",
              "    40% {\n",
              "      border-color: transparent;\n",
              "      border-right-color: var(--fill-color);\n",
              "      border-top-color: var(--fill-color);\n",
              "    }\n",
              "    60% {\n",
              "      border-color: transparent;\n",
              "      border-right-color: var(--fill-color);\n",
              "    }\n",
              "    80% {\n",
              "      border-color: transparent;\n",
              "      border-right-color: var(--fill-color);\n",
              "      border-bottom-color: var(--fill-color);\n",
              "    }\n",
              "    90% {\n",
              "      border-color: transparent;\n",
              "      border-bottom-color: var(--fill-color);\n",
              "    }\n",
              "  }\n",
              "</style>\n",
              "\n",
              "      <script>\n",
              "        async function quickchart(key) {\n",
              "          const quickchartButtonEl =\n",
              "            document.querySelector('#' + key + ' button');\n",
              "          quickchartButtonEl.disabled = true;  // To prevent multiple clicks.\n",
              "          quickchartButtonEl.classList.add('colab-df-spinner');\n",
              "          try {\n",
              "            const charts = await google.colab.kernel.invokeFunction(\n",
              "                'suggestCharts', [key], {});\n",
              "          } catch (error) {\n",
              "            console.error('Error during call to suggestCharts:', error);\n",
              "          }\n",
              "          quickchartButtonEl.classList.remove('colab-df-spinner');\n",
              "          quickchartButtonEl.classList.add('colab-df-quickchart-complete');\n",
              "        }\n",
              "        (() => {\n",
              "          let quickchartButtonEl =\n",
              "            document.querySelector('#df-2f089068-ce69-48d6-96b8-33e032a9f13b button');\n",
              "          quickchartButtonEl.style.display =\n",
              "            google.colab.kernel.accessAllowed ? 'block' : 'none';\n",
              "        })();\n",
              "      </script>\n",
              "    </div>\n",
              "\n",
              "    </div>\n",
              "  </div>\n"
            ],
            "application/vnd.google.colaboratory.intrinsic+json": {
              "type": "dataframe",
              "variable_name": "clima_anual",
              "summary": "{\n  \"name\": \"clima_anual\",\n  \"rows\": 29820,\n  \"fields\": [\n    {\n      \"column\": \"Municipio_id\",\n      \"properties\": {\n        \"dtype\": \"number\",\n        \"std\": 20709,\n        \"min\": 3100104,\n        \"max\": 3172202,\n        \"num_unique_values\": 852,\n        \"samples\": [\n          3106309,\n          3138005,\n          3118007\n        ],\n        \"semantic_type\": \"\",\n        \"description\": \"\"\n      }\n    },\n    {\n      \"column\": \"Ano\",\n      \"properties\": {\n        \"dtype\": \"number\",\n        \"std\": 10,\n        \"min\": 1990,\n        \"max\": 2024,\n        \"num_unique_values\": 35,\n        \"samples\": [\n          2016,\n          2003,\n          2014\n        ],\n        \"semantic_type\": \"\",\n        \"description\": \"\"\n      }\n    },\n    {\n      \"column\": \"Mesorregi\\u00e3o_id\",\n      \"properties\": {\n        \"dtype\": \"number\",\n        \"std\": 3,\n        \"min\": 3101,\n        \"max\": 3112,\n        \"num_unique_values\": 12,\n        \"samples\": [\n          3107,\n          3103,\n          3105\n        ],\n        \"semantic_type\": \"\",\n        \"description\": \"\"\n      }\n    },\n    {\n      \"column\": \"Municipio\",\n      \"properties\": {\n        \"dtype\": \"category\",\n        \"num_unique_values\": 852,\n        \"samples\": [\n          \"Belo Oriente - MG\",\n          \"Laranjal - MG\",\n          \"Congonhas - MG\"\n        ],\n        \"semantic_type\": \"\",\n        \"description\": \"\"\n      }\n    },\n    {\n      \"column\": \"precipitacao (mm)\",\n      \"properties\": {\n        \"dtype\": \"number\",\n        \"std\": 25.055338485093657,\n        \"min\": 29.791666607062023,\n        \"max\": 205.9583337455988,\n        \"num_unique_values\": 29598,\n        \"samples\": [\n          75.17500040928523,\n          117.14999888340633,\n          144.4333357810974\n        ],\n        \"semantic_type\": \"\",\n        \"description\": \"\"\n      }\n    },\n    {\n      \"column\": \"temperatura maxima (\\u00baC)\",\n      \"properties\": {\n        \"dtype\": \"number\",\n        \"std\": 1.845648487663455,\n        \"min\": 19.25,\n        \"max\": 32.583333333333336,\n        \"num_unique_values\": 159,\n        \"samples\": [\n          24.5,\n          20.166666666666668,\n          21.083333333333332\n        ],\n        \"semantic_type\": \"\",\n        \"description\": \"\"\n      }\n    },\n    {\n      \"column\": \"temperatura minima (\\u00baC)\",\n      \"properties\": {\n        \"dtype\": \"number\",\n        \"std\": 1.7744718033369562,\n        \"min\": 8.0,\n        \"max\": 20.5,\n        \"num_unique_values\": 151,\n        \"samples\": [\n          12.083333333333334,\n          15.75,\n          11.75\n        ],\n        \"semantic_type\": \"\",\n        \"description\": \"\"\n      }\n    }\n  ]\n}"
            }
          },
          "metadata": {},
          "execution_count": 6
        }
      ]
    },
    {
      "cell_type": "code",
      "source": [
        "# Lista de Produtos: 'Café (em grão) Total', 'Café (em grão) Arábica', 'Café (em grão) Canephora'\n",
        "indicadores_IBGE_filtrado = indicadores_IBGE[indicadores_IBGE['Produto']==\"Café (em grão) Total\"].copy()\n",
        "indicadores_IBGE_filtrado.drop(columns=['Produto'], inplace=True)\n",
        "\n",
        "# Renomear as colunas do dataframe georeferenciamento\n",
        "georeferenciamento_renomeado = georeferenciamento.rename(columns={\n",
        "    'municipio_id': 'Municipio_id',\n",
        "    'lat': 'latitude',\n",
        "    'lon': 'longitude',\n",
        "    'alt': 'altitude'\n",
        "})\n",
        "\n",
        "# Selecionar as colunas desejadas de cada dataframe\n",
        "colunas_clima = ['Municipio_id', 'Ano', 'precipitacao (mm)', 'temperatura maxima (ºC)', 'temperatura minima (ºC)']\n",
        "colunas_ibge = [\n",
        "    'Mesorregião_id', 'Mesorregião', 'Municipio_id', 'Municipio', 'Ano',\n",
        "    'Área destinada à colheita (Hectares)', 'Área colhida (Hectares)',\n",
        "    'Quantidade produzida (Toneladas)', 'Rendimento médio da produção (Quilogramas por Hectare)',\n",
        "    'Valor da produção (Mil Reais)'\n",
        "]\n",
        "colunas_geo = ['Municipio_id', 'latitude', 'longitude', 'altitude']\n",
        "\n",
        "# Filtrar os dataframes pelas colunas desejadas\n",
        "clima_filtrado = clima_anual[colunas_clima]\n",
        "ibge_filtrado = indicadores_IBGE_filtrado[colunas_ibge]\n",
        "geo_filtrado = georeferenciamento_renomeado[colunas_geo]"
      ],
      "metadata": {
        "id": "K3NiAZhZvLLU"
      },
      "execution_count": 7,
      "outputs": []
    },
    {
      "cell_type": "code",
      "source": [
        "# Mesclar clima_filtrado e ibge_filtrado usando Municipio_id e Ano como chaves\n",
        "df_mesclado = pd.merge(clima_filtrado, ibge_filtrado, on=['Municipio_id', 'Ano'], how='inner')\n",
        "\n",
        "# Mesclar o resultado com geo_filtrado usando Municipio_id como chave\n",
        "df_merge = pd.merge(df_mesclado, geo_filtrado, on='Municipio_id', how='inner')\n",
        "\n",
        "df_merge.head(1)"
      ],
      "metadata": {
        "colab": {
          "base_uri": "https://localhost:8080/",
          "height": 222
        },
        "outputId": "42aa91f0-981a-4acc-a270-ba31364c86c7",
        "id": "maBhV7OVvLLU"
      },
      "execution_count": 8,
      "outputs": [
        {
          "output_type": "execute_result",
          "data": {
            "text/plain": [
              "   Municipio_id   Ano  precipitacao (mm)  temperatura maxima (ºC)  \\\n",
              "0       3100104  1995         115.041666                    27.75   \n",
              "\n",
              "   temperatura minima (ºC)  Mesorregião_id                       Mesorregião  \\\n",
              "0                    16.75            3105  Triângulo Mineiro/Alto Paranaíba   \n",
              "\n",
              "                  Municipio  Área destinada à colheita (Hectares)  \\\n",
              "0  Abadia dos Dourados - MG                                 160.0   \n",
              "\n",
              "   Área colhida (Hectares)  Quantidade produzida (Toneladas)  \\\n",
              "0                    160.0                             269.0   \n",
              "\n",
              "   Rendimento médio da produção (Quilogramas por Hectare)  \\\n",
              "0                                             1681.0        \n",
              "\n",
              "   Valor da produção (Mil Reais)  latitude  longitude  altitude  \n",
              "0                          592.0 -18.35296 -47.459129       808  "
            ],
            "text/html": [
              "\n",
              "  <div id=\"df-638b09d0-d8bf-4d84-99d8-2101a38fdc0e\" class=\"colab-df-container\">\n",
              "    <div>\n",
              "<style scoped>\n",
              "    .dataframe tbody tr th:only-of-type {\n",
              "        vertical-align: middle;\n",
              "    }\n",
              "\n",
              "    .dataframe tbody tr th {\n",
              "        vertical-align: top;\n",
              "    }\n",
              "\n",
              "    .dataframe thead th {\n",
              "        text-align: right;\n",
              "    }\n",
              "</style>\n",
              "<table border=\"1\" class=\"dataframe\">\n",
              "  <thead>\n",
              "    <tr style=\"text-align: right;\">\n",
              "      <th></th>\n",
              "      <th>Municipio_id</th>\n",
              "      <th>Ano</th>\n",
              "      <th>precipitacao (mm)</th>\n",
              "      <th>temperatura maxima (ºC)</th>\n",
              "      <th>temperatura minima (ºC)</th>\n",
              "      <th>Mesorregião_id</th>\n",
              "      <th>Mesorregião</th>\n",
              "      <th>Municipio</th>\n",
              "      <th>Área destinada à colheita (Hectares)</th>\n",
              "      <th>Área colhida (Hectares)</th>\n",
              "      <th>Quantidade produzida (Toneladas)</th>\n",
              "      <th>Rendimento médio da produção (Quilogramas por Hectare)</th>\n",
              "      <th>Valor da produção (Mil Reais)</th>\n",
              "      <th>latitude</th>\n",
              "      <th>longitude</th>\n",
              "      <th>altitude</th>\n",
              "    </tr>\n",
              "  </thead>\n",
              "  <tbody>\n",
              "    <tr>\n",
              "      <th>0</th>\n",
              "      <td>3100104</td>\n",
              "      <td>1995</td>\n",
              "      <td>115.041666</td>\n",
              "      <td>27.75</td>\n",
              "      <td>16.75</td>\n",
              "      <td>3105</td>\n",
              "      <td>Triângulo Mineiro/Alto Paranaíba</td>\n",
              "      <td>Abadia dos Dourados - MG</td>\n",
              "      <td>160.0</td>\n",
              "      <td>160.0</td>\n",
              "      <td>269.0</td>\n",
              "      <td>1681.0</td>\n",
              "      <td>592.0</td>\n",
              "      <td>-18.35296</td>\n",
              "      <td>-47.459129</td>\n",
              "      <td>808</td>\n",
              "    </tr>\n",
              "  </tbody>\n",
              "</table>\n",
              "</div>\n",
              "    <div class=\"colab-df-buttons\">\n",
              "\n",
              "  <div class=\"colab-df-container\">\n",
              "    <button class=\"colab-df-convert\" onclick=\"convertToInteractive('df-638b09d0-d8bf-4d84-99d8-2101a38fdc0e')\"\n",
              "            title=\"Convert this dataframe to an interactive table.\"\n",
              "            style=\"display:none;\">\n",
              "\n",
              "  <svg xmlns=\"http://www.w3.org/2000/svg\" height=\"24px\" viewBox=\"0 -960 960 960\">\n",
              "    <path d=\"M120-120v-720h720v720H120Zm60-500h600v-160H180v160Zm220 220h160v-160H400v160Zm0 220h160v-160H400v160ZM180-400h160v-160H180v160Zm440 0h160v-160H620v160ZM180-180h160v-160H180v160Zm440 0h160v-160H620v160Z\"/>\n",
              "  </svg>\n",
              "    </button>\n",
              "\n",
              "  <style>\n",
              "    .colab-df-container {\n",
              "      display:flex;\n",
              "      gap: 12px;\n",
              "    }\n",
              "\n",
              "    .colab-df-convert {\n",
              "      background-color: #E8F0FE;\n",
              "      border: none;\n",
              "      border-radius: 50%;\n",
              "      cursor: pointer;\n",
              "      display: none;\n",
              "      fill: #1967D2;\n",
              "      height: 32px;\n",
              "      padding: 0 0 0 0;\n",
              "      width: 32px;\n",
              "    }\n",
              "\n",
              "    .colab-df-convert:hover {\n",
              "      background-color: #E2EBFA;\n",
              "      box-shadow: 0px 1px 2px rgba(60, 64, 67, 0.3), 0px 1px 3px 1px rgba(60, 64, 67, 0.15);\n",
              "      fill: #174EA6;\n",
              "    }\n",
              "\n",
              "    .colab-df-buttons div {\n",
              "      margin-bottom: 4px;\n",
              "    }\n",
              "\n",
              "    [theme=dark] .colab-df-convert {\n",
              "      background-color: #3B4455;\n",
              "      fill: #D2E3FC;\n",
              "    }\n",
              "\n",
              "    [theme=dark] .colab-df-convert:hover {\n",
              "      background-color: #434B5C;\n",
              "      box-shadow: 0px 1px 3px 1px rgba(0, 0, 0, 0.15);\n",
              "      filter: drop-shadow(0px 1px 2px rgba(0, 0, 0, 0.3));\n",
              "      fill: #FFFFFF;\n",
              "    }\n",
              "  </style>\n",
              "\n",
              "    <script>\n",
              "      const buttonEl =\n",
              "        document.querySelector('#df-638b09d0-d8bf-4d84-99d8-2101a38fdc0e button.colab-df-convert');\n",
              "      buttonEl.style.display =\n",
              "        google.colab.kernel.accessAllowed ? 'block' : 'none';\n",
              "\n",
              "      async function convertToInteractive(key) {\n",
              "        const element = document.querySelector('#df-638b09d0-d8bf-4d84-99d8-2101a38fdc0e');\n",
              "        const dataTable =\n",
              "          await google.colab.kernel.invokeFunction('convertToInteractive',\n",
              "                                                    [key], {});\n",
              "        if (!dataTable) return;\n",
              "\n",
              "        const docLinkHtml = 'Like what you see? Visit the ' +\n",
              "          '<a target=\"_blank\" href=https://colab.research.google.com/notebooks/data_table.ipynb>data table notebook</a>'\n",
              "          + ' to learn more about interactive tables.';\n",
              "        element.innerHTML = '';\n",
              "        dataTable['output_type'] = 'display_data';\n",
              "        await google.colab.output.renderOutput(dataTable, element);\n",
              "        const docLink = document.createElement('div');\n",
              "        docLink.innerHTML = docLinkHtml;\n",
              "        element.appendChild(docLink);\n",
              "      }\n",
              "    </script>\n",
              "  </div>\n",
              "\n",
              "\n",
              "    </div>\n",
              "  </div>\n"
            ],
            "application/vnd.google.colaboratory.intrinsic+json": {
              "type": "dataframe",
              "variable_name": "df_merge",
              "summary": "{\n  \"name\": \"df_merge\",\n  \"rows\": 24708,\n  \"fields\": [\n    {\n      \"column\": \"Municipio_id\",\n      \"properties\": {\n        \"dtype\": \"number\",\n        \"std\": 20709,\n        \"min\": 3100104,\n        \"max\": 3172202,\n        \"num_unique_values\": 852,\n        \"samples\": [\n          3106309,\n          3138005,\n          3118007\n        ],\n        \"semantic_type\": \"\",\n        \"description\": \"\"\n      }\n    },\n    {\n      \"column\": \"Ano\",\n      \"properties\": {\n        \"dtype\": \"number\",\n        \"std\": 8,\n        \"min\": 1995,\n        \"max\": 2023,\n        \"num_unique_values\": 29,\n        \"samples\": [\n          2022,\n          2011,\n          2007\n        ],\n        \"semantic_type\": \"\",\n        \"description\": \"\"\n      }\n    },\n    {\n      \"column\": \"precipitacao (mm)\",\n      \"properties\": {\n        \"dtype\": \"number\",\n        \"std\": 24.60521358279078,\n        \"min\": 29.791666607062023,\n        \"max\": 194.2583338022232,\n        \"num_unique_values\": 24556,\n        \"samples\": [\n          138.02500065167746,\n          124.95833336313565,\n          112.88333345452945\n        ],\n        \"semantic_type\": \"\",\n        \"description\": \"\"\n      }\n    },\n    {\n      \"column\": \"temperatura maxima (\\u00baC)\",\n      \"properties\": {\n        \"dtype\": \"number\",\n        \"std\": 1.8298164164957722,\n        \"min\": 19.25,\n        \"max\": 32.583333333333336,\n        \"num_unique_values\": 159,\n        \"samples\": [\n          24.166666666666668,\n          19.25,\n          20.666666666666668\n        ],\n        \"semantic_type\": \"\",\n        \"description\": \"\"\n      }\n    },\n    {\n      \"column\": \"temperatura minima (\\u00baC)\",\n      \"properties\": {\n        \"dtype\": \"number\",\n        \"std\": 1.778077952934073,\n        \"min\": 8.0,\n        \"max\": 20.5,\n        \"num_unique_values\": 151,\n        \"samples\": [\n          11.583333333333334,\n          15.833333333333334,\n          11.916666666666666\n        ],\n        \"semantic_type\": \"\",\n        \"description\": \"\"\n      }\n    },\n    {\n      \"column\": \"Mesorregi\\u00e3o_id\",\n      \"properties\": {\n        \"dtype\": \"number\",\n        \"std\": 3,\n        \"min\": 3101,\n        \"max\": 3112,\n        \"num_unique_values\": 12,\n        \"samples\": [\n          3107,\n          3103,\n          3105\n        ],\n        \"semantic_type\": \"\",\n        \"description\": \"\"\n      }\n    },\n    {\n      \"column\": \"Mesorregi\\u00e3o\",\n      \"properties\": {\n        \"dtype\": \"category\",\n        \"num_unique_values\": 12,\n        \"samples\": [\n          \"Metropolitana De Belo Horizonte\",\n          \"Jequitinhonha\",\n          \"Tri\\u00e2ngulo Mineiro/Alto Parana\\u00edba\"\n        ],\n        \"semantic_type\": \"\",\n        \"description\": \"\"\n      }\n    },\n    {\n      \"column\": \"Municipio\",\n      \"properties\": {\n        \"dtype\": \"category\",\n        \"num_unique_values\": 852,\n        \"samples\": [\n          \"Belo Oriente - MG\",\n          \"Laranjal - MG\",\n          \"Congonhas - MG\"\n        ],\n        \"semantic_type\": \"\",\n        \"description\": \"\"\n      }\n    },\n    {\n      \"column\": \"\\u00c1rea destinada \\u00e0 colheita (Hectares)\",\n      \"properties\": {\n        \"dtype\": \"number\",\n        \"std\": 3222.741060739883,\n        \"min\": 0.0,\n        \"max\": 43595.0,\n        \"num_unique_values\": 2333,\n        \"samples\": [\n          825.0,\n          875.0,\n          1270.0\n        ],\n        \"semantic_type\": \"\",\n        \"description\": \"\"\n      }\n    },\n    {\n      \"column\": \"\\u00c1rea colhida (Hectares)\",\n      \"properties\": {\n        \"dtype\": \"number\",\n        \"std\": 3216.6364321199026,\n        \"min\": 0.0,\n        \"max\": 43595.0,\n        \"num_unique_values\": 2329,\n        \"samples\": [\n          8434.0,\n          773.0,\n          525.0\n        ],\n        \"semantic_type\": \"\",\n        \"description\": \"\"\n      }\n    },\n    {\n      \"column\": \"Quantidade produzida (Toneladas)\",\n      \"properties\": {\n        \"dtype\": \"number\",\n        \"std\": 5102.247997672477,\n        \"min\": 0.0,\n        \"max\": 105109.0,\n        \"num_unique_values\": 3985,\n        \"samples\": [\n          44.0,\n          619.0,\n          537.0\n        ],\n        \"semantic_type\": \"\",\n        \"description\": \"\"\n      }\n    },\n    {\n      \"column\": \"Rendimento m\\u00e9dio da produ\\u00e7\\u00e3o (Quilogramas por Hectare)\",\n      \"properties\": {\n        \"dtype\": \"number\",\n        \"std\": 636.1667151475305,\n        \"min\": 58.0,\n        \"max\": 9000.0,\n        \"num_unique_values\": 1782,\n        \"samples\": [\n          2688.0,\n          2021.0,\n          2538.0\n        ],\n        \"semantic_type\": \"\",\n        \"description\": \"\"\n      }\n    },\n    {\n      \"column\": \"Valor da produ\\u00e7\\u00e3o (Mil Reais)\",\n      \"properties\": {\n        \"dtype\": \"number\",\n        \"std\": 38814.55376786579,\n        \"min\": 0.0,\n        \"max\": 1461054.0,\n        \"num_unique_values\": 7694,\n        \"samples\": [\n          3147.0,\n          60670.0,\n          509.0\n        ],\n        \"semantic_type\": \"\",\n        \"description\": \"\"\n      }\n    },\n    {\n      \"column\": \"latitude\",\n      \"properties\": {\n        \"dtype\": \"number\",\n        \"std\": 1.927998374244095,\n        \"min\": -22.825458,\n        \"max\": -14.385443,\n        \"num_unique_values\": 852,\n        \"samples\": [\n          -19.259352,\n          -21.356851,\n          -20.516114\n        ],\n        \"semantic_type\": \"\",\n        \"description\": \"\"\n      }\n    },\n    {\n      \"column\": \"longitude\",\n      \"properties\": {\n        \"dtype\": \"number\",\n        \"std\": 1.9522334497090092,\n        \"min\": -50.829886,\n        \"max\": -40.029245,\n        \"num_unique_values\": 852,\n        \"samples\": [\n          -42.450356,\n          -42.451146,\n          -43.861837\n        ],\n        \"semantic_type\": \"\",\n        \"description\": \"\"\n      }\n    },\n    {\n      \"column\": \"altitude\",\n      \"properties\": {\n        \"dtype\": \"number\",\n        \"std\": 254,\n        \"min\": 113,\n        \"max\": 1801,\n        \"num_unique_values\": 548,\n        \"samples\": [\n          321,\n          672,\n          409\n        ],\n        \"semantic_type\": \"\",\n        \"description\": \"\"\n      }\n    }\n  ]\n}"
            }
          },
          "metadata": {},
          "execution_count": 8
        }
      ]
    },
    {
      "cell_type": "code",
      "source": [
        "# 1) Cria uma cópia para não alterar o original\n",
        "df_escalado = df_merge.copy()\n",
        "\n",
        "# Garante que as colunas numéricas estejam no tipo correto\n",
        "df_escalado['Área colhida (Hectares)'] = pd.to_numeric(df_escalado['Área colhida (Hectares)'], errors='coerce')\n",
        "df_escalado['Quantidade produzida (Toneladas)'] = pd.to_numeric(df_escalado['Quantidade produzida (Toneladas)'], errors='coerce')\n",
        "\n",
        "df_escalado.head(1)"
      ],
      "metadata": {
        "colab": {
          "base_uri": "https://localhost:8080/",
          "height": 222
        },
        "outputId": "dba4e541-a121-45e6-f4d8-6bfa6227eb43",
        "id": "5ugzXMGsvLLU"
      },
      "execution_count": 9,
      "outputs": [
        {
          "output_type": "execute_result",
          "data": {
            "text/plain": [
              "   Municipio_id   Ano  precipitacao (mm)  temperatura maxima (ºC)  \\\n",
              "0       3100104  1995         115.041666                    27.75   \n",
              "\n",
              "   temperatura minima (ºC)  Mesorregião_id                       Mesorregião  \\\n",
              "0                    16.75            3105  Triângulo Mineiro/Alto Paranaíba   \n",
              "\n",
              "                  Municipio  Área destinada à colheita (Hectares)  \\\n",
              "0  Abadia dos Dourados - MG                                 160.0   \n",
              "\n",
              "   Área colhida (Hectares)  Quantidade produzida (Toneladas)  \\\n",
              "0                    160.0                             269.0   \n",
              "\n",
              "   Rendimento médio da produção (Quilogramas por Hectare)  \\\n",
              "0                                             1681.0        \n",
              "\n",
              "   Valor da produção (Mil Reais)  latitude  longitude  altitude  \n",
              "0                          592.0 -18.35296 -47.459129       808  "
            ],
            "text/html": [
              "\n",
              "  <div id=\"df-b96c3662-cc14-408e-aaeb-49dc82d0eb41\" class=\"colab-df-container\">\n",
              "    <div>\n",
              "<style scoped>\n",
              "    .dataframe tbody tr th:only-of-type {\n",
              "        vertical-align: middle;\n",
              "    }\n",
              "\n",
              "    .dataframe tbody tr th {\n",
              "        vertical-align: top;\n",
              "    }\n",
              "\n",
              "    .dataframe thead th {\n",
              "        text-align: right;\n",
              "    }\n",
              "</style>\n",
              "<table border=\"1\" class=\"dataframe\">\n",
              "  <thead>\n",
              "    <tr style=\"text-align: right;\">\n",
              "      <th></th>\n",
              "      <th>Municipio_id</th>\n",
              "      <th>Ano</th>\n",
              "      <th>precipitacao (mm)</th>\n",
              "      <th>temperatura maxima (ºC)</th>\n",
              "      <th>temperatura minima (ºC)</th>\n",
              "      <th>Mesorregião_id</th>\n",
              "      <th>Mesorregião</th>\n",
              "      <th>Municipio</th>\n",
              "      <th>Área destinada à colheita (Hectares)</th>\n",
              "      <th>Área colhida (Hectares)</th>\n",
              "      <th>Quantidade produzida (Toneladas)</th>\n",
              "      <th>Rendimento médio da produção (Quilogramas por Hectare)</th>\n",
              "      <th>Valor da produção (Mil Reais)</th>\n",
              "      <th>latitude</th>\n",
              "      <th>longitude</th>\n",
              "      <th>altitude</th>\n",
              "    </tr>\n",
              "  </thead>\n",
              "  <tbody>\n",
              "    <tr>\n",
              "      <th>0</th>\n",
              "      <td>3100104</td>\n",
              "      <td>1995</td>\n",
              "      <td>115.041666</td>\n",
              "      <td>27.75</td>\n",
              "      <td>16.75</td>\n",
              "      <td>3105</td>\n",
              "      <td>Triângulo Mineiro/Alto Paranaíba</td>\n",
              "      <td>Abadia dos Dourados - MG</td>\n",
              "      <td>160.0</td>\n",
              "      <td>160.0</td>\n",
              "      <td>269.0</td>\n",
              "      <td>1681.0</td>\n",
              "      <td>592.0</td>\n",
              "      <td>-18.35296</td>\n",
              "      <td>-47.459129</td>\n",
              "      <td>808</td>\n",
              "    </tr>\n",
              "  </tbody>\n",
              "</table>\n",
              "</div>\n",
              "    <div class=\"colab-df-buttons\">\n",
              "\n",
              "  <div class=\"colab-df-container\">\n",
              "    <button class=\"colab-df-convert\" onclick=\"convertToInteractive('df-b96c3662-cc14-408e-aaeb-49dc82d0eb41')\"\n",
              "            title=\"Convert this dataframe to an interactive table.\"\n",
              "            style=\"display:none;\">\n",
              "\n",
              "  <svg xmlns=\"http://www.w3.org/2000/svg\" height=\"24px\" viewBox=\"0 -960 960 960\">\n",
              "    <path d=\"M120-120v-720h720v720H120Zm60-500h600v-160H180v160Zm220 220h160v-160H400v160Zm0 220h160v-160H400v160ZM180-400h160v-160H180v160Zm440 0h160v-160H620v160ZM180-180h160v-160H180v160Zm440 0h160v-160H620v160Z\"/>\n",
              "  </svg>\n",
              "    </button>\n",
              "\n",
              "  <style>\n",
              "    .colab-df-container {\n",
              "      display:flex;\n",
              "      gap: 12px;\n",
              "    }\n",
              "\n",
              "    .colab-df-convert {\n",
              "      background-color: #E8F0FE;\n",
              "      border: none;\n",
              "      border-radius: 50%;\n",
              "      cursor: pointer;\n",
              "      display: none;\n",
              "      fill: #1967D2;\n",
              "      height: 32px;\n",
              "      padding: 0 0 0 0;\n",
              "      width: 32px;\n",
              "    }\n",
              "\n",
              "    .colab-df-convert:hover {\n",
              "      background-color: #E2EBFA;\n",
              "      box-shadow: 0px 1px 2px rgba(60, 64, 67, 0.3), 0px 1px 3px 1px rgba(60, 64, 67, 0.15);\n",
              "      fill: #174EA6;\n",
              "    }\n",
              "\n",
              "    .colab-df-buttons div {\n",
              "      margin-bottom: 4px;\n",
              "    }\n",
              "\n",
              "    [theme=dark] .colab-df-convert {\n",
              "      background-color: #3B4455;\n",
              "      fill: #D2E3FC;\n",
              "    }\n",
              "\n",
              "    [theme=dark] .colab-df-convert:hover {\n",
              "      background-color: #434B5C;\n",
              "      box-shadow: 0px 1px 3px 1px rgba(0, 0, 0, 0.15);\n",
              "      filter: drop-shadow(0px 1px 2px rgba(0, 0, 0, 0.3));\n",
              "      fill: #FFFFFF;\n",
              "    }\n",
              "  </style>\n",
              "\n",
              "    <script>\n",
              "      const buttonEl =\n",
              "        document.querySelector('#df-b96c3662-cc14-408e-aaeb-49dc82d0eb41 button.colab-df-convert');\n",
              "      buttonEl.style.display =\n",
              "        google.colab.kernel.accessAllowed ? 'block' : 'none';\n",
              "\n",
              "      async function convertToInteractive(key) {\n",
              "        const element = document.querySelector('#df-b96c3662-cc14-408e-aaeb-49dc82d0eb41');\n",
              "        const dataTable =\n",
              "          await google.colab.kernel.invokeFunction('convertToInteractive',\n",
              "                                                    [key], {});\n",
              "        if (!dataTable) return;\n",
              "\n",
              "        const docLinkHtml = 'Like what you see? Visit the ' +\n",
              "          '<a target=\"_blank\" href=https://colab.research.google.com/notebooks/data_table.ipynb>data table notebook</a>'\n",
              "          + ' to learn more about interactive tables.';\n",
              "        element.innerHTML = '';\n",
              "        dataTable['output_type'] = 'display_data';\n",
              "        await google.colab.output.renderOutput(dataTable, element);\n",
              "        const docLink = document.createElement('div');\n",
              "        docLink.innerHTML = docLinkHtml;\n",
              "        element.appendChild(docLink);\n",
              "      }\n",
              "    </script>\n",
              "  </div>\n",
              "\n",
              "\n",
              "    </div>\n",
              "  </div>\n"
            ],
            "application/vnd.google.colaboratory.intrinsic+json": {
              "type": "dataframe",
              "variable_name": "df_escalado",
              "summary": "{\n  \"name\": \"df_escalado\",\n  \"rows\": 24708,\n  \"fields\": [\n    {\n      \"column\": \"Municipio_id\",\n      \"properties\": {\n        \"dtype\": \"number\",\n        \"std\": 20709,\n        \"min\": 3100104,\n        \"max\": 3172202,\n        \"num_unique_values\": 852,\n        \"samples\": [\n          3106309,\n          3138005,\n          3118007\n        ],\n        \"semantic_type\": \"\",\n        \"description\": \"\"\n      }\n    },\n    {\n      \"column\": \"Ano\",\n      \"properties\": {\n        \"dtype\": \"number\",\n        \"std\": 8,\n        \"min\": 1995,\n        \"max\": 2023,\n        \"num_unique_values\": 29,\n        \"samples\": [\n          2022,\n          2011,\n          2007\n        ],\n        \"semantic_type\": \"\",\n        \"description\": \"\"\n      }\n    },\n    {\n      \"column\": \"precipitacao (mm)\",\n      \"properties\": {\n        \"dtype\": \"number\",\n        \"std\": 24.60521358279078,\n        \"min\": 29.791666607062023,\n        \"max\": 194.2583338022232,\n        \"num_unique_values\": 24556,\n        \"samples\": [\n          138.02500065167746,\n          124.95833336313565,\n          112.88333345452945\n        ],\n        \"semantic_type\": \"\",\n        \"description\": \"\"\n      }\n    },\n    {\n      \"column\": \"temperatura maxima (\\u00baC)\",\n      \"properties\": {\n        \"dtype\": \"number\",\n        \"std\": 1.8298164164957722,\n        \"min\": 19.25,\n        \"max\": 32.583333333333336,\n        \"num_unique_values\": 159,\n        \"samples\": [\n          24.166666666666668,\n          19.25,\n          20.666666666666668\n        ],\n        \"semantic_type\": \"\",\n        \"description\": \"\"\n      }\n    },\n    {\n      \"column\": \"temperatura minima (\\u00baC)\",\n      \"properties\": {\n        \"dtype\": \"number\",\n        \"std\": 1.778077952934073,\n        \"min\": 8.0,\n        \"max\": 20.5,\n        \"num_unique_values\": 151,\n        \"samples\": [\n          11.583333333333334,\n          15.833333333333334,\n          11.916666666666666\n        ],\n        \"semantic_type\": \"\",\n        \"description\": \"\"\n      }\n    },\n    {\n      \"column\": \"Mesorregi\\u00e3o_id\",\n      \"properties\": {\n        \"dtype\": \"number\",\n        \"std\": 3,\n        \"min\": 3101,\n        \"max\": 3112,\n        \"num_unique_values\": 12,\n        \"samples\": [\n          3107,\n          3103,\n          3105\n        ],\n        \"semantic_type\": \"\",\n        \"description\": \"\"\n      }\n    },\n    {\n      \"column\": \"Mesorregi\\u00e3o\",\n      \"properties\": {\n        \"dtype\": \"category\",\n        \"num_unique_values\": 12,\n        \"samples\": [\n          \"Metropolitana De Belo Horizonte\",\n          \"Jequitinhonha\",\n          \"Tri\\u00e2ngulo Mineiro/Alto Parana\\u00edba\"\n        ],\n        \"semantic_type\": \"\",\n        \"description\": \"\"\n      }\n    },\n    {\n      \"column\": \"Municipio\",\n      \"properties\": {\n        \"dtype\": \"category\",\n        \"num_unique_values\": 852,\n        \"samples\": [\n          \"Belo Oriente - MG\",\n          \"Laranjal - MG\",\n          \"Congonhas - MG\"\n        ],\n        \"semantic_type\": \"\",\n        \"description\": \"\"\n      }\n    },\n    {\n      \"column\": \"\\u00c1rea destinada \\u00e0 colheita (Hectares)\",\n      \"properties\": {\n        \"dtype\": \"number\",\n        \"std\": 3222.741060739883,\n        \"min\": 0.0,\n        \"max\": 43595.0,\n        \"num_unique_values\": 2333,\n        \"samples\": [\n          825.0,\n          875.0,\n          1270.0\n        ],\n        \"semantic_type\": \"\",\n        \"description\": \"\"\n      }\n    },\n    {\n      \"column\": \"\\u00c1rea colhida (Hectares)\",\n      \"properties\": {\n        \"dtype\": \"number\",\n        \"std\": 3216.6364321199026,\n        \"min\": 0.0,\n        \"max\": 43595.0,\n        \"num_unique_values\": 2329,\n        \"samples\": [\n          8434.0,\n          773.0,\n          525.0\n        ],\n        \"semantic_type\": \"\",\n        \"description\": \"\"\n      }\n    },\n    {\n      \"column\": \"Quantidade produzida (Toneladas)\",\n      \"properties\": {\n        \"dtype\": \"number\",\n        \"std\": 5102.247997672477,\n        \"min\": 0.0,\n        \"max\": 105109.0,\n        \"num_unique_values\": 3985,\n        \"samples\": [\n          44.0,\n          619.0,\n          537.0\n        ],\n        \"semantic_type\": \"\",\n        \"description\": \"\"\n      }\n    },\n    {\n      \"column\": \"Rendimento m\\u00e9dio da produ\\u00e7\\u00e3o (Quilogramas por Hectare)\",\n      \"properties\": {\n        \"dtype\": \"number\",\n        \"std\": 636.1667151475305,\n        \"min\": 58.0,\n        \"max\": 9000.0,\n        \"num_unique_values\": 1782,\n        \"samples\": [\n          2688.0,\n          2021.0,\n          2538.0\n        ],\n        \"semantic_type\": \"\",\n        \"description\": \"\"\n      }\n    },\n    {\n      \"column\": \"Valor da produ\\u00e7\\u00e3o (Mil Reais)\",\n      \"properties\": {\n        \"dtype\": \"number\",\n        \"std\": 38814.55376786579,\n        \"min\": 0.0,\n        \"max\": 1461054.0,\n        \"num_unique_values\": 7694,\n        \"samples\": [\n          3147.0,\n          60670.0,\n          509.0\n        ],\n        \"semantic_type\": \"\",\n        \"description\": \"\"\n      }\n    },\n    {\n      \"column\": \"latitude\",\n      \"properties\": {\n        \"dtype\": \"number\",\n        \"std\": 1.927998374244095,\n        \"min\": -22.825458,\n        \"max\": -14.385443,\n        \"num_unique_values\": 852,\n        \"samples\": [\n          -19.259352,\n          -21.356851,\n          -20.516114\n        ],\n        \"semantic_type\": \"\",\n        \"description\": \"\"\n      }\n    },\n    {\n      \"column\": \"longitude\",\n      \"properties\": {\n        \"dtype\": \"number\",\n        \"std\": 1.9522334497090092,\n        \"min\": -50.829886,\n        \"max\": -40.029245,\n        \"num_unique_values\": 852,\n        \"samples\": [\n          -42.450356,\n          -42.451146,\n          -43.861837\n        ],\n        \"semantic_type\": \"\",\n        \"description\": \"\"\n      }\n    },\n    {\n      \"column\": \"altitude\",\n      \"properties\": {\n        \"dtype\": \"number\",\n        \"std\": 254,\n        \"min\": 113,\n        \"max\": 1801,\n        \"num_unique_values\": 548,\n        \"samples\": [\n          321,\n          672,\n          409\n        ],\n        \"semantic_type\": \"\",\n        \"description\": \"\"\n      }\n    }\n  ]\n}"
            }
          },
          "metadata": {},
          "execution_count": 9
        }
      ]
    },
    {
      "cell_type": "markdown",
      "source": [
        "## 3. Filtrar período de interesse (1995–2023)"
      ],
      "metadata": {
        "id": "bJxqMzhrvLLU"
      }
    },
    {
      "cell_type": "code",
      "source": [
        "df_periodo = df_escalado[(df_escalado['Ano'] >= 1995) & (df_escalado['Ano'] <= 2023)].copy()"
      ],
      "metadata": {
        "id": "kGC3g5C9vLLU"
      },
      "execution_count": 10,
      "outputs": []
    },
    {
      "cell_type": "markdown",
      "source": [
        "## 4. Criar variável-alvo: produtividade em Toneldas por hectare"
      ],
      "metadata": {
        "id": "KSecWCUCvLLU"
      }
    },
    {
      "cell_type": "code",
      "source": [
        "df_target = df_periodo.copy()\n",
        "df_target['target'] = df_target['Quantidade produzida (Toneladas)']"
      ],
      "metadata": {
        "id": "p1NCD9V-vLLU"
      },
      "execution_count": 11,
      "outputs": []
    },
    {
      "cell_type": "markdown",
      "source": [
        "## 5. Remoção de outliers usando critério de desvio‑padrão (±3σ)"
      ],
      "metadata": {
        "id": "UWKzWlDNvLLU"
      }
    },
    {
      "cell_type": "code",
      "source": [
        "df_target[[\"target\"]].describe()"
      ],
      "metadata": {
        "colab": {
          "base_uri": "https://localhost:8080/",
          "height": 300
        },
        "outputId": "20dfa0b8-5baa-4ff8-f096-9d241fd1aaff",
        "id": "sVCxzwJ5vLLU"
      },
      "execution_count": 12,
      "outputs": [
        {
          "output_type": "execute_result",
          "data": {
            "text/plain": [
              "              target\n",
              "count   17513.000000\n",
              "mean     2359.608462\n",
              "std      5102.247998\n",
              "min         0.000000\n",
              "25%        25.000000\n",
              "50%       269.000000\n",
              "75%      2400.000000\n",
              "max    105109.000000"
            ],
            "text/html": [
              "\n",
              "  <div id=\"df-e7ee56b6-e904-4faf-b0a3-e940f36a8f9a\" class=\"colab-df-container\">\n",
              "    <div>\n",
              "<style scoped>\n",
              "    .dataframe tbody tr th:only-of-type {\n",
              "        vertical-align: middle;\n",
              "    }\n",
              "\n",
              "    .dataframe tbody tr th {\n",
              "        vertical-align: top;\n",
              "    }\n",
              "\n",
              "    .dataframe thead th {\n",
              "        text-align: right;\n",
              "    }\n",
              "</style>\n",
              "<table border=\"1\" class=\"dataframe\">\n",
              "  <thead>\n",
              "    <tr style=\"text-align: right;\">\n",
              "      <th></th>\n",
              "      <th>target</th>\n",
              "    </tr>\n",
              "  </thead>\n",
              "  <tbody>\n",
              "    <tr>\n",
              "      <th>count</th>\n",
              "      <td>17513.000000</td>\n",
              "    </tr>\n",
              "    <tr>\n",
              "      <th>mean</th>\n",
              "      <td>2359.608462</td>\n",
              "    </tr>\n",
              "    <tr>\n",
              "      <th>std</th>\n",
              "      <td>5102.247998</td>\n",
              "    </tr>\n",
              "    <tr>\n",
              "      <th>min</th>\n",
              "      <td>0.000000</td>\n",
              "    </tr>\n",
              "    <tr>\n",
              "      <th>25%</th>\n",
              "      <td>25.000000</td>\n",
              "    </tr>\n",
              "    <tr>\n",
              "      <th>50%</th>\n",
              "      <td>269.000000</td>\n",
              "    </tr>\n",
              "    <tr>\n",
              "      <th>75%</th>\n",
              "      <td>2400.000000</td>\n",
              "    </tr>\n",
              "    <tr>\n",
              "      <th>max</th>\n",
              "      <td>105109.000000</td>\n",
              "    </tr>\n",
              "  </tbody>\n",
              "</table>\n",
              "</div>\n",
              "    <div class=\"colab-df-buttons\">\n",
              "\n",
              "  <div class=\"colab-df-container\">\n",
              "    <button class=\"colab-df-convert\" onclick=\"convertToInteractive('df-e7ee56b6-e904-4faf-b0a3-e940f36a8f9a')\"\n",
              "            title=\"Convert this dataframe to an interactive table.\"\n",
              "            style=\"display:none;\">\n",
              "\n",
              "  <svg xmlns=\"http://www.w3.org/2000/svg\" height=\"24px\" viewBox=\"0 -960 960 960\">\n",
              "    <path d=\"M120-120v-720h720v720H120Zm60-500h600v-160H180v160Zm220 220h160v-160H400v160Zm0 220h160v-160H400v160ZM180-400h160v-160H180v160Zm440 0h160v-160H620v160ZM180-180h160v-160H180v160Zm440 0h160v-160H620v160Z\"/>\n",
              "  </svg>\n",
              "    </button>\n",
              "\n",
              "  <style>\n",
              "    .colab-df-container {\n",
              "      display:flex;\n",
              "      gap: 12px;\n",
              "    }\n",
              "\n",
              "    .colab-df-convert {\n",
              "      background-color: #E8F0FE;\n",
              "      border: none;\n",
              "      border-radius: 50%;\n",
              "      cursor: pointer;\n",
              "      display: none;\n",
              "      fill: #1967D2;\n",
              "      height: 32px;\n",
              "      padding: 0 0 0 0;\n",
              "      width: 32px;\n",
              "    }\n",
              "\n",
              "    .colab-df-convert:hover {\n",
              "      background-color: #E2EBFA;\n",
              "      box-shadow: 0px 1px 2px rgba(60, 64, 67, 0.3), 0px 1px 3px 1px rgba(60, 64, 67, 0.15);\n",
              "      fill: #174EA6;\n",
              "    }\n",
              "\n",
              "    .colab-df-buttons div {\n",
              "      margin-bottom: 4px;\n",
              "    }\n",
              "\n",
              "    [theme=dark] .colab-df-convert {\n",
              "      background-color: #3B4455;\n",
              "      fill: #D2E3FC;\n",
              "    }\n",
              "\n",
              "    [theme=dark] .colab-df-convert:hover {\n",
              "      background-color: #434B5C;\n",
              "      box-shadow: 0px 1px 3px 1px rgba(0, 0, 0, 0.15);\n",
              "      filter: drop-shadow(0px 1px 2px rgba(0, 0, 0, 0.3));\n",
              "      fill: #FFFFFF;\n",
              "    }\n",
              "  </style>\n",
              "\n",
              "    <script>\n",
              "      const buttonEl =\n",
              "        document.querySelector('#df-e7ee56b6-e904-4faf-b0a3-e940f36a8f9a button.colab-df-convert');\n",
              "      buttonEl.style.display =\n",
              "        google.colab.kernel.accessAllowed ? 'block' : 'none';\n",
              "\n",
              "      async function convertToInteractive(key) {\n",
              "        const element = document.querySelector('#df-e7ee56b6-e904-4faf-b0a3-e940f36a8f9a');\n",
              "        const dataTable =\n",
              "          await google.colab.kernel.invokeFunction('convertToInteractive',\n",
              "                                                    [key], {});\n",
              "        if (!dataTable) return;\n",
              "\n",
              "        const docLinkHtml = 'Like what you see? Visit the ' +\n",
              "          '<a target=\"_blank\" href=https://colab.research.google.com/notebooks/data_table.ipynb>data table notebook</a>'\n",
              "          + ' to learn more about interactive tables.';\n",
              "        element.innerHTML = '';\n",
              "        dataTable['output_type'] = 'display_data';\n",
              "        await google.colab.output.renderOutput(dataTable, element);\n",
              "        const docLink = document.createElement('div');\n",
              "        docLink.innerHTML = docLinkHtml;\n",
              "        element.appendChild(docLink);\n",
              "      }\n",
              "    </script>\n",
              "  </div>\n",
              "\n",
              "\n",
              "    <div id=\"df-98332b0a-9bc3-4587-b98d-448a0aa127ee\">\n",
              "      <button class=\"colab-df-quickchart\" onclick=\"quickchart('df-98332b0a-9bc3-4587-b98d-448a0aa127ee')\"\n",
              "                title=\"Suggest charts\"\n",
              "                style=\"display:none;\">\n",
              "\n",
              "<svg xmlns=\"http://www.w3.org/2000/svg\" height=\"24px\"viewBox=\"0 0 24 24\"\n",
              "     width=\"24px\">\n",
              "    <g>\n",
              "        <path d=\"M19 3H5c-1.1 0-2 .9-2 2v14c0 1.1.9 2 2 2h14c1.1 0 2-.9 2-2V5c0-1.1-.9-2-2-2zM9 17H7v-7h2v7zm4 0h-2V7h2v10zm4 0h-2v-4h2v4z\"/>\n",
              "    </g>\n",
              "</svg>\n",
              "      </button>\n",
              "\n",
              "<style>\n",
              "  .colab-df-quickchart {\n",
              "      --bg-color: #E8F0FE;\n",
              "      --fill-color: #1967D2;\n",
              "      --hover-bg-color: #E2EBFA;\n",
              "      --hover-fill-color: #174EA6;\n",
              "      --disabled-fill-color: #AAA;\n",
              "      --disabled-bg-color: #DDD;\n",
              "  }\n",
              "\n",
              "  [theme=dark] .colab-df-quickchart {\n",
              "      --bg-color: #3B4455;\n",
              "      --fill-color: #D2E3FC;\n",
              "      --hover-bg-color: #434B5C;\n",
              "      --hover-fill-color: #FFFFFF;\n",
              "      --disabled-bg-color: #3B4455;\n",
              "      --disabled-fill-color: #666;\n",
              "  }\n",
              "\n",
              "  .colab-df-quickchart {\n",
              "    background-color: var(--bg-color);\n",
              "    border: none;\n",
              "    border-radius: 50%;\n",
              "    cursor: pointer;\n",
              "    display: none;\n",
              "    fill: var(--fill-color);\n",
              "    height: 32px;\n",
              "    padding: 0;\n",
              "    width: 32px;\n",
              "  }\n",
              "\n",
              "  .colab-df-quickchart:hover {\n",
              "    background-color: var(--hover-bg-color);\n",
              "    box-shadow: 0 1px 2px rgba(60, 64, 67, 0.3), 0 1px 3px 1px rgba(60, 64, 67, 0.15);\n",
              "    fill: var(--button-hover-fill-color);\n",
              "  }\n",
              "\n",
              "  .colab-df-quickchart-complete:disabled,\n",
              "  .colab-df-quickchart-complete:disabled:hover {\n",
              "    background-color: var(--disabled-bg-color);\n",
              "    fill: var(--disabled-fill-color);\n",
              "    box-shadow: none;\n",
              "  }\n",
              "\n",
              "  .colab-df-spinner {\n",
              "    border: 2px solid var(--fill-color);\n",
              "    border-color: transparent;\n",
              "    border-bottom-color: var(--fill-color);\n",
              "    animation:\n",
              "      spin 1s steps(1) infinite;\n",
              "  }\n",
              "\n",
              "  @keyframes spin {\n",
              "    0% {\n",
              "      border-color: transparent;\n",
              "      border-bottom-color: var(--fill-color);\n",
              "      border-left-color: var(--fill-color);\n",
              "    }\n",
              "    20% {\n",
              "      border-color: transparent;\n",
              "      border-left-color: var(--fill-color);\n",
              "      border-top-color: var(--fill-color);\n",
              "    }\n",
              "    30% {\n",
              "      border-color: transparent;\n",
              "      border-left-color: var(--fill-color);\n",
              "      border-top-color: var(--fill-color);\n",
              "      border-right-color: var(--fill-color);\n",
              "    }\n",
              "    40% {\n",
              "      border-color: transparent;\n",
              "      border-right-color: var(--fill-color);\n",
              "      border-top-color: var(--fill-color);\n",
              "    }\n",
              "    60% {\n",
              "      border-color: transparent;\n",
              "      border-right-color: var(--fill-color);\n",
              "    }\n",
              "    80% {\n",
              "      border-color: transparent;\n",
              "      border-right-color: var(--fill-color);\n",
              "      border-bottom-color: var(--fill-color);\n",
              "    }\n",
              "    90% {\n",
              "      border-color: transparent;\n",
              "      border-bottom-color: var(--fill-color);\n",
              "    }\n",
              "  }\n",
              "</style>\n",
              "\n",
              "      <script>\n",
              "        async function quickchart(key) {\n",
              "          const quickchartButtonEl =\n",
              "            document.querySelector('#' + key + ' button');\n",
              "          quickchartButtonEl.disabled = true;  // To prevent multiple clicks.\n",
              "          quickchartButtonEl.classList.add('colab-df-spinner');\n",
              "          try {\n",
              "            const charts = await google.colab.kernel.invokeFunction(\n",
              "                'suggestCharts', [key], {});\n",
              "          } catch (error) {\n",
              "            console.error('Error during call to suggestCharts:', error);\n",
              "          }\n",
              "          quickchartButtonEl.classList.remove('colab-df-spinner');\n",
              "          quickchartButtonEl.classList.add('colab-df-quickchart-complete');\n",
              "        }\n",
              "        (() => {\n",
              "          let quickchartButtonEl =\n",
              "            document.querySelector('#df-98332b0a-9bc3-4587-b98d-448a0aa127ee button');\n",
              "          quickchartButtonEl.style.display =\n",
              "            google.colab.kernel.accessAllowed ? 'block' : 'none';\n",
              "        })();\n",
              "      </script>\n",
              "    </div>\n",
              "\n",
              "    </div>\n",
              "  </div>\n"
            ],
            "application/vnd.google.colaboratory.intrinsic+json": {
              "type": "dataframe",
              "summary": "{\n  \"name\": \"df_target[[\\\"target\\\"]]\",\n  \"rows\": 8,\n  \"fields\": [\n    {\n      \"column\": \"target\",\n      \"properties\": {\n        \"dtype\": \"number\",\n        \"std\": 36230.010896576576,\n        \"min\": 0.0,\n        \"max\": 105109.0,\n        \"num_unique_values\": 8,\n        \"samples\": [\n          2359.6084622851595,\n          269.0,\n          17513.0\n        ],\n        \"semantic_type\": \"\",\n        \"description\": \"\"\n      }\n    }\n  ]\n}"
            }
          },
          "metadata": {},
          "execution_count": 12
        }
      ]
    },
    {
      "cell_type": "code",
      "source": [
        "print(len(df_target))\n",
        "\n",
        "valor = 3\n",
        "y = df_target['target']\n",
        "mean_y, std_y = y.mean(), y.std()\n",
        "mask = (y >= mean_y - valor*std_y) & (y <= mean_y + valor*std_y)\n",
        "df_outliers = df_target.loc[mask].reset_index(drop=True)\n",
        "print(len(df_outliers))"
      ],
      "metadata": {
        "colab": {
          "base_uri": "https://localhost:8080/"
        },
        "outputId": "1751934e-752b-4d16-e4b6-0bf2e03550d5",
        "id": "GvQboJ3mvLLU"
      },
      "execution_count": 13,
      "outputs": [
        {
          "output_type": "stream",
          "name": "stdout",
          "text": [
            "24708\n",
            "17137\n"
          ]
        }
      ]
    },
    {
      "cell_type": "code",
      "source": [
        "df_outliers[[\"target\"]].describe()"
      ],
      "metadata": {
        "colab": {
          "base_uri": "https://localhost:8080/",
          "height": 300
        },
        "outputId": "0915d270-3a02-4a1e-dcb3-0e2b55ac561e",
        "id": "QYphPeBevLLV"
      },
      "execution_count": 14,
      "outputs": [
        {
          "output_type": "execute_result",
          "data": {
            "text/plain": [
              "             target\n",
              "count  17137.000000\n",
              "mean    1821.944798\n",
              "std     3226.017017\n",
              "min        0.000000\n",
              "25%       24.000000\n",
              "50%      240.000000\n",
              "75%     2115.000000\n",
              "max    17640.000000"
            ],
            "text/html": [
              "\n",
              "  <div id=\"df-65f1735b-a1e1-416a-a4bd-8062731de1be\" class=\"colab-df-container\">\n",
              "    <div>\n",
              "<style scoped>\n",
              "    .dataframe tbody tr th:only-of-type {\n",
              "        vertical-align: middle;\n",
              "    }\n",
              "\n",
              "    .dataframe tbody tr th {\n",
              "        vertical-align: top;\n",
              "    }\n",
              "\n",
              "    .dataframe thead th {\n",
              "        text-align: right;\n",
              "    }\n",
              "</style>\n",
              "<table border=\"1\" class=\"dataframe\">\n",
              "  <thead>\n",
              "    <tr style=\"text-align: right;\">\n",
              "      <th></th>\n",
              "      <th>target</th>\n",
              "    </tr>\n",
              "  </thead>\n",
              "  <tbody>\n",
              "    <tr>\n",
              "      <th>count</th>\n",
              "      <td>17137.000000</td>\n",
              "    </tr>\n",
              "    <tr>\n",
              "      <th>mean</th>\n",
              "      <td>1821.944798</td>\n",
              "    </tr>\n",
              "    <tr>\n",
              "      <th>std</th>\n",
              "      <td>3226.017017</td>\n",
              "    </tr>\n",
              "    <tr>\n",
              "      <th>min</th>\n",
              "      <td>0.000000</td>\n",
              "    </tr>\n",
              "    <tr>\n",
              "      <th>25%</th>\n",
              "      <td>24.000000</td>\n",
              "    </tr>\n",
              "    <tr>\n",
              "      <th>50%</th>\n",
              "      <td>240.000000</td>\n",
              "    </tr>\n",
              "    <tr>\n",
              "      <th>75%</th>\n",
              "      <td>2115.000000</td>\n",
              "    </tr>\n",
              "    <tr>\n",
              "      <th>max</th>\n",
              "      <td>17640.000000</td>\n",
              "    </tr>\n",
              "  </tbody>\n",
              "</table>\n",
              "</div>\n",
              "    <div class=\"colab-df-buttons\">\n",
              "\n",
              "  <div class=\"colab-df-container\">\n",
              "    <button class=\"colab-df-convert\" onclick=\"convertToInteractive('df-65f1735b-a1e1-416a-a4bd-8062731de1be')\"\n",
              "            title=\"Convert this dataframe to an interactive table.\"\n",
              "            style=\"display:none;\">\n",
              "\n",
              "  <svg xmlns=\"http://www.w3.org/2000/svg\" height=\"24px\" viewBox=\"0 -960 960 960\">\n",
              "    <path d=\"M120-120v-720h720v720H120Zm60-500h600v-160H180v160Zm220 220h160v-160H400v160Zm0 220h160v-160H400v160ZM180-400h160v-160H180v160Zm440 0h160v-160H620v160ZM180-180h160v-160H180v160Zm440 0h160v-160H620v160Z\"/>\n",
              "  </svg>\n",
              "    </button>\n",
              "\n",
              "  <style>\n",
              "    .colab-df-container {\n",
              "      display:flex;\n",
              "      gap: 12px;\n",
              "    }\n",
              "\n",
              "    .colab-df-convert {\n",
              "      background-color: #E8F0FE;\n",
              "      border: none;\n",
              "      border-radius: 50%;\n",
              "      cursor: pointer;\n",
              "      display: none;\n",
              "      fill: #1967D2;\n",
              "      height: 32px;\n",
              "      padding: 0 0 0 0;\n",
              "      width: 32px;\n",
              "    }\n",
              "\n",
              "    .colab-df-convert:hover {\n",
              "      background-color: #E2EBFA;\n",
              "      box-shadow: 0px 1px 2px rgba(60, 64, 67, 0.3), 0px 1px 3px 1px rgba(60, 64, 67, 0.15);\n",
              "      fill: #174EA6;\n",
              "    }\n",
              "\n",
              "    .colab-df-buttons div {\n",
              "      margin-bottom: 4px;\n",
              "    }\n",
              "\n",
              "    [theme=dark] .colab-df-convert {\n",
              "      background-color: #3B4455;\n",
              "      fill: #D2E3FC;\n",
              "    }\n",
              "\n",
              "    [theme=dark] .colab-df-convert:hover {\n",
              "      background-color: #434B5C;\n",
              "      box-shadow: 0px 1px 3px 1px rgba(0, 0, 0, 0.15);\n",
              "      filter: drop-shadow(0px 1px 2px rgba(0, 0, 0, 0.3));\n",
              "      fill: #FFFFFF;\n",
              "    }\n",
              "  </style>\n",
              "\n",
              "    <script>\n",
              "      const buttonEl =\n",
              "        document.querySelector('#df-65f1735b-a1e1-416a-a4bd-8062731de1be button.colab-df-convert');\n",
              "      buttonEl.style.display =\n",
              "        google.colab.kernel.accessAllowed ? 'block' : 'none';\n",
              "\n",
              "      async function convertToInteractive(key) {\n",
              "        const element = document.querySelector('#df-65f1735b-a1e1-416a-a4bd-8062731de1be');\n",
              "        const dataTable =\n",
              "          await google.colab.kernel.invokeFunction('convertToInteractive',\n",
              "                                                    [key], {});\n",
              "        if (!dataTable) return;\n",
              "\n",
              "        const docLinkHtml = 'Like what you see? Visit the ' +\n",
              "          '<a target=\"_blank\" href=https://colab.research.google.com/notebooks/data_table.ipynb>data table notebook</a>'\n",
              "          + ' to learn more about interactive tables.';\n",
              "        element.innerHTML = '';\n",
              "        dataTable['output_type'] = 'display_data';\n",
              "        await google.colab.output.renderOutput(dataTable, element);\n",
              "        const docLink = document.createElement('div');\n",
              "        docLink.innerHTML = docLinkHtml;\n",
              "        element.appendChild(docLink);\n",
              "      }\n",
              "    </script>\n",
              "  </div>\n",
              "\n",
              "\n",
              "    <div id=\"df-0b528931-037b-4044-a6b1-1cdc56654cf7\">\n",
              "      <button class=\"colab-df-quickchart\" onclick=\"quickchart('df-0b528931-037b-4044-a6b1-1cdc56654cf7')\"\n",
              "                title=\"Suggest charts\"\n",
              "                style=\"display:none;\">\n",
              "\n",
              "<svg xmlns=\"http://www.w3.org/2000/svg\" height=\"24px\"viewBox=\"0 0 24 24\"\n",
              "     width=\"24px\">\n",
              "    <g>\n",
              "        <path d=\"M19 3H5c-1.1 0-2 .9-2 2v14c0 1.1.9 2 2 2h14c1.1 0 2-.9 2-2V5c0-1.1-.9-2-2-2zM9 17H7v-7h2v7zm4 0h-2V7h2v10zm4 0h-2v-4h2v4z\"/>\n",
              "    </g>\n",
              "</svg>\n",
              "      </button>\n",
              "\n",
              "<style>\n",
              "  .colab-df-quickchart {\n",
              "      --bg-color: #E8F0FE;\n",
              "      --fill-color: #1967D2;\n",
              "      --hover-bg-color: #E2EBFA;\n",
              "      --hover-fill-color: #174EA6;\n",
              "      --disabled-fill-color: #AAA;\n",
              "      --disabled-bg-color: #DDD;\n",
              "  }\n",
              "\n",
              "  [theme=dark] .colab-df-quickchart {\n",
              "      --bg-color: #3B4455;\n",
              "      --fill-color: #D2E3FC;\n",
              "      --hover-bg-color: #434B5C;\n",
              "      --hover-fill-color: #FFFFFF;\n",
              "      --disabled-bg-color: #3B4455;\n",
              "      --disabled-fill-color: #666;\n",
              "  }\n",
              "\n",
              "  .colab-df-quickchart {\n",
              "    background-color: var(--bg-color);\n",
              "    border: none;\n",
              "    border-radius: 50%;\n",
              "    cursor: pointer;\n",
              "    display: none;\n",
              "    fill: var(--fill-color);\n",
              "    height: 32px;\n",
              "    padding: 0;\n",
              "    width: 32px;\n",
              "  }\n",
              "\n",
              "  .colab-df-quickchart:hover {\n",
              "    background-color: var(--hover-bg-color);\n",
              "    box-shadow: 0 1px 2px rgba(60, 64, 67, 0.3), 0 1px 3px 1px rgba(60, 64, 67, 0.15);\n",
              "    fill: var(--button-hover-fill-color);\n",
              "  }\n",
              "\n",
              "  .colab-df-quickchart-complete:disabled,\n",
              "  .colab-df-quickchart-complete:disabled:hover {\n",
              "    background-color: var(--disabled-bg-color);\n",
              "    fill: var(--disabled-fill-color);\n",
              "    box-shadow: none;\n",
              "  }\n",
              "\n",
              "  .colab-df-spinner {\n",
              "    border: 2px solid var(--fill-color);\n",
              "    border-color: transparent;\n",
              "    border-bottom-color: var(--fill-color);\n",
              "    animation:\n",
              "      spin 1s steps(1) infinite;\n",
              "  }\n",
              "\n",
              "  @keyframes spin {\n",
              "    0% {\n",
              "      border-color: transparent;\n",
              "      border-bottom-color: var(--fill-color);\n",
              "      border-left-color: var(--fill-color);\n",
              "    }\n",
              "    20% {\n",
              "      border-color: transparent;\n",
              "      border-left-color: var(--fill-color);\n",
              "      border-top-color: var(--fill-color);\n",
              "    }\n",
              "    30% {\n",
              "      border-color: transparent;\n",
              "      border-left-color: var(--fill-color);\n",
              "      border-top-color: var(--fill-color);\n",
              "      border-right-color: var(--fill-color);\n",
              "    }\n",
              "    40% {\n",
              "      border-color: transparent;\n",
              "      border-right-color: var(--fill-color);\n",
              "      border-top-color: var(--fill-color);\n",
              "    }\n",
              "    60% {\n",
              "      border-color: transparent;\n",
              "      border-right-color: var(--fill-color);\n",
              "    }\n",
              "    80% {\n",
              "      border-color: transparent;\n",
              "      border-right-color: var(--fill-color);\n",
              "      border-bottom-color: var(--fill-color);\n",
              "    }\n",
              "    90% {\n",
              "      border-color: transparent;\n",
              "      border-bottom-color: var(--fill-color);\n",
              "    }\n",
              "  }\n",
              "</style>\n",
              "\n",
              "      <script>\n",
              "        async function quickchart(key) {\n",
              "          const quickchartButtonEl =\n",
              "            document.querySelector('#' + key + ' button');\n",
              "          quickchartButtonEl.disabled = true;  // To prevent multiple clicks.\n",
              "          quickchartButtonEl.classList.add('colab-df-spinner');\n",
              "          try {\n",
              "            const charts = await google.colab.kernel.invokeFunction(\n",
              "                'suggestCharts', [key], {});\n",
              "          } catch (error) {\n",
              "            console.error('Error during call to suggestCharts:', error);\n",
              "          }\n",
              "          quickchartButtonEl.classList.remove('colab-df-spinner');\n",
              "          quickchartButtonEl.classList.add('colab-df-quickchart-complete');\n",
              "        }\n",
              "        (() => {\n",
              "          let quickchartButtonEl =\n",
              "            document.querySelector('#df-0b528931-037b-4044-a6b1-1cdc56654cf7 button');\n",
              "          quickchartButtonEl.style.display =\n",
              "            google.colab.kernel.accessAllowed ? 'block' : 'none';\n",
              "        })();\n",
              "      </script>\n",
              "    </div>\n",
              "\n",
              "    </div>\n",
              "  </div>\n"
            ],
            "application/vnd.google.colaboratory.intrinsic+json": {
              "type": "dataframe",
              "summary": "{\n  \"name\": \"df_outliers[[\\\"target\\\"]]\",\n  \"rows\": 8,\n  \"fields\": [\n    {\n      \"column\": \"target\",\n      \"properties\": {\n        \"dtype\": \"number\",\n        \"std\": 7563.612511136193,\n        \"min\": 0.0,\n        \"max\": 17640.0,\n        \"num_unique_values\": 8,\n        \"samples\": [\n          1821.944797805917,\n          240.0,\n          17137.0\n        ],\n        \"semantic_type\": \"\",\n        \"description\": \"\"\n      }\n    }\n  ]\n}"
            }
          },
          "metadata": {},
          "execution_count": 14
        }
      ]
    },
    {
      "cell_type": "markdown",
      "source": [
        "## 6. Imputação de faltantes: aqui usamos mediana (poderia ser média ou KNN)"
      ],
      "metadata": {
        "id": "ePdlJRPvvLLV"
      }
    },
    {
      "cell_type": "code",
      "source": [
        "# Antes da imputação\n",
        "dados_faltantes_antes = df_outliers.isnull().sum()\n",
        "print(\"Dados faltantes antes da imputação:\\n\", dados_faltantes_antes)"
      ],
      "metadata": {
        "colab": {
          "base_uri": "https://localhost:8080/"
        },
        "outputId": "b15f2e9b-54b4-4b24-8903-71ce03e3e890",
        "id": "MIdZnor-vLLV"
      },
      "execution_count": 15,
      "outputs": [
        {
          "output_type": "stream",
          "name": "stdout",
          "text": [
            "Dados faltantes antes da imputação:\n",
            " Municipio_id                                              0\n",
            "Ano                                                       0\n",
            "precipitacao (mm)                                         0\n",
            "temperatura maxima (ºC)                                   0\n",
            "temperatura minima (ºC)                                   0\n",
            "Mesorregião_id                                            0\n",
            "Mesorregião                                               0\n",
            "Municipio                                                 0\n",
            "Área destinada à colheita (Hectares)                      0\n",
            "Área colhida (Hectares)                                   0\n",
            "Quantidade produzida (Toneladas)                          0\n",
            "Rendimento médio da produção (Quilogramas por Hectare)    4\n",
            "Valor da produção (Mil Reais)                             0\n",
            "latitude                                                  0\n",
            "longitude                                                 0\n",
            "altitude                                                  0\n",
            "target                                                    0\n",
            "dtype: int64\n"
          ]
        }
      ]
    },
    {
      "cell_type": "code",
      "source": [
        "df_outliers.fillna(df_outliers.median(numeric_only=True), inplace=True)"
      ],
      "metadata": {
        "id": "PSXWQHHTvLLV"
      },
      "execution_count": 16,
      "outputs": []
    },
    {
      "cell_type": "markdown",
      "source": [
        "## 7. Organizar serie temporal"
      ],
      "metadata": {
        "id": "lmd_Y5H_vLLV"
      }
    },
    {
      "cell_type": "code",
      "source": [
        "import pandas as pd\n",
        "\n",
        "def count_time_series_examples(df: pd.DataFrame,\n",
        "                               id_col: str = 'Municipio_id',\n",
        "                               year_col: str = 'Ano',\n",
        "                               min_context: int = 2,\n",
        "                               horizon: int = 1) -> pd.DataFrame:\n",
        "    \"\"\"\n",
        "    Para cada tamanho de janela de contexto a partir de `min_context`, computa quantos pares\n",
        "    (janela de contexto -> horizonte) são possíveis em cada série do DataFrame.\n",
        "\n",
        "    Passos:\n",
        "    1. Agrupa por `id_col` e ordena por `year_col`.\n",
        "    2. Identifica segmentos contíguos (sem saltos de anos).\n",
        "    3. Seleciona o maior segmento contíguo para cada série.\n",
        "    4. Para cada contexto c, soma todos os exemplos possíveis: max(0, L - c - horizon + 1).\n",
        "    5. Para contextos em que nenhum exemplo seja possível, para o cálculo.\n",
        "\n",
        "    Retorna um DataFrame com colunas:\n",
        "        context: tamanho da janela de contexto\n",
        "        examples: número total de pares treino->teste disponíveis\n",
        "    \"\"\"\n",
        "    # 1. Prepara o DataFrame\n",
        "    df_sorted = df[[id_col, year_col]].drop_duplicates().copy()\n",
        "    df_sorted = df_sorted.sort_values([id_col, year_col])\n",
        "\n",
        "    # 2. Identifica segmentos contíguos\n",
        "    # Calcula a diferença de anos dentro de cada grupo\n",
        "    df_sorted['year_diff'] = df_sorted.groupby(id_col)[year_col].diff().fillna(1)\n",
        "    # Marca início de segmento onde diff > 1\n",
        "    df_sorted['segment_id'] = (df_sorted['year_diff'] > 1).cumsum()\n",
        "\n",
        "    # 3. Computa tamanho de cada segmento e seleciona o maior por série\n",
        "    segments = (\n",
        "        df_sorted\n",
        "        .groupby([id_col, 'segment_id'])\n",
        "        .agg(start_year=(year_col, 'min'),\n",
        "             end_year=(year_col, 'max'),\n",
        "             length=(year_col, 'count'))\n",
        "        .reset_index()\n",
        "    )\n",
        "    # Seleciona o segmento de maior comprimento para cada série\n",
        "    max_segments = (\n",
        "        segments\n",
        "        .sort_values(['length'], ascending=False)\n",
        "        .drop_duplicates(id_col, keep='first')\n",
        "    )\n",
        "\n",
        "    # 4. Varredura de contextos\n",
        "    results = []\n",
        "    c = min_context\n",
        "    while True:\n",
        "        # Para cada segmento, se length >= c + horizon, gera (length - c - horizon + 1) exemplos\n",
        "        max_segments['examples'] = max_segments['length'].apply(\n",
        "            lambda L: max(0, L - c - horizon + 1)\n",
        "        )\n",
        "        total_examples = int(max_segments['examples'].sum())\n",
        "        if total_examples <= 0:\n",
        "            break\n",
        "        results.append({'context': c, 'examples': total_examples})\n",
        "        c += 1\n",
        "\n",
        "    return pd.DataFrame(results)\n",
        "\n",
        "count_time_series_examples(df_outliers)"
      ],
      "metadata": {
        "colab": {
          "base_uri": "https://localhost:8080/",
          "height": 896
        },
        "outputId": "fcf2289c-be83-4038-85a9-3de5cb9e57d2",
        "id": "jZ0ypAeDvLLV"
      },
      "execution_count": 17,
      "outputs": [
        {
          "output_type": "execute_result",
          "data": {
            "text/plain": [
              "    context  examples\n",
              "0         2     14488\n",
              "1         3     13724\n",
              "2         4     12972\n",
              "3         5     12236\n",
              "4         6     11510\n",
              "5         7     10808\n",
              "6         8     10132\n",
              "7         9      9473\n",
              "8        10      8836\n",
              "9        11      8217\n",
              "10       12      7611\n",
              "11       13      7020\n",
              "12       14      6444\n",
              "13       15      5883\n",
              "14       16      5330\n",
              "15       17      4788\n",
              "16       18      4264\n",
              "17       19      3759\n",
              "18       20      3295\n",
              "19       21      2885\n",
              "20       22      2481\n",
              "21       23      2104\n",
              "22       24      1730\n",
              "23       25      1357\n",
              "24       26       991\n",
              "25       27       631\n",
              "26       28       312"
            ],
            "text/html": [
              "\n",
              "  <div id=\"df-53664324-e983-479d-aa1f-f71331527dd5\" class=\"colab-df-container\">\n",
              "    <div>\n",
              "<style scoped>\n",
              "    .dataframe tbody tr th:only-of-type {\n",
              "        vertical-align: middle;\n",
              "    }\n",
              "\n",
              "    .dataframe tbody tr th {\n",
              "        vertical-align: top;\n",
              "    }\n",
              "\n",
              "    .dataframe thead th {\n",
              "        text-align: right;\n",
              "    }\n",
              "</style>\n",
              "<table border=\"1\" class=\"dataframe\">\n",
              "  <thead>\n",
              "    <tr style=\"text-align: right;\">\n",
              "      <th></th>\n",
              "      <th>context</th>\n",
              "      <th>examples</th>\n",
              "    </tr>\n",
              "  </thead>\n",
              "  <tbody>\n",
              "    <tr>\n",
              "      <th>0</th>\n",
              "      <td>2</td>\n",
              "      <td>14488</td>\n",
              "    </tr>\n",
              "    <tr>\n",
              "      <th>1</th>\n",
              "      <td>3</td>\n",
              "      <td>13724</td>\n",
              "    </tr>\n",
              "    <tr>\n",
              "      <th>2</th>\n",
              "      <td>4</td>\n",
              "      <td>12972</td>\n",
              "    </tr>\n",
              "    <tr>\n",
              "      <th>3</th>\n",
              "      <td>5</td>\n",
              "      <td>12236</td>\n",
              "    </tr>\n",
              "    <tr>\n",
              "      <th>4</th>\n",
              "      <td>6</td>\n",
              "      <td>11510</td>\n",
              "    </tr>\n",
              "    <tr>\n",
              "      <th>5</th>\n",
              "      <td>7</td>\n",
              "      <td>10808</td>\n",
              "    </tr>\n",
              "    <tr>\n",
              "      <th>6</th>\n",
              "      <td>8</td>\n",
              "      <td>10132</td>\n",
              "    </tr>\n",
              "    <tr>\n",
              "      <th>7</th>\n",
              "      <td>9</td>\n",
              "      <td>9473</td>\n",
              "    </tr>\n",
              "    <tr>\n",
              "      <th>8</th>\n",
              "      <td>10</td>\n",
              "      <td>8836</td>\n",
              "    </tr>\n",
              "    <tr>\n",
              "      <th>9</th>\n",
              "      <td>11</td>\n",
              "      <td>8217</td>\n",
              "    </tr>\n",
              "    <tr>\n",
              "      <th>10</th>\n",
              "      <td>12</td>\n",
              "      <td>7611</td>\n",
              "    </tr>\n",
              "    <tr>\n",
              "      <th>11</th>\n",
              "      <td>13</td>\n",
              "      <td>7020</td>\n",
              "    </tr>\n",
              "    <tr>\n",
              "      <th>12</th>\n",
              "      <td>14</td>\n",
              "      <td>6444</td>\n",
              "    </tr>\n",
              "    <tr>\n",
              "      <th>13</th>\n",
              "      <td>15</td>\n",
              "      <td>5883</td>\n",
              "    </tr>\n",
              "    <tr>\n",
              "      <th>14</th>\n",
              "      <td>16</td>\n",
              "      <td>5330</td>\n",
              "    </tr>\n",
              "    <tr>\n",
              "      <th>15</th>\n",
              "      <td>17</td>\n",
              "      <td>4788</td>\n",
              "    </tr>\n",
              "    <tr>\n",
              "      <th>16</th>\n",
              "      <td>18</td>\n",
              "      <td>4264</td>\n",
              "    </tr>\n",
              "    <tr>\n",
              "      <th>17</th>\n",
              "      <td>19</td>\n",
              "      <td>3759</td>\n",
              "    </tr>\n",
              "    <tr>\n",
              "      <th>18</th>\n",
              "      <td>20</td>\n",
              "      <td>3295</td>\n",
              "    </tr>\n",
              "    <tr>\n",
              "      <th>19</th>\n",
              "      <td>21</td>\n",
              "      <td>2885</td>\n",
              "    </tr>\n",
              "    <tr>\n",
              "      <th>20</th>\n",
              "      <td>22</td>\n",
              "      <td>2481</td>\n",
              "    </tr>\n",
              "    <tr>\n",
              "      <th>21</th>\n",
              "      <td>23</td>\n",
              "      <td>2104</td>\n",
              "    </tr>\n",
              "    <tr>\n",
              "      <th>22</th>\n",
              "      <td>24</td>\n",
              "      <td>1730</td>\n",
              "    </tr>\n",
              "    <tr>\n",
              "      <th>23</th>\n",
              "      <td>25</td>\n",
              "      <td>1357</td>\n",
              "    </tr>\n",
              "    <tr>\n",
              "      <th>24</th>\n",
              "      <td>26</td>\n",
              "      <td>991</td>\n",
              "    </tr>\n",
              "    <tr>\n",
              "      <th>25</th>\n",
              "      <td>27</td>\n",
              "      <td>631</td>\n",
              "    </tr>\n",
              "    <tr>\n",
              "      <th>26</th>\n",
              "      <td>28</td>\n",
              "      <td>312</td>\n",
              "    </tr>\n",
              "  </tbody>\n",
              "</table>\n",
              "</div>\n",
              "    <div class=\"colab-df-buttons\">\n",
              "\n",
              "  <div class=\"colab-df-container\">\n",
              "    <button class=\"colab-df-convert\" onclick=\"convertToInteractive('df-53664324-e983-479d-aa1f-f71331527dd5')\"\n",
              "            title=\"Convert this dataframe to an interactive table.\"\n",
              "            style=\"display:none;\">\n",
              "\n",
              "  <svg xmlns=\"http://www.w3.org/2000/svg\" height=\"24px\" viewBox=\"0 -960 960 960\">\n",
              "    <path d=\"M120-120v-720h720v720H120Zm60-500h600v-160H180v160Zm220 220h160v-160H400v160Zm0 220h160v-160H400v160ZM180-400h160v-160H180v160Zm440 0h160v-160H620v160ZM180-180h160v-160H180v160Zm440 0h160v-160H620v160Z\"/>\n",
              "  </svg>\n",
              "    </button>\n",
              "\n",
              "  <style>\n",
              "    .colab-df-container {\n",
              "      display:flex;\n",
              "      gap: 12px;\n",
              "    }\n",
              "\n",
              "    .colab-df-convert {\n",
              "      background-color: #E8F0FE;\n",
              "      border: none;\n",
              "      border-radius: 50%;\n",
              "      cursor: pointer;\n",
              "      display: none;\n",
              "      fill: #1967D2;\n",
              "      height: 32px;\n",
              "      padding: 0 0 0 0;\n",
              "      width: 32px;\n",
              "    }\n",
              "\n",
              "    .colab-df-convert:hover {\n",
              "      background-color: #E2EBFA;\n",
              "      box-shadow: 0px 1px 2px rgba(60, 64, 67, 0.3), 0px 1px 3px 1px rgba(60, 64, 67, 0.15);\n",
              "      fill: #174EA6;\n",
              "    }\n",
              "\n",
              "    .colab-df-buttons div {\n",
              "      margin-bottom: 4px;\n",
              "    }\n",
              "\n",
              "    [theme=dark] .colab-df-convert {\n",
              "      background-color: #3B4455;\n",
              "      fill: #D2E3FC;\n",
              "    }\n",
              "\n",
              "    [theme=dark] .colab-df-convert:hover {\n",
              "      background-color: #434B5C;\n",
              "      box-shadow: 0px 1px 3px 1px rgba(0, 0, 0, 0.15);\n",
              "      filter: drop-shadow(0px 1px 2px rgba(0, 0, 0, 0.3));\n",
              "      fill: #FFFFFF;\n",
              "    }\n",
              "  </style>\n",
              "\n",
              "    <script>\n",
              "      const buttonEl =\n",
              "        document.querySelector('#df-53664324-e983-479d-aa1f-f71331527dd5 button.colab-df-convert');\n",
              "      buttonEl.style.display =\n",
              "        google.colab.kernel.accessAllowed ? 'block' : 'none';\n",
              "\n",
              "      async function convertToInteractive(key) {\n",
              "        const element = document.querySelector('#df-53664324-e983-479d-aa1f-f71331527dd5');\n",
              "        const dataTable =\n",
              "          await google.colab.kernel.invokeFunction('convertToInteractive',\n",
              "                                                    [key], {});\n",
              "        if (!dataTable) return;\n",
              "\n",
              "        const docLinkHtml = 'Like what you see? Visit the ' +\n",
              "          '<a target=\"_blank\" href=https://colab.research.google.com/notebooks/data_table.ipynb>data table notebook</a>'\n",
              "          + ' to learn more about interactive tables.';\n",
              "        element.innerHTML = '';\n",
              "        dataTable['output_type'] = 'display_data';\n",
              "        await google.colab.output.renderOutput(dataTable, element);\n",
              "        const docLink = document.createElement('div');\n",
              "        docLink.innerHTML = docLinkHtml;\n",
              "        element.appendChild(docLink);\n",
              "      }\n",
              "    </script>\n",
              "  </div>\n",
              "\n",
              "\n",
              "    <div id=\"df-2cc9ec5b-214f-4c81-8e89-fdff1ab99895\">\n",
              "      <button class=\"colab-df-quickchart\" onclick=\"quickchart('df-2cc9ec5b-214f-4c81-8e89-fdff1ab99895')\"\n",
              "                title=\"Suggest charts\"\n",
              "                style=\"display:none;\">\n",
              "\n",
              "<svg xmlns=\"http://www.w3.org/2000/svg\" height=\"24px\"viewBox=\"0 0 24 24\"\n",
              "     width=\"24px\">\n",
              "    <g>\n",
              "        <path d=\"M19 3H5c-1.1 0-2 .9-2 2v14c0 1.1.9 2 2 2h14c1.1 0 2-.9 2-2V5c0-1.1-.9-2-2-2zM9 17H7v-7h2v7zm4 0h-2V7h2v10zm4 0h-2v-4h2v4z\"/>\n",
              "    </g>\n",
              "</svg>\n",
              "      </button>\n",
              "\n",
              "<style>\n",
              "  .colab-df-quickchart {\n",
              "      --bg-color: #E8F0FE;\n",
              "      --fill-color: #1967D2;\n",
              "      --hover-bg-color: #E2EBFA;\n",
              "      --hover-fill-color: #174EA6;\n",
              "      --disabled-fill-color: #AAA;\n",
              "      --disabled-bg-color: #DDD;\n",
              "  }\n",
              "\n",
              "  [theme=dark] .colab-df-quickchart {\n",
              "      --bg-color: #3B4455;\n",
              "      --fill-color: #D2E3FC;\n",
              "      --hover-bg-color: #434B5C;\n",
              "      --hover-fill-color: #FFFFFF;\n",
              "      --disabled-bg-color: #3B4455;\n",
              "      --disabled-fill-color: #666;\n",
              "  }\n",
              "\n",
              "  .colab-df-quickchart {\n",
              "    background-color: var(--bg-color);\n",
              "    border: none;\n",
              "    border-radius: 50%;\n",
              "    cursor: pointer;\n",
              "    display: none;\n",
              "    fill: var(--fill-color);\n",
              "    height: 32px;\n",
              "    padding: 0;\n",
              "    width: 32px;\n",
              "  }\n",
              "\n",
              "  .colab-df-quickchart:hover {\n",
              "    background-color: var(--hover-bg-color);\n",
              "    box-shadow: 0 1px 2px rgba(60, 64, 67, 0.3), 0 1px 3px 1px rgba(60, 64, 67, 0.15);\n",
              "    fill: var(--button-hover-fill-color);\n",
              "  }\n",
              "\n",
              "  .colab-df-quickchart-complete:disabled,\n",
              "  .colab-df-quickchart-complete:disabled:hover {\n",
              "    background-color: var(--disabled-bg-color);\n",
              "    fill: var(--disabled-fill-color);\n",
              "    box-shadow: none;\n",
              "  }\n",
              "\n",
              "  .colab-df-spinner {\n",
              "    border: 2px solid var(--fill-color);\n",
              "    border-color: transparent;\n",
              "    border-bottom-color: var(--fill-color);\n",
              "    animation:\n",
              "      spin 1s steps(1) infinite;\n",
              "  }\n",
              "\n",
              "  @keyframes spin {\n",
              "    0% {\n",
              "      border-color: transparent;\n",
              "      border-bottom-color: var(--fill-color);\n",
              "      border-left-color: var(--fill-color);\n",
              "    }\n",
              "    20% {\n",
              "      border-color: transparent;\n",
              "      border-left-color: var(--fill-color);\n",
              "      border-top-color: var(--fill-color);\n",
              "    }\n",
              "    30% {\n",
              "      border-color: transparent;\n",
              "      border-left-color: var(--fill-color);\n",
              "      border-top-color: var(--fill-color);\n",
              "      border-right-color: var(--fill-color);\n",
              "    }\n",
              "    40% {\n",
              "      border-color: transparent;\n",
              "      border-right-color: var(--fill-color);\n",
              "      border-top-color: var(--fill-color);\n",
              "    }\n",
              "    60% {\n",
              "      border-color: transparent;\n",
              "      border-right-color: var(--fill-color);\n",
              "    }\n",
              "    80% {\n",
              "      border-color: transparent;\n",
              "      border-right-color: var(--fill-color);\n",
              "      border-bottom-color: var(--fill-color);\n",
              "    }\n",
              "    90% {\n",
              "      border-color: transparent;\n",
              "      border-bottom-color: var(--fill-color);\n",
              "    }\n",
              "  }\n",
              "</style>\n",
              "\n",
              "      <script>\n",
              "        async function quickchart(key) {\n",
              "          const quickchartButtonEl =\n",
              "            document.querySelector('#' + key + ' button');\n",
              "          quickchartButtonEl.disabled = true;  // To prevent multiple clicks.\n",
              "          quickchartButtonEl.classList.add('colab-df-spinner');\n",
              "          try {\n",
              "            const charts = await google.colab.kernel.invokeFunction(\n",
              "                'suggestCharts', [key], {});\n",
              "          } catch (error) {\n",
              "            console.error('Error during call to suggestCharts:', error);\n",
              "          }\n",
              "          quickchartButtonEl.classList.remove('colab-df-spinner');\n",
              "          quickchartButtonEl.classList.add('colab-df-quickchart-complete');\n",
              "        }\n",
              "        (() => {\n",
              "          let quickchartButtonEl =\n",
              "            document.querySelector('#df-2cc9ec5b-214f-4c81-8e89-fdff1ab99895 button');\n",
              "          quickchartButtonEl.style.display =\n",
              "            google.colab.kernel.accessAllowed ? 'block' : 'none';\n",
              "        })();\n",
              "      </script>\n",
              "    </div>\n",
              "\n",
              "    </div>\n",
              "  </div>\n"
            ],
            "application/vnd.google.colaboratory.intrinsic+json": {
              "type": "dataframe",
              "summary": "{\n  \"name\": \"count_time_series_examples(df_outliers)\",\n  \"rows\": 27,\n  \"fields\": [\n    {\n      \"column\": \"context\",\n      \"properties\": {\n        \"dtype\": \"number\",\n        \"std\": 7,\n        \"min\": 2,\n        \"max\": 28,\n        \"num_unique_values\": 27,\n        \"samples\": [\n          10,\n          15,\n          11\n        ],\n        \"semantic_type\": \"\",\n        \"description\": \"\"\n      }\n    },\n    {\n      \"column\": \"examples\",\n      \"properties\": {\n        \"dtype\": \"number\",\n        \"std\": 4361,\n        \"min\": 312,\n        \"max\": 14488,\n        \"num_unique_values\": 27,\n        \"samples\": [\n          8836,\n          5883,\n          8217\n        ],\n        \"semantic_type\": \"\",\n        \"description\": \"\"\n      }\n    }\n  ]\n}"
            }
          },
          "metadata": {},
          "execution_count": 17
        }
      ]
    },
    {
      "cell_type": "code",
      "source": [
        "def filter_series_by_context(df: pd.DataFrame,\n",
        "                              context: int,\n",
        "                              id_col: str = 'Municipio_id',\n",
        "                              year_col: str = 'Ano',\n",
        "                              horizon: int = 1) -> pd.DataFrame:\n",
        "    \"\"\"\n",
        "    Filtra o DataFrame mantendo apenas as séries cujo maior segmento contíguo\n",
        "    gera pelo menos 2 pares treino->teste para o dado tamanho de contexto.\n",
        "\n",
        "    Parâmetros:\n",
        "    - df: DataFrame completo com colunas de identificação e ano.\n",
        "    - context: tamanho da janela de contexto (número de anos).\n",
        "    - id_col: nome da coluna de identificador de série.\n",
        "    - year_col: nome da coluna de ano.\n",
        "    - horizon: horizonte de previsão (padrão 1 ano).\n",
        "\n",
        "    Retorna:\n",
        "    - DataFrame filtrado, contendo apenas os registros dos municípios válidos.\n",
        "    \"\"\"\n",
        "    # 1) Obtenha apenas as combinações únicas (id, ano) já ordenadas\n",
        "    df_sorted = (\n",
        "        df[[id_col, year_col]]\n",
        "        .drop_duplicates()\n",
        "        .sort_values([id_col, year_col])\n",
        "    )\n",
        "\n",
        "    # 2) Identifique quebras de sequência de anos\n",
        "    df_sorted['year_diff'] = (\n",
        "        df_sorted\n",
        "        .groupby(id_col)[year_col]\n",
        "        .diff()\n",
        "        .fillna(1)\n",
        "    )\n",
        "    df_sorted['segment_id'] = (df_sorted['year_diff'] > 1).cumsum()\n",
        "\n",
        "    # 3) Calcule início, fim e comprimento de cada segmento\n",
        "    segments = (\n",
        "        df_sorted\n",
        "        .groupby([id_col, 'segment_id'])\n",
        "        .agg(\n",
        "            start_year=(year_col, 'min'),\n",
        "            end_year=(year_col, 'max'),\n",
        "            length=(year_col, 'count')\n",
        "        )\n",
        "        .reset_index()\n",
        "    )\n",
        "\n",
        "    # 4) Para cada série (cada id_col), selecione o segmento mais longo\n",
        "    max_seg = (\n",
        "        segments\n",
        "        .sort_values([id_col, 'length'], ascending=[True, False])\n",
        "        .drop_duplicates(subset=id_col, keep='first')\n",
        "        .reset_index(drop=True)\n",
        "    )\n",
        "\n",
        "    # 5) Filtre apenas os segmentos que dão pelo menos 2 pares treino->teste:\n",
        "    #    comprimento >= context + horizon + 1\n",
        "    min_length = context + horizon + 1\n",
        "    valid = max_seg[max_seg['length'] >= min_length]\n",
        "\n",
        "    # 6) Reúna do DataFrame original apenas os anos desses segmentos válidos\n",
        "    dfs = []\n",
        "    for _, row in valid.iterrows():\n",
        "        mid = row[id_col]\n",
        "        anos_validos = range(int(row['start_year']), int(row['end_year']) + 1)\n",
        "        mask = (df[id_col] == mid) & (df[year_col].isin(anos_validos))\n",
        "        dfs.append(df.loc[mask])\n",
        "\n",
        "    if dfs:\n",
        "        return pd.concat(dfs, ignore_index=True)\n",
        "    else:\n",
        "        return df.iloc[0:0]  # vazio, mesmas colunas\n",
        "\n",
        "# Exemplo de uso:\n",
        "janela_contexto = 2\n",
        "df_filtrado = filter_series_by_context(df_outliers, janela_contexto)"
      ],
      "metadata": {
        "id": "W5aHKhznvLLV"
      },
      "execution_count": 18,
      "outputs": []
    },
    {
      "cell_type": "markdown",
      "source": [
        "## 8. Seleção de features"
      ],
      "metadata": {
        "id": "JNpUZlJFvLLV"
      }
    },
    {
      "cell_type": "markdown",
      "source": [
        "Mantemos variáveis numéricas e dummies de mesorregião; descartamos IDs se não necessários."
      ],
      "metadata": {
        "id": "LQqZbZzVvLLV"
      }
    },
    {
      "cell_type": "code",
      "source": [
        "num_features = [\n",
        "    'target',\n",
        "    'Municipio',\n",
        "    'Ano',\n",
        "    'latitude',\n",
        "    'longitude',\n",
        "    'altitude',\n",
        "    'precipitacao (mm)',\n",
        "    'temperatura minima (ºC)',\n",
        "    'temperatura maxima (ºC)'\n",
        "]\n",
        "cat_features = [\n",
        "  'Mesorregião'\n",
        "]\n",
        "\n",
        "df_features = df_filtrado[num_features + cat_features].copy()"
      ],
      "metadata": {
        "id": "RfqLGKZkvLLV"
      },
      "execution_count": 19,
      "outputs": []
    },
    {
      "cell_type": "markdown",
      "source": [
        "## 9. Divisão temporal treino/teste (anos ≤ 2009 → treino, ≥ 2010 → teste)"
      ],
      "metadata": {
        "id": "E07jplvHvLLV"
      }
    },
    {
      "cell_type": "code",
      "source": [
        "horizon = 1\n",
        "year_col = 'Ano'\n",
        "id_col = 'Municipio'\n",
        "\n",
        "df = df_features.copy()\n",
        "df['split'] = 'train'\n",
        "k = horizon\n",
        "# Para cada série, marca como test as últimas k observações\n",
        "def mark_test(sub):\n",
        "    if len(sub) <= k:\n",
        "        return pd.Series(['test'] * len(sub), index=sub.index)\n",
        "    test_idx = sub.nlargest(k, year_col).index\n",
        "    splits = pd.Series('train', index=sub.index)\n",
        "    splits.loc[test_idx] = 'test'\n",
        "    return splits\n",
        "df['split'] = df.groupby(id_col).apply(lambda g: mark_test(g), include_groups=False).reset_index(level=0, drop=True)\n",
        "\n",
        "print(df['split'].value_counts())"
      ],
      "metadata": {
        "colab": {
          "base_uri": "https://localhost:8080/"
        },
        "outputId": "e032bc80-0144-4ac3-e546-2f9d1d500e7f",
        "id": "PsrI_0NEvLLV"
      },
      "execution_count": 20,
      "outputs": [
        {
          "output_type": "stream",
          "name": "stdout",
          "text": [
            "split\n",
            "train    15228\n",
            "test       752\n",
            "Name: count, dtype: int64\n"
          ]
        }
      ]
    },
    {
      "cell_type": "code",
      "source": [
        "df[df.Municipio == \"Abadia dos Dourados - MG\"]"
      ],
      "metadata": {
        "colab": {
          "base_uri": "https://localhost:8080/",
          "height": 959
        },
        "outputId": "2d4132b5-20b9-4c73-ecec-7b3ec7228dfe",
        "id": "gDYzYk3HvLLV"
      },
      "execution_count": 21,
      "outputs": [
        {
          "output_type": "execute_result",
          "data": {
            "text/plain": [
              "    target                 Municipio   Ano  latitude  longitude  altitude  \\\n",
              "0    269.0  Abadia dos Dourados - MG  1995 -18.35296 -47.459129       808   \n",
              "1    851.0  Abadia dos Dourados - MG  1996 -18.35296 -47.459129       808   \n",
              "2    174.0  Abadia dos Dourados - MG  1997 -18.35296 -47.459129       808   \n",
              "3    191.0  Abadia dos Dourados - MG  1998 -18.35296 -47.459129       808   \n",
              "4    198.0  Abadia dos Dourados - MG  1999 -18.35296 -47.459129       808   \n",
              "5    150.0  Abadia dos Dourados - MG  2000 -18.35296 -47.459129       808   \n",
              "6    154.0  Abadia dos Dourados - MG  2001 -18.35296 -47.459129       808   \n",
              "7     60.0  Abadia dos Dourados - MG  2002 -18.35296 -47.459129       808   \n",
              "8     75.0  Abadia dos Dourados - MG  2003 -18.35296 -47.459129       808   \n",
              "9     86.0  Abadia dos Dourados - MG  2004 -18.35296 -47.459129       808   \n",
              "10    98.0  Abadia dos Dourados - MG  2005 -18.35296 -47.459129       808   \n",
              "11   125.0  Abadia dos Dourados - MG  2006 -18.35296 -47.459129       808   \n",
              "12    87.0  Abadia dos Dourados - MG  2007 -18.35296 -47.459129       808   \n",
              "13    82.0  Abadia dos Dourados - MG  2008 -18.35296 -47.459129       808   \n",
              "14   133.0  Abadia dos Dourados - MG  2009 -18.35296 -47.459129       808   \n",
              "15    63.0  Abadia dos Dourados - MG  2010 -18.35296 -47.459129       808   \n",
              "16    85.0  Abadia dos Dourados - MG  2011 -18.35296 -47.459129       808   \n",
              "17   104.0  Abadia dos Dourados - MG  2012 -18.35296 -47.459129       808   \n",
              "18    57.0  Abadia dos Dourados - MG  2013 -18.35296 -47.459129       808   \n",
              "19    71.0  Abadia dos Dourados - MG  2014 -18.35296 -47.459129       808   \n",
              "20   124.0  Abadia dos Dourados - MG  2015 -18.35296 -47.459129       808   \n",
              "21   147.0  Abadia dos Dourados - MG  2016 -18.35296 -47.459129       808   \n",
              "22    30.0  Abadia dos Dourados - MG  2017 -18.35296 -47.459129       808   \n",
              "23   144.0  Abadia dos Dourados - MG  2018 -18.35296 -47.459129       808   \n",
              "24   168.0  Abadia dos Dourados - MG  2019 -18.35296 -47.459129       808   \n",
              "25   491.0  Abadia dos Dourados - MG  2020 -18.35296 -47.459129       808   \n",
              "26   297.0  Abadia dos Dourados - MG  2021 -18.35296 -47.459129       808   \n",
              "27   371.0  Abadia dos Dourados - MG  2022 -18.35296 -47.459129       808   \n",
              "28   347.0  Abadia dos Dourados - MG  2023 -18.35296 -47.459129       808   \n",
              "\n",
              "    precipitacao (mm)  temperatura minima (ºC)  temperatura maxima (ºC)  \\\n",
              "0          115.041666                16.750000                27.750000   \n",
              "1          120.941667                16.333333                27.500000   \n",
              "2          121.391667                16.416667                27.500000   \n",
              "3          118.966665                16.833333                27.833333   \n",
              "4          113.016668                16.166667                27.583333   \n",
              "5          136.033334                16.083333                27.416667   \n",
              "6          108.716668                16.500000                27.916667   \n",
              "7          111.041667                17.000000                28.500000   \n",
              "8          128.008334                16.333333                27.916667   \n",
              "9          136.083333                16.250000                27.333333   \n",
              "10         135.075001                16.750000                27.666667   \n",
              "11         139.100001                16.333333                27.416667   \n",
              "12         111.825000                16.500000                28.500000   \n",
              "13         142.133333                16.416667                27.500000   \n",
              "14         134.458332                17.083333                27.583333   \n",
              "15         122.275000                16.416667                28.250000   \n",
              "16         144.450002                16.416667                27.500000   \n",
              "17         107.758333                16.750000                27.916667   \n",
              "18         121.466665                16.583333                27.666667   \n",
              "19          99.958334                16.750000                28.583333   \n",
              "20         107.375000                17.250000                28.666667   \n",
              "21         104.600000                17.000000                28.750000   \n",
              "22         102.083334                16.833333                28.250000   \n",
              "23         120.866668                16.833333                28.166667   \n",
              "24          98.250001                17.166667                28.666667   \n",
              "25         123.008331                16.916667                28.416667   \n",
              "26         118.466666                16.500000                28.250000   \n",
              "27         127.366665                16.416667                28.000000   \n",
              "28         118.958333                17.166667                29.083333   \n",
              "\n",
              "                         Mesorregião  split  \n",
              "0   Triângulo Mineiro/Alto Paranaíba  train  \n",
              "1   Triângulo Mineiro/Alto Paranaíba  train  \n",
              "2   Triângulo Mineiro/Alto Paranaíba  train  \n",
              "3   Triângulo Mineiro/Alto Paranaíba  train  \n",
              "4   Triângulo Mineiro/Alto Paranaíba  train  \n",
              "5   Triângulo Mineiro/Alto Paranaíba  train  \n",
              "6   Triângulo Mineiro/Alto Paranaíba  train  \n",
              "7   Triângulo Mineiro/Alto Paranaíba  train  \n",
              "8   Triângulo Mineiro/Alto Paranaíba  train  \n",
              "9   Triângulo Mineiro/Alto Paranaíba  train  \n",
              "10  Triângulo Mineiro/Alto Paranaíba  train  \n",
              "11  Triângulo Mineiro/Alto Paranaíba  train  \n",
              "12  Triângulo Mineiro/Alto Paranaíba  train  \n",
              "13  Triângulo Mineiro/Alto Paranaíba  train  \n",
              "14  Triângulo Mineiro/Alto Paranaíba  train  \n",
              "15  Triângulo Mineiro/Alto Paranaíba  train  \n",
              "16  Triângulo Mineiro/Alto Paranaíba  train  \n",
              "17  Triângulo Mineiro/Alto Paranaíba  train  \n",
              "18  Triângulo Mineiro/Alto Paranaíba  train  \n",
              "19  Triângulo Mineiro/Alto Paranaíba  train  \n",
              "20  Triângulo Mineiro/Alto Paranaíba  train  \n",
              "21  Triângulo Mineiro/Alto Paranaíba  train  \n",
              "22  Triângulo Mineiro/Alto Paranaíba  train  \n",
              "23  Triângulo Mineiro/Alto Paranaíba  train  \n",
              "24  Triângulo Mineiro/Alto Paranaíba  train  \n",
              "25  Triângulo Mineiro/Alto Paranaíba  train  \n",
              "26  Triângulo Mineiro/Alto Paranaíba  train  \n",
              "27  Triângulo Mineiro/Alto Paranaíba  train  \n",
              "28  Triângulo Mineiro/Alto Paranaíba   test  "
            ],
            "text/html": [
              "\n",
              "  <div id=\"df-c83f4cf3-0139-417f-8dd8-a2ea7854b7a8\" class=\"colab-df-container\">\n",
              "    <div>\n",
              "<style scoped>\n",
              "    .dataframe tbody tr th:only-of-type {\n",
              "        vertical-align: middle;\n",
              "    }\n",
              "\n",
              "    .dataframe tbody tr th {\n",
              "        vertical-align: top;\n",
              "    }\n",
              "\n",
              "    .dataframe thead th {\n",
              "        text-align: right;\n",
              "    }\n",
              "</style>\n",
              "<table border=\"1\" class=\"dataframe\">\n",
              "  <thead>\n",
              "    <tr style=\"text-align: right;\">\n",
              "      <th></th>\n",
              "      <th>target</th>\n",
              "      <th>Municipio</th>\n",
              "      <th>Ano</th>\n",
              "      <th>latitude</th>\n",
              "      <th>longitude</th>\n",
              "      <th>altitude</th>\n",
              "      <th>precipitacao (mm)</th>\n",
              "      <th>temperatura minima (ºC)</th>\n",
              "      <th>temperatura maxima (ºC)</th>\n",
              "      <th>Mesorregião</th>\n",
              "      <th>split</th>\n",
              "    </tr>\n",
              "  </thead>\n",
              "  <tbody>\n",
              "    <tr>\n",
              "      <th>0</th>\n",
              "      <td>269.0</td>\n",
              "      <td>Abadia dos Dourados - MG</td>\n",
              "      <td>1995</td>\n",
              "      <td>-18.35296</td>\n",
              "      <td>-47.459129</td>\n",
              "      <td>808</td>\n",
              "      <td>115.041666</td>\n",
              "      <td>16.750000</td>\n",
              "      <td>27.750000</td>\n",
              "      <td>Triângulo Mineiro/Alto Paranaíba</td>\n",
              "      <td>train</td>\n",
              "    </tr>\n",
              "    <tr>\n",
              "      <th>1</th>\n",
              "      <td>851.0</td>\n",
              "      <td>Abadia dos Dourados - MG</td>\n",
              "      <td>1996</td>\n",
              "      <td>-18.35296</td>\n",
              "      <td>-47.459129</td>\n",
              "      <td>808</td>\n",
              "      <td>120.941667</td>\n",
              "      <td>16.333333</td>\n",
              "      <td>27.500000</td>\n",
              "      <td>Triângulo Mineiro/Alto Paranaíba</td>\n",
              "      <td>train</td>\n",
              "    </tr>\n",
              "    <tr>\n",
              "      <th>2</th>\n",
              "      <td>174.0</td>\n",
              "      <td>Abadia dos Dourados - MG</td>\n",
              "      <td>1997</td>\n",
              "      <td>-18.35296</td>\n",
              "      <td>-47.459129</td>\n",
              "      <td>808</td>\n",
              "      <td>121.391667</td>\n",
              "      <td>16.416667</td>\n",
              "      <td>27.500000</td>\n",
              "      <td>Triângulo Mineiro/Alto Paranaíba</td>\n",
              "      <td>train</td>\n",
              "    </tr>\n",
              "    <tr>\n",
              "      <th>3</th>\n",
              "      <td>191.0</td>\n",
              "      <td>Abadia dos Dourados - MG</td>\n",
              "      <td>1998</td>\n",
              "      <td>-18.35296</td>\n",
              "      <td>-47.459129</td>\n",
              "      <td>808</td>\n",
              "      <td>118.966665</td>\n",
              "      <td>16.833333</td>\n",
              "      <td>27.833333</td>\n",
              "      <td>Triângulo Mineiro/Alto Paranaíba</td>\n",
              "      <td>train</td>\n",
              "    </tr>\n",
              "    <tr>\n",
              "      <th>4</th>\n",
              "      <td>198.0</td>\n",
              "      <td>Abadia dos Dourados - MG</td>\n",
              "      <td>1999</td>\n",
              "      <td>-18.35296</td>\n",
              "      <td>-47.459129</td>\n",
              "      <td>808</td>\n",
              "      <td>113.016668</td>\n",
              "      <td>16.166667</td>\n",
              "      <td>27.583333</td>\n",
              "      <td>Triângulo Mineiro/Alto Paranaíba</td>\n",
              "      <td>train</td>\n",
              "    </tr>\n",
              "    <tr>\n",
              "      <th>5</th>\n",
              "      <td>150.0</td>\n",
              "      <td>Abadia dos Dourados - MG</td>\n",
              "      <td>2000</td>\n",
              "      <td>-18.35296</td>\n",
              "      <td>-47.459129</td>\n",
              "      <td>808</td>\n",
              "      <td>136.033334</td>\n",
              "      <td>16.083333</td>\n",
              "      <td>27.416667</td>\n",
              "      <td>Triângulo Mineiro/Alto Paranaíba</td>\n",
              "      <td>train</td>\n",
              "    </tr>\n",
              "    <tr>\n",
              "      <th>6</th>\n",
              "      <td>154.0</td>\n",
              "      <td>Abadia dos Dourados - MG</td>\n",
              "      <td>2001</td>\n",
              "      <td>-18.35296</td>\n",
              "      <td>-47.459129</td>\n",
              "      <td>808</td>\n",
              "      <td>108.716668</td>\n",
              "      <td>16.500000</td>\n",
              "      <td>27.916667</td>\n",
              "      <td>Triângulo Mineiro/Alto Paranaíba</td>\n",
              "      <td>train</td>\n",
              "    </tr>\n",
              "    <tr>\n",
              "      <th>7</th>\n",
              "      <td>60.0</td>\n",
              "      <td>Abadia dos Dourados - MG</td>\n",
              "      <td>2002</td>\n",
              "      <td>-18.35296</td>\n",
              "      <td>-47.459129</td>\n",
              "      <td>808</td>\n",
              "      <td>111.041667</td>\n",
              "      <td>17.000000</td>\n",
              "      <td>28.500000</td>\n",
              "      <td>Triângulo Mineiro/Alto Paranaíba</td>\n",
              "      <td>train</td>\n",
              "    </tr>\n",
              "    <tr>\n",
              "      <th>8</th>\n",
              "      <td>75.0</td>\n",
              "      <td>Abadia dos Dourados - MG</td>\n",
              "      <td>2003</td>\n",
              "      <td>-18.35296</td>\n",
              "      <td>-47.459129</td>\n",
              "      <td>808</td>\n",
              "      <td>128.008334</td>\n",
              "      <td>16.333333</td>\n",
              "      <td>27.916667</td>\n",
              "      <td>Triângulo Mineiro/Alto Paranaíba</td>\n",
              "      <td>train</td>\n",
              "    </tr>\n",
              "    <tr>\n",
              "      <th>9</th>\n",
              "      <td>86.0</td>\n",
              "      <td>Abadia dos Dourados - MG</td>\n",
              "      <td>2004</td>\n",
              "      <td>-18.35296</td>\n",
              "      <td>-47.459129</td>\n",
              "      <td>808</td>\n",
              "      <td>136.083333</td>\n",
              "      <td>16.250000</td>\n",
              "      <td>27.333333</td>\n",
              "      <td>Triângulo Mineiro/Alto Paranaíba</td>\n",
              "      <td>train</td>\n",
              "    </tr>\n",
              "    <tr>\n",
              "      <th>10</th>\n",
              "      <td>98.0</td>\n",
              "      <td>Abadia dos Dourados - MG</td>\n",
              "      <td>2005</td>\n",
              "      <td>-18.35296</td>\n",
              "      <td>-47.459129</td>\n",
              "      <td>808</td>\n",
              "      <td>135.075001</td>\n",
              "      <td>16.750000</td>\n",
              "      <td>27.666667</td>\n",
              "      <td>Triângulo Mineiro/Alto Paranaíba</td>\n",
              "      <td>train</td>\n",
              "    </tr>\n",
              "    <tr>\n",
              "      <th>11</th>\n",
              "      <td>125.0</td>\n",
              "      <td>Abadia dos Dourados - MG</td>\n",
              "      <td>2006</td>\n",
              "      <td>-18.35296</td>\n",
              "      <td>-47.459129</td>\n",
              "      <td>808</td>\n",
              "      <td>139.100001</td>\n",
              "      <td>16.333333</td>\n",
              "      <td>27.416667</td>\n",
              "      <td>Triângulo Mineiro/Alto Paranaíba</td>\n",
              "      <td>train</td>\n",
              "    </tr>\n",
              "    <tr>\n",
              "      <th>12</th>\n",
              "      <td>87.0</td>\n",
              "      <td>Abadia dos Dourados - MG</td>\n",
              "      <td>2007</td>\n",
              "      <td>-18.35296</td>\n",
              "      <td>-47.459129</td>\n",
              "      <td>808</td>\n",
              "      <td>111.825000</td>\n",
              "      <td>16.500000</td>\n",
              "      <td>28.500000</td>\n",
              "      <td>Triângulo Mineiro/Alto Paranaíba</td>\n",
              "      <td>train</td>\n",
              "    </tr>\n",
              "    <tr>\n",
              "      <th>13</th>\n",
              "      <td>82.0</td>\n",
              "      <td>Abadia dos Dourados - MG</td>\n",
              "      <td>2008</td>\n",
              "      <td>-18.35296</td>\n",
              "      <td>-47.459129</td>\n",
              "      <td>808</td>\n",
              "      <td>142.133333</td>\n",
              "      <td>16.416667</td>\n",
              "      <td>27.500000</td>\n",
              "      <td>Triângulo Mineiro/Alto Paranaíba</td>\n",
              "      <td>train</td>\n",
              "    </tr>\n",
              "    <tr>\n",
              "      <th>14</th>\n",
              "      <td>133.0</td>\n",
              "      <td>Abadia dos Dourados - MG</td>\n",
              "      <td>2009</td>\n",
              "      <td>-18.35296</td>\n",
              "      <td>-47.459129</td>\n",
              "      <td>808</td>\n",
              "      <td>134.458332</td>\n",
              "      <td>17.083333</td>\n",
              "      <td>27.583333</td>\n",
              "      <td>Triângulo Mineiro/Alto Paranaíba</td>\n",
              "      <td>train</td>\n",
              "    </tr>\n",
              "    <tr>\n",
              "      <th>15</th>\n",
              "      <td>63.0</td>\n",
              "      <td>Abadia dos Dourados - MG</td>\n",
              "      <td>2010</td>\n",
              "      <td>-18.35296</td>\n",
              "      <td>-47.459129</td>\n",
              "      <td>808</td>\n",
              "      <td>122.275000</td>\n",
              "      <td>16.416667</td>\n",
              "      <td>28.250000</td>\n",
              "      <td>Triângulo Mineiro/Alto Paranaíba</td>\n",
              "      <td>train</td>\n",
              "    </tr>\n",
              "    <tr>\n",
              "      <th>16</th>\n",
              "      <td>85.0</td>\n",
              "      <td>Abadia dos Dourados - MG</td>\n",
              "      <td>2011</td>\n",
              "      <td>-18.35296</td>\n",
              "      <td>-47.459129</td>\n",
              "      <td>808</td>\n",
              "      <td>144.450002</td>\n",
              "      <td>16.416667</td>\n",
              "      <td>27.500000</td>\n",
              "      <td>Triângulo Mineiro/Alto Paranaíba</td>\n",
              "      <td>train</td>\n",
              "    </tr>\n",
              "    <tr>\n",
              "      <th>17</th>\n",
              "      <td>104.0</td>\n",
              "      <td>Abadia dos Dourados - MG</td>\n",
              "      <td>2012</td>\n",
              "      <td>-18.35296</td>\n",
              "      <td>-47.459129</td>\n",
              "      <td>808</td>\n",
              "      <td>107.758333</td>\n",
              "      <td>16.750000</td>\n",
              "      <td>27.916667</td>\n",
              "      <td>Triângulo Mineiro/Alto Paranaíba</td>\n",
              "      <td>train</td>\n",
              "    </tr>\n",
              "    <tr>\n",
              "      <th>18</th>\n",
              "      <td>57.0</td>\n",
              "      <td>Abadia dos Dourados - MG</td>\n",
              "      <td>2013</td>\n",
              "      <td>-18.35296</td>\n",
              "      <td>-47.459129</td>\n",
              "      <td>808</td>\n",
              "      <td>121.466665</td>\n",
              "      <td>16.583333</td>\n",
              "      <td>27.666667</td>\n",
              "      <td>Triângulo Mineiro/Alto Paranaíba</td>\n",
              "      <td>train</td>\n",
              "    </tr>\n",
              "    <tr>\n",
              "      <th>19</th>\n",
              "      <td>71.0</td>\n",
              "      <td>Abadia dos Dourados - MG</td>\n",
              "      <td>2014</td>\n",
              "      <td>-18.35296</td>\n",
              "      <td>-47.459129</td>\n",
              "      <td>808</td>\n",
              "      <td>99.958334</td>\n",
              "      <td>16.750000</td>\n",
              "      <td>28.583333</td>\n",
              "      <td>Triângulo Mineiro/Alto Paranaíba</td>\n",
              "      <td>train</td>\n",
              "    </tr>\n",
              "    <tr>\n",
              "      <th>20</th>\n",
              "      <td>124.0</td>\n",
              "      <td>Abadia dos Dourados - MG</td>\n",
              "      <td>2015</td>\n",
              "      <td>-18.35296</td>\n",
              "      <td>-47.459129</td>\n",
              "      <td>808</td>\n",
              "      <td>107.375000</td>\n",
              "      <td>17.250000</td>\n",
              "      <td>28.666667</td>\n",
              "      <td>Triângulo Mineiro/Alto Paranaíba</td>\n",
              "      <td>train</td>\n",
              "    </tr>\n",
              "    <tr>\n",
              "      <th>21</th>\n",
              "      <td>147.0</td>\n",
              "      <td>Abadia dos Dourados - MG</td>\n",
              "      <td>2016</td>\n",
              "      <td>-18.35296</td>\n",
              "      <td>-47.459129</td>\n",
              "      <td>808</td>\n",
              "      <td>104.600000</td>\n",
              "      <td>17.000000</td>\n",
              "      <td>28.750000</td>\n",
              "      <td>Triângulo Mineiro/Alto Paranaíba</td>\n",
              "      <td>train</td>\n",
              "    </tr>\n",
              "    <tr>\n",
              "      <th>22</th>\n",
              "      <td>30.0</td>\n",
              "      <td>Abadia dos Dourados - MG</td>\n",
              "      <td>2017</td>\n",
              "      <td>-18.35296</td>\n",
              "      <td>-47.459129</td>\n",
              "      <td>808</td>\n",
              "      <td>102.083334</td>\n",
              "      <td>16.833333</td>\n",
              "      <td>28.250000</td>\n",
              "      <td>Triângulo Mineiro/Alto Paranaíba</td>\n",
              "      <td>train</td>\n",
              "    </tr>\n",
              "    <tr>\n",
              "      <th>23</th>\n",
              "      <td>144.0</td>\n",
              "      <td>Abadia dos Dourados - MG</td>\n",
              "      <td>2018</td>\n",
              "      <td>-18.35296</td>\n",
              "      <td>-47.459129</td>\n",
              "      <td>808</td>\n",
              "      <td>120.866668</td>\n",
              "      <td>16.833333</td>\n",
              "      <td>28.166667</td>\n",
              "      <td>Triângulo Mineiro/Alto Paranaíba</td>\n",
              "      <td>train</td>\n",
              "    </tr>\n",
              "    <tr>\n",
              "      <th>24</th>\n",
              "      <td>168.0</td>\n",
              "      <td>Abadia dos Dourados - MG</td>\n",
              "      <td>2019</td>\n",
              "      <td>-18.35296</td>\n",
              "      <td>-47.459129</td>\n",
              "      <td>808</td>\n",
              "      <td>98.250001</td>\n",
              "      <td>17.166667</td>\n",
              "      <td>28.666667</td>\n",
              "      <td>Triângulo Mineiro/Alto Paranaíba</td>\n",
              "      <td>train</td>\n",
              "    </tr>\n",
              "    <tr>\n",
              "      <th>25</th>\n",
              "      <td>491.0</td>\n",
              "      <td>Abadia dos Dourados - MG</td>\n",
              "      <td>2020</td>\n",
              "      <td>-18.35296</td>\n",
              "      <td>-47.459129</td>\n",
              "      <td>808</td>\n",
              "      <td>123.008331</td>\n",
              "      <td>16.916667</td>\n",
              "      <td>28.416667</td>\n",
              "      <td>Triângulo Mineiro/Alto Paranaíba</td>\n",
              "      <td>train</td>\n",
              "    </tr>\n",
              "    <tr>\n",
              "      <th>26</th>\n",
              "      <td>297.0</td>\n",
              "      <td>Abadia dos Dourados - MG</td>\n",
              "      <td>2021</td>\n",
              "      <td>-18.35296</td>\n",
              "      <td>-47.459129</td>\n",
              "      <td>808</td>\n",
              "      <td>118.466666</td>\n",
              "      <td>16.500000</td>\n",
              "      <td>28.250000</td>\n",
              "      <td>Triângulo Mineiro/Alto Paranaíba</td>\n",
              "      <td>train</td>\n",
              "    </tr>\n",
              "    <tr>\n",
              "      <th>27</th>\n",
              "      <td>371.0</td>\n",
              "      <td>Abadia dos Dourados - MG</td>\n",
              "      <td>2022</td>\n",
              "      <td>-18.35296</td>\n",
              "      <td>-47.459129</td>\n",
              "      <td>808</td>\n",
              "      <td>127.366665</td>\n",
              "      <td>16.416667</td>\n",
              "      <td>28.000000</td>\n",
              "      <td>Triângulo Mineiro/Alto Paranaíba</td>\n",
              "      <td>train</td>\n",
              "    </tr>\n",
              "    <tr>\n",
              "      <th>28</th>\n",
              "      <td>347.0</td>\n",
              "      <td>Abadia dos Dourados - MG</td>\n",
              "      <td>2023</td>\n",
              "      <td>-18.35296</td>\n",
              "      <td>-47.459129</td>\n",
              "      <td>808</td>\n",
              "      <td>118.958333</td>\n",
              "      <td>17.166667</td>\n",
              "      <td>29.083333</td>\n",
              "      <td>Triângulo Mineiro/Alto Paranaíba</td>\n",
              "      <td>test</td>\n",
              "    </tr>\n",
              "  </tbody>\n",
              "</table>\n",
              "</div>\n",
              "    <div class=\"colab-df-buttons\">\n",
              "\n",
              "  <div class=\"colab-df-container\">\n",
              "    <button class=\"colab-df-convert\" onclick=\"convertToInteractive('df-c83f4cf3-0139-417f-8dd8-a2ea7854b7a8')\"\n",
              "            title=\"Convert this dataframe to an interactive table.\"\n",
              "            style=\"display:none;\">\n",
              "\n",
              "  <svg xmlns=\"http://www.w3.org/2000/svg\" height=\"24px\" viewBox=\"0 -960 960 960\">\n",
              "    <path d=\"M120-120v-720h720v720H120Zm60-500h600v-160H180v160Zm220 220h160v-160H400v160Zm0 220h160v-160H400v160ZM180-400h160v-160H180v160Zm440 0h160v-160H620v160ZM180-180h160v-160H180v160Zm440 0h160v-160H620v160Z\"/>\n",
              "  </svg>\n",
              "    </button>\n",
              "\n",
              "  <style>\n",
              "    .colab-df-container {\n",
              "      display:flex;\n",
              "      gap: 12px;\n",
              "    }\n",
              "\n",
              "    .colab-df-convert {\n",
              "      background-color: #E8F0FE;\n",
              "      border: none;\n",
              "      border-radius: 50%;\n",
              "      cursor: pointer;\n",
              "      display: none;\n",
              "      fill: #1967D2;\n",
              "      height: 32px;\n",
              "      padding: 0 0 0 0;\n",
              "      width: 32px;\n",
              "    }\n",
              "\n",
              "    .colab-df-convert:hover {\n",
              "      background-color: #E2EBFA;\n",
              "      box-shadow: 0px 1px 2px rgba(60, 64, 67, 0.3), 0px 1px 3px 1px rgba(60, 64, 67, 0.15);\n",
              "      fill: #174EA6;\n",
              "    }\n",
              "\n",
              "    .colab-df-buttons div {\n",
              "      margin-bottom: 4px;\n",
              "    }\n",
              "\n",
              "    [theme=dark] .colab-df-convert {\n",
              "      background-color: #3B4455;\n",
              "      fill: #D2E3FC;\n",
              "    }\n",
              "\n",
              "    [theme=dark] .colab-df-convert:hover {\n",
              "      background-color: #434B5C;\n",
              "      box-shadow: 0px 1px 3px 1px rgba(0, 0, 0, 0.15);\n",
              "      filter: drop-shadow(0px 1px 2px rgba(0, 0, 0, 0.3));\n",
              "      fill: #FFFFFF;\n",
              "    }\n",
              "  </style>\n",
              "\n",
              "    <script>\n",
              "      const buttonEl =\n",
              "        document.querySelector('#df-c83f4cf3-0139-417f-8dd8-a2ea7854b7a8 button.colab-df-convert');\n",
              "      buttonEl.style.display =\n",
              "        google.colab.kernel.accessAllowed ? 'block' : 'none';\n",
              "\n",
              "      async function convertToInteractive(key) {\n",
              "        const element = document.querySelector('#df-c83f4cf3-0139-417f-8dd8-a2ea7854b7a8');\n",
              "        const dataTable =\n",
              "          await google.colab.kernel.invokeFunction('convertToInteractive',\n",
              "                                                    [key], {});\n",
              "        if (!dataTable) return;\n",
              "\n",
              "        const docLinkHtml = 'Like what you see? Visit the ' +\n",
              "          '<a target=\"_blank\" href=https://colab.research.google.com/notebooks/data_table.ipynb>data table notebook</a>'\n",
              "          + ' to learn more about interactive tables.';\n",
              "        element.innerHTML = '';\n",
              "        dataTable['output_type'] = 'display_data';\n",
              "        await google.colab.output.renderOutput(dataTable, element);\n",
              "        const docLink = document.createElement('div');\n",
              "        docLink.innerHTML = docLinkHtml;\n",
              "        element.appendChild(docLink);\n",
              "      }\n",
              "    </script>\n",
              "  </div>\n",
              "\n",
              "\n",
              "    <div id=\"df-257f1489-2046-4918-ba86-cbf5e9aca231\">\n",
              "      <button class=\"colab-df-quickchart\" onclick=\"quickchart('df-257f1489-2046-4918-ba86-cbf5e9aca231')\"\n",
              "                title=\"Suggest charts\"\n",
              "                style=\"display:none;\">\n",
              "\n",
              "<svg xmlns=\"http://www.w3.org/2000/svg\" height=\"24px\"viewBox=\"0 0 24 24\"\n",
              "     width=\"24px\">\n",
              "    <g>\n",
              "        <path d=\"M19 3H5c-1.1 0-2 .9-2 2v14c0 1.1.9 2 2 2h14c1.1 0 2-.9 2-2V5c0-1.1-.9-2-2-2zM9 17H7v-7h2v7zm4 0h-2V7h2v10zm4 0h-2v-4h2v4z\"/>\n",
              "    </g>\n",
              "</svg>\n",
              "      </button>\n",
              "\n",
              "<style>\n",
              "  .colab-df-quickchart {\n",
              "      --bg-color: #E8F0FE;\n",
              "      --fill-color: #1967D2;\n",
              "      --hover-bg-color: #E2EBFA;\n",
              "      --hover-fill-color: #174EA6;\n",
              "      --disabled-fill-color: #AAA;\n",
              "      --disabled-bg-color: #DDD;\n",
              "  }\n",
              "\n",
              "  [theme=dark] .colab-df-quickchart {\n",
              "      --bg-color: #3B4455;\n",
              "      --fill-color: #D2E3FC;\n",
              "      --hover-bg-color: #434B5C;\n",
              "      --hover-fill-color: #FFFFFF;\n",
              "      --disabled-bg-color: #3B4455;\n",
              "      --disabled-fill-color: #666;\n",
              "  }\n",
              "\n",
              "  .colab-df-quickchart {\n",
              "    background-color: var(--bg-color);\n",
              "    border: none;\n",
              "    border-radius: 50%;\n",
              "    cursor: pointer;\n",
              "    display: none;\n",
              "    fill: var(--fill-color);\n",
              "    height: 32px;\n",
              "    padding: 0;\n",
              "    width: 32px;\n",
              "  }\n",
              "\n",
              "  .colab-df-quickchart:hover {\n",
              "    background-color: var(--hover-bg-color);\n",
              "    box-shadow: 0 1px 2px rgba(60, 64, 67, 0.3), 0 1px 3px 1px rgba(60, 64, 67, 0.15);\n",
              "    fill: var(--button-hover-fill-color);\n",
              "  }\n",
              "\n",
              "  .colab-df-quickchart-complete:disabled,\n",
              "  .colab-df-quickchart-complete:disabled:hover {\n",
              "    background-color: var(--disabled-bg-color);\n",
              "    fill: var(--disabled-fill-color);\n",
              "    box-shadow: none;\n",
              "  }\n",
              "\n",
              "  .colab-df-spinner {\n",
              "    border: 2px solid var(--fill-color);\n",
              "    border-color: transparent;\n",
              "    border-bottom-color: var(--fill-color);\n",
              "    animation:\n",
              "      spin 1s steps(1) infinite;\n",
              "  }\n",
              "\n",
              "  @keyframes spin {\n",
              "    0% {\n",
              "      border-color: transparent;\n",
              "      border-bottom-color: var(--fill-color);\n",
              "      border-left-color: var(--fill-color);\n",
              "    }\n",
              "    20% {\n",
              "      border-color: transparent;\n",
              "      border-left-color: var(--fill-color);\n",
              "      border-top-color: var(--fill-color);\n",
              "    }\n",
              "    30% {\n",
              "      border-color: transparent;\n",
              "      border-left-color: var(--fill-color);\n",
              "      border-top-color: var(--fill-color);\n",
              "      border-right-color: var(--fill-color);\n",
              "    }\n",
              "    40% {\n",
              "      border-color: transparent;\n",
              "      border-right-color: var(--fill-color);\n",
              "      border-top-color: var(--fill-color);\n",
              "    }\n",
              "    60% {\n",
              "      border-color: transparent;\n",
              "      border-right-color: var(--fill-color);\n",
              "    }\n",
              "    80% {\n",
              "      border-color: transparent;\n",
              "      border-right-color: var(--fill-color);\n",
              "      border-bottom-color: var(--fill-color);\n",
              "    }\n",
              "    90% {\n",
              "      border-color: transparent;\n",
              "      border-bottom-color: var(--fill-color);\n",
              "    }\n",
              "  }\n",
              "</style>\n",
              "\n",
              "      <script>\n",
              "        async function quickchart(key) {\n",
              "          const quickchartButtonEl =\n",
              "            document.querySelector('#' + key + ' button');\n",
              "          quickchartButtonEl.disabled = true;  // To prevent multiple clicks.\n",
              "          quickchartButtonEl.classList.add('colab-df-spinner');\n",
              "          try {\n",
              "            const charts = await google.colab.kernel.invokeFunction(\n",
              "                'suggestCharts', [key], {});\n",
              "          } catch (error) {\n",
              "            console.error('Error during call to suggestCharts:', error);\n",
              "          }\n",
              "          quickchartButtonEl.classList.remove('colab-df-spinner');\n",
              "          quickchartButtonEl.classList.add('colab-df-quickchart-complete');\n",
              "        }\n",
              "        (() => {\n",
              "          let quickchartButtonEl =\n",
              "            document.querySelector('#df-257f1489-2046-4918-ba86-cbf5e9aca231 button');\n",
              "          quickchartButtonEl.style.display =\n",
              "            google.colab.kernel.accessAllowed ? 'block' : 'none';\n",
              "        })();\n",
              "      </script>\n",
              "    </div>\n",
              "\n",
              "    </div>\n",
              "  </div>\n"
            ],
            "application/vnd.google.colaboratory.intrinsic+json": {
              "type": "dataframe",
              "summary": "{\n  \"name\": \"df[df\",\n  \"rows\": 29,\n  \"fields\": [\n    {\n      \"column\": \"target\",\n      \"properties\": {\n        \"dtype\": \"number\",\n        \"std\": 167.2392463426016,\n        \"min\": 30.0,\n        \"max\": 851.0,\n        \"num_unique_values\": 29,\n        \"samples\": [\n          371.0,\n          85.0,\n          87.0\n        ],\n        \"semantic_type\": \"\",\n        \"description\": \"\"\n      }\n    },\n    {\n      \"column\": \"Municipio\",\n      \"properties\": {\n        \"dtype\": \"category\",\n        \"num_unique_values\": 1,\n        \"samples\": [\n          \"Abadia dos Dourados - MG\"\n        ],\n        \"semantic_type\": \"\",\n        \"description\": \"\"\n      }\n    },\n    {\n      \"column\": \"Ano\",\n      \"properties\": {\n        \"dtype\": \"number\",\n        \"std\": 8,\n        \"min\": 1995,\n        \"max\": 2023,\n        \"num_unique_values\": 29,\n        \"samples\": [\n          2022\n        ],\n        \"semantic_type\": \"\",\n        \"description\": \"\"\n      }\n    },\n    {\n      \"column\": \"latitude\",\n      \"properties\": {\n        \"dtype\": \"number\",\n        \"std\": 3.6155984488964594e-15,\n        \"min\": -18.35296,\n        \"max\": -18.35296,\n        \"num_unique_values\": 1,\n        \"samples\": [\n          -18.35296\n        ],\n        \"semantic_type\": \"\",\n        \"description\": \"\"\n      }\n    },\n    {\n      \"column\": \"longitude\",\n      \"properties\": {\n        \"dtype\": \"number\",\n        \"std\": 7.231196897792919e-15,\n        \"min\": -47.459129,\n        \"max\": -47.459129,\n        \"num_unique_values\": 1,\n        \"samples\": [\n          -47.459129\n        ],\n        \"semantic_type\": \"\",\n        \"description\": \"\"\n      }\n    },\n    {\n      \"column\": \"altitude\",\n      \"properties\": {\n        \"dtype\": \"number\",\n        \"std\": 0,\n        \"min\": 808,\n        \"max\": 808,\n        \"num_unique_values\": 1,\n        \"samples\": [\n          808\n        ],\n        \"semantic_type\": \"\",\n        \"description\": \"\"\n      }\n    },\n    {\n      \"column\": \"precipitacao (mm)\",\n      \"properties\": {\n        \"dtype\": \"number\",\n        \"std\": 12.865608602344398,\n        \"min\": 98.25000083446503,\n        \"max\": 144.45000231762728,\n        \"num_unique_values\": 29,\n        \"samples\": [\n          127.3666651447614\n        ],\n        \"semantic_type\": \"\",\n        \"description\": \"\"\n      }\n    },\n    {\n      \"column\": \"temperatura minima (\\u00baC)\",\n      \"properties\": {\n        \"dtype\": \"number\",\n        \"std\": 0.3217135208395333,\n        \"min\": 16.083333333333332,\n        \"max\": 17.25,\n        \"num_unique_values\": 14,\n        \"samples\": [\n          17.083333333333332\n        ],\n        \"semantic_type\": \"\",\n        \"description\": \"\"\n      }\n    },\n    {\n      \"column\": \"temperatura maxima (\\u00baC)\",\n      \"properties\": {\n        \"dtype\": \"number\",\n        \"std\": 0.487687061496139,\n        \"min\": 27.333333333333332,\n        \"max\": 29.083333333333332,\n        \"num_unique_values\": 17,\n        \"samples\": [\n          27.75\n        ],\n        \"semantic_type\": \"\",\n        \"description\": \"\"\n      }\n    },\n    {\n      \"column\": \"Mesorregi\\u00e3o\",\n      \"properties\": {\n        \"dtype\": \"category\",\n        \"num_unique_values\": 1,\n        \"samples\": [\n          \"Tri\\u00e2ngulo Mineiro/Alto Parana\\u00edba\"\n        ],\n        \"semantic_type\": \"\",\n        \"description\": \"\"\n      }\n    },\n    {\n      \"column\": \"split\",\n      \"properties\": {\n        \"dtype\": \"category\",\n        \"num_unique_values\": 2,\n        \"samples\": [\n          \"test\"\n        ],\n        \"semantic_type\": \"\",\n        \"description\": \"\"\n      }\n    }\n  ]\n}"
            }
          },
          "metadata": {},
          "execution_count": 21
        }
      ]
    },
    {
      "cell_type": "code",
      "source": [
        "df.to_csv('dataset_v5.csv', index=False)\n",
        "df.info()"
      ],
      "metadata": {
        "colab": {
          "base_uri": "https://localhost:8080/"
        },
        "outputId": "9178f216-9d73-4431-f043-1d78efd7b401",
        "id": "2444mLE1vLLW"
      },
      "execution_count": 22,
      "outputs": [
        {
          "output_type": "stream",
          "name": "stdout",
          "text": [
            "<class 'pandas.core.frame.DataFrame'>\n",
            "RangeIndex: 15980 entries, 0 to 15979\n",
            "Data columns (total 11 columns):\n",
            " #   Column                   Non-Null Count  Dtype  \n",
            "---  ------                   --------------  -----  \n",
            " 0   target                   15980 non-null  float64\n",
            " 1   Municipio                15980 non-null  object \n",
            " 2   Ano                      15980 non-null  int64  \n",
            " 3   latitude                 15980 non-null  float64\n",
            " 4   longitude                15980 non-null  float64\n",
            " 5   altitude                 15980 non-null  int64  \n",
            " 6   precipitacao (mm)        15980 non-null  float64\n",
            " 7   temperatura minima (ºC)  15980 non-null  float64\n",
            " 8   temperatura maxima (ºC)  15980 non-null  float64\n",
            " 9   Mesorregião              15980 non-null  object \n",
            " 10  split                    15980 non-null  object \n",
            "dtypes: float64(6), int64(2), object(3)\n",
            "memory usage: 1.3+ MB\n"
          ]
        }
      ]
    },
    {
      "cell_type": "markdown",
      "source": [
        "# Dataset V4 - Produtividade (1995-2023) - Serie temporal\n"
      ],
      "metadata": {
        "id": "2pPFONR05Aa2"
      }
    },
    {
      "cell_type": "markdown",
      "source": [
        "**Features**\n",
        "- Ano\n",
        "- latitude\n",
        "- longitude\n",
        "- altitude\n",
        "- ~~Área Colhida (mil hectares)~~\n",
        "- ~~Valor da produção (Mil Reais)~~\n",
        "- precipitacao (mm)\n",
        "- temperatura minima (ºC)\n",
        "- temperatura maxima (ºC)\n",
        "- Mesorregião\n",
        "\n",
        "Estimando **produtividade em Toneladas/Hectares**."
      ],
      "metadata": {
        "id": "sDe9c-kF5Aa3"
      }
    },
    {
      "cell_type": "markdown",
      "source": [
        "## 2. Merge das bases espacial (meso_id) e temporal (Ano)"
      ],
      "metadata": {
        "id": "JRic0J775Aa3"
      }
    },
    {
      "cell_type": "code",
      "source": [
        "# Calculando a média anual por municipio\n",
        "clima_anual = indicadores_climaticos.groupby(\n",
        "    ['municipio_id', 'Ano'],\n",
        "    as_index=False\n",
        ").agg({\n",
        "    'Mesorregião_id': 'first',      # Mantém o ID da mesorregião associada ao município\n",
        "    'municipio_nome': 'first',      # Mantém o nome do município (assume que é único por município_id)\n",
        "    'prec_mm': 'mean',              # Média anual da precipitação\n",
        "    'tmax_°C': 'mean',              # Média anual da temperatura máxima\n",
        "    'tmin_°C': 'mean'               # Média anual da temperatura mínima\n",
        "})\n",
        "\n",
        "clima_anual.rename(columns={\n",
        "  'municipio_id': 'Municipio_id',\n",
        "  'prec_mm': 'precipitacao (mm)',\n",
        "  'municipio_nome': 'Municipio',\n",
        "  'tmax_°C': 'temperatura maxima (ºC)',\n",
        "  'tmin_°C': 'temperatura minima (ºC)'\n",
        "}, inplace=True)\n",
        "\n",
        "clima_anual.head(5)"
      ],
      "metadata": {
        "id": "3u-VAJtE5Aa3"
      },
      "execution_count": null,
      "outputs": []
    },
    {
      "cell_type": "code",
      "source": [
        "# Lista de Produtos: 'Café (em grão) Total', 'Café (em grão) Arábica', 'Café (em grão) Canephora'\n",
        "indicadores_IBGE_filtrado = indicadores_IBGE[indicadores_IBGE['Produto']==\"Café (em grão) Total\"].copy()\n",
        "indicadores_IBGE_filtrado.drop(columns=['Produto'], inplace=True)\n",
        "\n",
        "# Renomear as colunas do dataframe georeferenciamento\n",
        "georeferenciamento_renomeado = georeferenciamento.rename(columns={\n",
        "    'municipio_id': 'Municipio_id',\n",
        "    'lat': 'latitude',\n",
        "    'lon': 'longitude',\n",
        "    'alt': 'altitude'\n",
        "})\n",
        "\n",
        "# Selecionar as colunas desejadas de cada dataframe\n",
        "colunas_clima = ['Municipio_id', 'Ano', 'precipitacao (mm)', 'temperatura maxima (ºC)', 'temperatura minima (ºC)']\n",
        "colunas_ibge = [\n",
        "    'Mesorregião_id', 'Mesorregião', 'Municipio_id', 'Municipio', 'Ano',\n",
        "    'Área destinada à colheita (Hectares)', 'Área colhida (Hectares)',\n",
        "    'Quantidade produzida (Toneladas)', 'Rendimento médio da produção (Quilogramas por Hectare)',\n",
        "    'Valor da produção (Mil Reais)'\n",
        "]\n",
        "colunas_geo = ['Municipio_id', 'latitude', 'longitude', 'altitude']\n",
        "\n",
        "# Filtrar os dataframes pelas colunas desejadas\n",
        "clima_filtrado = clima_anual[colunas_clima]\n",
        "ibge_filtrado = indicadores_IBGE_filtrado[colunas_ibge]\n",
        "geo_filtrado = georeferenciamento_renomeado[colunas_geo]"
      ],
      "metadata": {
        "id": "K0s1pTks5Aa3"
      },
      "execution_count": null,
      "outputs": []
    },
    {
      "cell_type": "code",
      "source": [
        "# Mesclar clima_filtrado e ibge_filtrado usando Municipio_id e Ano como chaves\n",
        "df_mesclado = pd.merge(clima_filtrado, ibge_filtrado, on=['Municipio_id', 'Ano'], how='inner')\n",
        "\n",
        "# Mesclar o resultado com geo_filtrado usando Municipio_id como chave\n",
        "df_merge = pd.merge(df_mesclado, geo_filtrado, on='Municipio_id', how='inner')\n",
        "\n",
        "df_merge.head(1)"
      ],
      "metadata": {
        "id": "197lEjmR5Aa4"
      },
      "execution_count": null,
      "outputs": []
    },
    {
      "cell_type": "code",
      "source": [
        "# 1) Cria uma cópia para não alterar o original\n",
        "df_escalado = df_merge.copy()\n",
        "\n",
        "# Garante que as colunas numéricas estejam no tipo correto\n",
        "df_escalado['Área colhida (Hectares)'] = pd.to_numeric(df_escalado['Área colhida (Hectares)'], errors='coerce')\n",
        "df_escalado['Quantidade produzida (Toneladas)'] = pd.to_numeric(df_escalado['Quantidade produzida (Toneladas)'], errors='coerce')\n",
        "\n",
        "df_escalado.head(1)"
      ],
      "metadata": {
        "id": "v7i1OcCH5Aa4"
      },
      "execution_count": null,
      "outputs": []
    },
    {
      "cell_type": "markdown",
      "source": [
        "## 3. Filtrar período de interesse (1995–2023)"
      ],
      "metadata": {
        "id": "BI9ajbSR5Aa4"
      }
    },
    {
      "cell_type": "code",
      "source": [
        "df_periodo = df_escalado[(df_escalado['Ano'] >= 1995) & (df_escalado['Ano'] <= 2023)].copy()"
      ],
      "metadata": {
        "id": "o948wvXR5Aa4"
      },
      "execution_count": null,
      "outputs": []
    },
    {
      "cell_type": "markdown",
      "source": [
        "## 4. Criar variável-alvo: produtividade em Toneldas por hectare"
      ],
      "metadata": {
        "id": "jf_QSyaM5Aa4"
      }
    },
    {
      "cell_type": "code",
      "source": [
        "df_target = df_periodo.copy()\n",
        "df_target['target'] = df_target['Quantidade produzida (Toneladas)'] / df_target['Área colhida (Hectares)'] # produtividade em toneladas por hectare"
      ],
      "metadata": {
        "id": "nCGp_2xH5Aa4"
      },
      "execution_count": null,
      "outputs": []
    },
    {
      "cell_type": "markdown",
      "source": [
        "## 5. Remoção de outliers usando critério de desvio‑padrão (±3σ)"
      ],
      "metadata": {
        "id": "Vc5uFOsM5Aa4"
      }
    },
    {
      "cell_type": "code",
      "source": [
        "df_target[[\"target\"]].describe()"
      ],
      "metadata": {
        "id": "kj3FXhgJ5Aa4"
      },
      "execution_count": null,
      "outputs": []
    },
    {
      "cell_type": "code",
      "source": [
        "print(len(df_target))\n",
        "\n",
        "valor = 3\n",
        "y = df_target['target']\n",
        "mean_y, std_y = y.mean(), y.std()\n",
        "mask = (y >= mean_y - valor*std_y) & (y <= mean_y + valor*std_y)\n",
        "df_outliers = df_target.loc[mask].reset_index(drop=True)\n",
        "print(len(df_outliers))"
      ],
      "metadata": {
        "id": "kz0aeQQT5Aa4"
      },
      "execution_count": null,
      "outputs": []
    },
    {
      "cell_type": "code",
      "source": [
        "df_outliers[[\"target\"]].describe()"
      ],
      "metadata": {
        "id": "BwWFcLpj5Aa5"
      },
      "execution_count": null,
      "outputs": []
    },
    {
      "cell_type": "markdown",
      "source": [
        "## 6. Imputação de faltantes: aqui usamos mediana (poderia ser média ou KNN)"
      ],
      "metadata": {
        "id": "SKvlCdOl5Aa5"
      }
    },
    {
      "cell_type": "code",
      "source": [
        "# Antes da imputação\n",
        "dados_faltantes_antes = df_outliers.isnull().sum()\n",
        "print(\"Dados faltantes antes da imputação:\\n\", dados_faltantes_antes)"
      ],
      "metadata": {
        "id": "qi93LQPO5Aa5"
      },
      "execution_count": null,
      "outputs": []
    },
    {
      "cell_type": "code",
      "source": [
        "df_outliers.fillna(df_outliers.median(numeric_only=True), inplace=True)"
      ],
      "metadata": {
        "id": "1TrMjfWu5Aa5"
      },
      "execution_count": null,
      "outputs": []
    },
    {
      "cell_type": "markdown",
      "source": [
        "## 7. Organizar serie temporal"
      ],
      "metadata": {
        "id": "T8V12lP316Ne"
      }
    },
    {
      "cell_type": "code",
      "source": [
        "import pandas as pd\n",
        "\n",
        "def count_time_series_examples(df: pd.DataFrame,\n",
        "                               id_col: str = 'Municipio_id',\n",
        "                               year_col: str = 'Ano',\n",
        "                               min_context: int = 2,\n",
        "                               horizon: int = 1) -> pd.DataFrame:\n",
        "    \"\"\"\n",
        "    Para cada tamanho de janela de contexto a partir de `min_context`, computa quantos pares\n",
        "    (janela de contexto -> horizonte) são possíveis em cada série do DataFrame.\n",
        "\n",
        "    Passos:\n",
        "    1. Agrupa por `id_col` e ordena por `year_col`.\n",
        "    2. Identifica segmentos contíguos (sem saltos de anos).\n",
        "    3. Seleciona o maior segmento contíguo para cada série.\n",
        "    4. Para cada contexto c, soma todos os exemplos possíveis: max(0, L - c - horizon + 1).\n",
        "    5. Para contextos em que nenhum exemplo seja possível, para o cálculo.\n",
        "\n",
        "    Retorna um DataFrame com colunas:\n",
        "        context: tamanho da janela de contexto\n",
        "        examples: número total de pares treino->teste disponíveis\n",
        "    \"\"\"\n",
        "    # 1. Prepara o DataFrame\n",
        "    df_sorted = df[[id_col, year_col]].drop_duplicates().copy()\n",
        "    df_sorted = df_sorted.sort_values([id_col, year_col])\n",
        "\n",
        "    # 2. Identifica segmentos contíguos\n",
        "    # Calcula a diferença de anos dentro de cada grupo\n",
        "    df_sorted['year_diff'] = df_sorted.groupby(id_col)[year_col].diff().fillna(1)\n",
        "    # Marca início de segmento onde diff > 1\n",
        "    df_sorted['segment_id'] = (df_sorted['year_diff'] > 1).cumsum()\n",
        "\n",
        "    # 3. Computa tamanho de cada segmento e seleciona o maior por série\n",
        "    segments = (\n",
        "        df_sorted\n",
        "        .groupby([id_col, 'segment_id'])\n",
        "        .agg(start_year=(year_col, 'min'),\n",
        "             end_year=(year_col, 'max'),\n",
        "             length=(year_col, 'count'))\n",
        "        .reset_index()\n",
        "    )\n",
        "    # Seleciona o segmento de maior comprimento para cada série\n",
        "    max_segments = (\n",
        "        segments\n",
        "        .sort_values(['length'], ascending=False)\n",
        "        .drop_duplicates(id_col, keep='first')\n",
        "    )\n",
        "\n",
        "    # 4. Varredura de contextos\n",
        "    results = []\n",
        "    c = min_context\n",
        "    while True:\n",
        "        # Para cada segmento, se length >= c + horizon, gera (length - c - horizon + 1) exemplos\n",
        "        max_segments['examples'] = max_segments['length'].apply(\n",
        "            lambda L: max(0, L - c - horizon + 1)\n",
        "        )\n",
        "        total_examples = int(max_segments['examples'].sum())\n",
        "        if total_examples <= 0:\n",
        "            break\n",
        "        results.append({'context': c, 'examples': total_examples})\n",
        "        c += 1\n",
        "\n",
        "    return pd.DataFrame(results)\n",
        "\n",
        "count_time_series_examples(df_outliers)"
      ],
      "metadata": {
        "id": "-boSuKlW1_Sd"
      },
      "execution_count": null,
      "outputs": []
    },
    {
      "cell_type": "code",
      "source": [
        "def filter_series_by_context(df: pd.DataFrame,\n",
        "                              context: int,\n",
        "                              id_col: str = 'Municipio_id',\n",
        "                              year_col: str = 'Ano',\n",
        "                              horizon: int = 1) -> pd.DataFrame:\n",
        "    \"\"\"\n",
        "    Filtra o DataFrame mantendo apenas as séries cujo maior segmento contíguo\n",
        "    gera pelo menos 2 pares treino->teste para o dado tamanho de contexto.\n",
        "\n",
        "    Parâmetros:\n",
        "    - df: DataFrame completo com colunas de identificação e ano.\n",
        "    - context: tamanho da janela de contexto (número de anos).\n",
        "    - id_col: nome da coluna de identificador de série.\n",
        "    - year_col: nome da coluna de ano.\n",
        "    - horizon: horizonte de previsão (padrão 1 ano).\n",
        "\n",
        "    Retorna:\n",
        "    - DataFrame filtrado, contendo apenas os registros dos municípios válidos.\n",
        "    \"\"\"\n",
        "    # 1) Obtenha apenas as combinações únicas (id, ano) já ordenadas\n",
        "    df_sorted = (\n",
        "        df[[id_col, year_col]]\n",
        "        .drop_duplicates()\n",
        "        .sort_values([id_col, year_col])\n",
        "    )\n",
        "\n",
        "    # 2) Identifique quebras de sequência de anos\n",
        "    df_sorted['year_diff'] = (\n",
        "        df_sorted\n",
        "        .groupby(id_col)[year_col]\n",
        "        .diff()\n",
        "        .fillna(1)\n",
        "    )\n",
        "    df_sorted['segment_id'] = (df_sorted['year_diff'] > 1).cumsum()\n",
        "\n",
        "    # 3) Calcule início, fim e comprimento de cada segmento\n",
        "    segments = (\n",
        "        df_sorted\n",
        "        .groupby([id_col, 'segment_id'])\n",
        "        .agg(\n",
        "            start_year=(year_col, 'min'),\n",
        "            end_year=(year_col, 'max'),\n",
        "            length=(year_col, 'count')\n",
        "        )\n",
        "        .reset_index()\n",
        "    )\n",
        "\n",
        "    # 4) Para cada série (cada id_col), selecione o segmento mais longo\n",
        "    max_seg = (\n",
        "        segments\n",
        "        .sort_values([id_col, 'length'], ascending=[True, False])\n",
        "        .drop_duplicates(subset=id_col, keep='first')\n",
        "        .reset_index(drop=True)\n",
        "    )\n",
        "\n",
        "    # 5) Filtre apenas os segmentos que dão pelo menos 2 pares treino->teste:\n",
        "    #    comprimento >= context + horizon + 1\n",
        "    min_length = context + horizon + 1\n",
        "    valid = max_seg[max_seg['length'] >= min_length]\n",
        "\n",
        "    # 6) Reúna do DataFrame original apenas os anos desses segmentos válidos\n",
        "    dfs = []\n",
        "    for _, row in valid.iterrows():\n",
        "        mid = row[id_col]\n",
        "        anos_validos = range(int(row['start_year']), int(row['end_year']) + 1)\n",
        "        mask = (df[id_col] == mid) & (df[year_col].isin(anos_validos))\n",
        "        dfs.append(df.loc[mask])\n",
        "\n",
        "    if dfs:\n",
        "        return pd.concat(dfs, ignore_index=True)\n",
        "    else:\n",
        "        return df.iloc[0:0]  # vazio, mesmas colunas\n",
        "\n",
        "# Exemplo de uso:\n",
        "janela_contexto = 2\n",
        "df_filtrado = filter_series_by_context(df_outliers, janela_contexto)"
      ],
      "metadata": {
        "id": "Orreu_SU_bsx"
      },
      "execution_count": null,
      "outputs": []
    },
    {
      "cell_type": "markdown",
      "source": [
        "## 8. Seleção de features"
      ],
      "metadata": {
        "id": "-qiMHZDW5Aa5"
      }
    },
    {
      "cell_type": "markdown",
      "source": [
        "Mantemos variáveis numéricas e dummies de mesorregião; descartamos IDs se não necessários."
      ],
      "metadata": {
        "id": "M2s6G4DW5Aa6"
      }
    },
    {
      "cell_type": "code",
      "source": [
        "num_features = [\n",
        "    'target',\n",
        "    'Municipio',\n",
        "    'Ano',\n",
        "    'latitude',\n",
        "    'longitude',\n",
        "    'altitude',\n",
        "    'precipitacao (mm)',\n",
        "    'temperatura minima (ºC)',\n",
        "    'temperatura maxima (ºC)'\n",
        "]\n",
        "cat_features = [\n",
        "  'Mesorregião'\n",
        "]\n",
        "\n",
        "df_features = df_filtrado[num_features + cat_features].copy()"
      ],
      "metadata": {
        "id": "CN09il3F5Aa6"
      },
      "execution_count": null,
      "outputs": []
    },
    {
      "cell_type": "markdown",
      "source": [
        "## 9. Divisão temporal treino/teste (anos ≤ 2022 → treino, ≥ 2023 → teste)"
      ],
      "metadata": {
        "id": "bcFBWo0d5Aa6"
      }
    },
    {
      "cell_type": "code",
      "source": [
        "horizon = 1\n",
        "year_col = 'Ano'\n",
        "id_col = 'Municipio'\n",
        "\n",
        "df = df_features.copy()\n",
        "df['split'] = 'train'\n",
        "k = horizon # vai separar apenas a quantidade de registros que serão previstas\n",
        "# Para cada série, marca como test as últimas k observações\n",
        "def mark_test(sub):\n",
        "    if len(sub) <= k:\n",
        "        return pd.Series(['test'] * len(sub), index=sub.index)\n",
        "    test_idx = sub.nlargest(k, year_col).index\n",
        "    splits = pd.Series('train', index=sub.index)\n",
        "    splits.loc[test_idx] = 'test'\n",
        "    return splits\n",
        "df['split'] = df.groupby(id_col).apply(lambda g: mark_test(g), include_groups=False).reset_index(level=0, drop=True)\n",
        "\n",
        "print(df['split'].value_counts())"
      ],
      "metadata": {
        "id": "M4Il2LVzB0Hl"
      },
      "execution_count": null,
      "outputs": []
    },
    {
      "cell_type": "code",
      "source": [
        "df[df.Municipio == \"Abadia dos Dourados - MG\"]"
      ],
      "metadata": {
        "id": "hZvtjXukDBBD"
      },
      "execution_count": null,
      "outputs": []
    },
    {
      "cell_type": "code",
      "source": [
        "df.to_csv('dataset_v4.csv', index=False)\n",
        "df.info()"
      ],
      "metadata": {
        "id": "6c2IADSK5Aa6"
      },
      "execution_count": null,
      "outputs": []
    },
    {
      "cell_type": "markdown",
      "source": [
        "# Dataset V3 - Produtividade"
      ],
      "metadata": {
        "id": "kXvpkxnoMCyw"
      }
    },
    {
      "cell_type": "markdown",
      "source": [
        "Nesta versão, ao inves de avaliar a quantidade de toneladas de café produzida, será avaliada a produtividade, que é a quantidade produzida por área (toneladas/hectares)"
      ],
      "metadata": {
        "id": "2RKsGaj8maA-"
      }
    },
    {
      "cell_type": "markdown",
      "source": [
        "**Features**\n",
        "- Ano\n",
        "- latitude\n",
        "- longitude\n",
        "- altitude\n",
        "- ~~Área Colhida (mil hectares)~~\n",
        "- ~~Valor da produção (Mil Reais)~~\n",
        "- precipitacao (mm)\n",
        "- temperatura minima (ºC)\n",
        "- temperatura maxima (ºC)\n",
        "- Mesorregião\n",
        "\n",
        "Estimando **produtividade em Toneladas/Hectares**."
      ],
      "metadata": {
        "id": "k9WvrR86MCyy"
      }
    },
    {
      "cell_type": "markdown",
      "source": [
        "## 2. Merge das bases espacial (meso_id) e temporal (Ano)"
      ],
      "metadata": {
        "id": "sJiI53hIMCyz"
      }
    },
    {
      "cell_type": "code",
      "source": [
        "# Calculando a média anual por municipio\n",
        "clima_anual = indicadores_climaticos.groupby(\n",
        "    ['municipio_id', 'Ano'],\n",
        "    as_index=False\n",
        ").agg({\n",
        "    'Mesorregião_id': 'first',      # Mantém o ID da mesorregião associada ao município\n",
        "    'municipio_nome': 'first',      # Mantém o nome do município (assume que é único por município_id)\n",
        "    'prec_mm': 'mean',              # Média anual da precipitação\n",
        "    'tmax_°C': 'mean',              # Média anual da temperatura máxima\n",
        "    'tmin_°C': 'mean'               # Média anual da temperatura mínima\n",
        "})\n",
        "\n",
        "clima_anual.rename(columns={\n",
        "  'municipio_id': 'Municipio_id',\n",
        "  'prec_mm': 'precipitacao (mm)',\n",
        "  'municipio_nome': 'Municipio',\n",
        "  'tmax_°C': 'temperatura maxima (ºC)',\n",
        "  'tmin_°C': 'temperatura minima (ºC)'\n",
        "}, inplace=True)\n",
        "\n",
        "clima_anual.head(5)"
      ],
      "metadata": {
        "id": "zbcKeJ-3MCyz"
      },
      "execution_count": null,
      "outputs": []
    },
    {
      "cell_type": "code",
      "source": [
        "# Lista de Produtos: 'Café (em grão) Total', 'Café (em grão) Arábica', 'Café (em grão) Canephora'\n",
        "indicadores_IBGE_filtrado = indicadores_IBGE[indicadores_IBGE['Produto']==\"Café (em grão) Total\"].copy()\n",
        "indicadores_IBGE_filtrado.drop(columns=['Produto'], inplace=True)\n",
        "\n",
        "# Renomear as colunas do dataframe georeferenciamento\n",
        "georeferenciamento_renomeado = georeferenciamento.rename(columns={\n",
        "    'municipio_id': 'Municipio_id',\n",
        "    'lat': 'latitude',\n",
        "    'lon': 'longitude',\n",
        "    'alt': 'altitude'\n",
        "})\n",
        "\n",
        "# Selecionar as colunas desejadas de cada dataframe\n",
        "colunas_clima = ['Municipio_id', 'Ano', 'precipitacao (mm)', 'temperatura maxima (ºC)', 'temperatura minima (ºC)']\n",
        "colunas_ibge = [\n",
        "    'Mesorregião_id', 'Mesorregião', 'Municipio_id', 'Municipio', 'Ano',\n",
        "    'Área destinada à colheita (Hectares)', 'Área colhida (Hectares)',\n",
        "    'Quantidade produzida (Toneladas)', 'Rendimento médio da produção (Quilogramas por Hectare)',\n",
        "    'Valor da produção (Mil Reais)'\n",
        "]\n",
        "colunas_geo = ['Municipio_id', 'latitude', 'longitude', 'altitude']\n",
        "\n",
        "# Filtrar os dataframes pelas colunas desejadas\n",
        "clima_filtrado = clima_anual[colunas_clima]\n",
        "ibge_filtrado = indicadores_IBGE_filtrado[colunas_ibge]\n",
        "geo_filtrado = georeferenciamento_renomeado[colunas_geo]"
      ],
      "metadata": {
        "id": "hDils4NcMCy0"
      },
      "execution_count": null,
      "outputs": []
    },
    {
      "cell_type": "code",
      "source": [
        "# Mesclar clima_filtrado e ibge_filtrado usando Municipio_id e Ano como chaves\n",
        "df_mesclado = pd.merge(clima_filtrado, ibge_filtrado, on=['Municipio_id', 'Ano'], how='inner')\n",
        "\n",
        "# Mesclar o resultado com geo_filtrado usando Municipio_id como chave\n",
        "df_merge = pd.merge(df_mesclado, geo_filtrado, on='Municipio_id', how='inner')\n",
        "\n",
        "df_merge.head(2)"
      ],
      "metadata": {
        "id": "o22OIP83MCy0"
      },
      "execution_count": null,
      "outputs": []
    },
    {
      "cell_type": "code",
      "source": [
        "# 1) Cria uma cópia para não alterar o original\n",
        "df_escalado = df_merge.copy()\n",
        "\n",
        "# Garante que as colunas numéricas estejam no tipo correto\n",
        "df_escalado['Área colhida (Hectares)'] = pd.to_numeric(df_escalado['Área colhida (Hectares)'], errors='coerce')\n",
        "df_escalado['Quantidade produzida (Toneladas)'] = pd.to_numeric(df_escalado['Quantidade produzida (Toneladas)'], errors='coerce')\n",
        "\n",
        "df_escalado.head(2)"
      ],
      "metadata": {
        "id": "YpcYOw1PMCy0"
      },
      "execution_count": null,
      "outputs": []
    },
    {
      "cell_type": "markdown",
      "source": [
        "## 3. Filtrar período de interesse (1995–2023)"
      ],
      "metadata": {
        "id": "QbpFzPLhMCy1"
      }
    },
    {
      "cell_type": "code",
      "source": [
        "df_periodo = df_escalado[(df_escalado['Ano'] >= 1995) & (df_escalado['Ano'] <= 2023)].copy()"
      ],
      "metadata": {
        "id": "etiF_444MCy1"
      },
      "execution_count": null,
      "outputs": []
    },
    {
      "cell_type": "markdown",
      "source": [
        "## 4. Criar variável-alvo: produtividade em Kilos por hectare"
      ],
      "metadata": {
        "id": "3Mn6f2fXMCy1"
      }
    },
    {
      "cell_type": "code",
      "source": [
        "df_target = df_periodo.copy()\n",
        "df_target['target'] = df_target['Quantidade produzida (Toneladas)'] / df_target['Área colhida (Hectares)'] # produtividade em toneladas por hectare"
      ],
      "metadata": {
        "id": "SmbuqRYdMCy2"
      },
      "execution_count": null,
      "outputs": []
    },
    {
      "cell_type": "markdown",
      "source": [
        "## 5. Remoção de outliers usando critério de desvio‑padrão (±3σ)"
      ],
      "metadata": {
        "id": "_EoAAuR4MCy3"
      }
    },
    {
      "cell_type": "code",
      "source": [
        "df_target[[\"target\"]].describe()"
      ],
      "metadata": {
        "id": "Is7Vh5yjMCy3"
      },
      "execution_count": null,
      "outputs": []
    },
    {
      "cell_type": "code",
      "source": [
        "print(len(df_target))\n",
        "\n",
        "valor = 3\n",
        "y = df_target['target']\n",
        "mean_y, std_y = y.mean(), y.std()\n",
        "mask = (y >= mean_y - valor*std_y) & (y <= mean_y + valor*std_y)\n",
        "df_outliers = df_target.loc[mask].reset_index(drop=True)\n",
        "print(len(df_outliers))"
      ],
      "metadata": {
        "id": "EKvGLFuSMCy3"
      },
      "execution_count": null,
      "outputs": []
    },
    {
      "cell_type": "code",
      "source": [
        "df_outliers[[\"target\"]].describe()"
      ],
      "metadata": {
        "id": "eVeCeZy7MCy3"
      },
      "execution_count": null,
      "outputs": []
    },
    {
      "cell_type": "markdown",
      "source": [
        "## 6. Imputação de faltantes: aqui usamos mediana (poderia ser média ou KNN)"
      ],
      "metadata": {
        "id": "O04m_j7hMCy3"
      }
    },
    {
      "cell_type": "code",
      "source": [
        "# Antes da imputação\n",
        "dados_faltantes_antes = df_outliers.isnull().sum()\n",
        "print(\"Dados faltantes antes da imputação:\\n\", dados_faltantes_antes)"
      ],
      "metadata": {
        "id": "Cd61Ol1JMCy3"
      },
      "execution_count": null,
      "outputs": []
    },
    {
      "cell_type": "code",
      "source": [
        "df_outliers.fillna(df_outliers.median(numeric_only=True), inplace=True)"
      ],
      "metadata": {
        "id": "qA1HPMBwMCy4"
      },
      "execution_count": null,
      "outputs": []
    },
    {
      "cell_type": "markdown",
      "source": [
        "## 7. Seleção de features"
      ],
      "metadata": {
        "id": "jYnPhxsGMCy4"
      }
    },
    {
      "cell_type": "markdown",
      "source": [
        "Mantemos variáveis numéricas e dummies de mesorregião; descartamos IDs se não necessários."
      ],
      "metadata": {
        "id": "6VrMp5aXMCy4"
      }
    },
    {
      "cell_type": "code",
      "source": [
        "num_features = [\n",
        "    'target',\n",
        "    'Municipio',\n",
        "    'Ano',\n",
        "    'latitude',\n",
        "    'longitude',\n",
        "    'altitude',\n",
        "    'precipitacao (mm)',\n",
        "    'temperatura minima (ºC)',\n",
        "    'temperatura maxima (ºC)'\n",
        "]\n",
        "cat_features = [\n",
        "  'Mesorregião'\n",
        "]\n",
        "dataset_final = df_outliers[num_features + cat_features].copy()"
      ],
      "metadata": {
        "id": "SJxmCRekMCy4"
      },
      "execution_count": null,
      "outputs": []
    },
    {
      "cell_type": "markdown",
      "source": [
        "## 8. Divisão temporal treino/teste (anos ≤ 2015 → treino, ≥ 2016 → teste)"
      ],
      "metadata": {
        "id": "JdpX9DgVMCy4"
      }
    },
    {
      "cell_type": "code",
      "source": [
        "dataset_final['split'] = pd.Series(dtype='str')  # Inicializa a coluna com tipo string\n",
        "dataset_final.loc[dataset_final['Ano'] <= 2015, 'split'] = 'train'\n",
        "dataset_final.loc[dataset_final['Ano'] >= 2016, 'split'] = 'test'\n",
        "\n",
        "# Verifica o resultado\n",
        "print(dataset_final['split'].value_counts())"
      ],
      "metadata": {
        "id": "sVP6xDMQMCy4"
      },
      "execution_count": null,
      "outputs": []
    },
    {
      "cell_type": "code",
      "source": [
        "dataset_final.to_csv('dataset_v3.csv', index=False)\n",
        "dataset_final.info()"
      ],
      "metadata": {
        "id": "PunWvkNTMCy4"
      },
      "execution_count": null,
      "outputs": []
    },
    {
      "cell_type": "markdown",
      "source": [
        "# Dataset V2 - Produção"
      ],
      "metadata": {
        "id": "RoHUpTkWFXWP"
      }
    },
    {
      "cell_type": "markdown",
      "source": [
        "Nesta versão apeas o valor da produção é removido em relação ao anterior."
      ],
      "metadata": {
        "id": "9Zs04uNdlHiP"
      }
    },
    {
      "cell_type": "markdown",
      "source": [
        "**Features**\n",
        "- Ano\n",
        "- latitude\n",
        "- longitude\n",
        "- altitude\n",
        "- Área Colhida (mil hectares)\n",
        "- ~~Valor da produção (Mil Reais)~~\n",
        "- precipitacao (mm)\n",
        "- temperatura minima (ºC)\n",
        "- temperatura maxima (ºC)\n",
        "- Mesorregião\n",
        "\n",
        "Estimando **quantidade produzida em toneladas**."
      ],
      "metadata": {
        "id": "b-xILAjKFXWQ"
      }
    },
    {
      "cell_type": "markdown",
      "source": [
        "## 2. Merge das bases espacial (meso_id) e temporal (Ano)"
      ],
      "metadata": {
        "id": "jkJU_dD7FXWQ"
      }
    },
    {
      "cell_type": "code",
      "source": [
        "# Calculando a média anual por municipio\n",
        "clima_anual = indicadores_climaticos.groupby(\n",
        "    ['municipio_id', 'Ano'],\n",
        "    as_index=False\n",
        ").agg({\n",
        "    'Mesorregião_id': 'first',      # Mantém o ID da mesorregião associada ao município\n",
        "    'municipio_nome': 'first',      # Mantém o nome do município (assume que é único por município_id)\n",
        "    'prec_mm': 'mean',              # Média anual da precipitação\n",
        "    'tmax_°C': 'mean',              # Média anual da temperatura máxima\n",
        "    'tmin_°C': 'mean'               # Média anual da temperatura mínima\n",
        "})\n",
        "\n",
        "clima_anual.rename(columns={\n",
        "  'municipio_id': 'Municipio_id',\n",
        "  'prec_mm': 'precipitacao (mm)',\n",
        "  'municipio_nome': 'Municipio',\n",
        "  'tmax_°C': 'temperatura maxima (ºC)',\n",
        "  'tmin_°C': 'temperatura minima (ºC)'\n",
        "}, inplace=True)\n",
        "\n",
        "clima_anual.head(5)"
      ],
      "metadata": {
        "id": "qxazK6h5FXWR"
      },
      "execution_count": null,
      "outputs": []
    },
    {
      "cell_type": "code",
      "source": [
        "# Lista de Produtos: 'Café (em grão) Total', 'Café (em grão) Arábica', 'Café (em grão) Canephora'\n",
        "indicadores_IBGE_filtrado = indicadores_IBGE[indicadores_IBGE['Produto']==\"Café (em grão) Total\"].copy()\n",
        "indicadores_IBGE_filtrado.drop(columns=['Produto'], inplace=True)\n",
        "\n",
        "# Renomear as colunas do dataframe georeferenciamento\n",
        "georeferenciamento_renomeado = georeferenciamento.rename(columns={\n",
        "    'municipio_id': 'Municipio_id',\n",
        "    'lat': 'latitude',\n",
        "    'lon': 'longitude',\n",
        "    'alt': 'altitude'\n",
        "})\n",
        "\n",
        "# Selecionar as colunas desejadas de cada dataframe\n",
        "colunas_clima = ['Municipio_id', 'Ano', 'precipitacao (mm)', 'temperatura maxima (ºC)', 'temperatura minima (ºC)']\n",
        "colunas_ibge = [\n",
        "    'Mesorregião_id', 'Mesorregião', 'Municipio_id', 'Municipio', 'Ano',\n",
        "    'Área destinada à colheita (Hectares)', 'Área colhida (Hectares)',\n",
        "    'Quantidade produzida (Toneladas)', 'Rendimento médio da produção (Quilogramas por Hectare)',\n",
        "    'Valor da produção (Mil Reais)'\n",
        "]\n",
        "colunas_geo = ['Municipio_id', 'latitude', 'longitude', 'altitude']\n",
        "\n",
        "# Filtrar os dataframes pelas colunas desejadas\n",
        "clima_filtrado = clima_anual[colunas_clima]\n",
        "ibge_filtrado = indicadores_IBGE_filtrado[colunas_ibge]\n",
        "geo_filtrado = georeferenciamento_renomeado[colunas_geo]"
      ],
      "metadata": {
        "id": "O0vBfhKNFXWR"
      },
      "execution_count": null,
      "outputs": []
    },
    {
      "cell_type": "code",
      "source": [
        "# Mesclar clima_filtrado e ibge_filtrado usando Municipio_id e Ano como chaves\n",
        "df_mesclado = pd.merge(clima_filtrado, ibge_filtrado, on=['Municipio_id', 'Ano'], how='inner')\n",
        "\n",
        "# Mesclar o resultado com geo_filtrado usando Municipio_id como chave\n",
        "df_merge = pd.merge(df_mesclado, geo_filtrado, on='Municipio_id', how='inner')\n",
        "\n",
        "df_merge.head(2)"
      ],
      "metadata": {
        "id": "PF8rGTvcFXWR"
      },
      "execution_count": null,
      "outputs": []
    },
    {
      "cell_type": "code",
      "source": [
        "# 1) Cria uma cópia para não alterar o original\n",
        "df_escalado = df_merge.copy()\n",
        "\n",
        "# Garante que as colunas numéricas estejam no tipo correto\n",
        "df_escalado['Área colhida (Hectares)'] = pd.to_numeric(df_escalado['Área colhida (Hectares)'], errors='coerce')\n",
        "df_escalado['Quantidade produzida (Toneladas)'] = pd.to_numeric(df_escalado['Quantidade produzida (Toneladas)'], errors='coerce')\n",
        "\n",
        "df_escalado.head(2)"
      ],
      "metadata": {
        "id": "pg0nwSFDFXWR"
      },
      "execution_count": null,
      "outputs": []
    },
    {
      "cell_type": "markdown",
      "source": [
        "## 3. Filtrar período de interesse (1995–2023)"
      ],
      "metadata": {
        "id": "WhQQelNiFXWR"
      }
    },
    {
      "cell_type": "code",
      "source": [
        "df_periodo = df_escalado[(df_escalado['Ano'] >= 1995) & (df_escalado['Ano'] <= 2023)].copy()"
      ],
      "metadata": {
        "id": "k1qR8lsSFXWS"
      },
      "execution_count": null,
      "outputs": []
    },
    {
      "cell_type": "markdown",
      "source": [
        "## 4. Criar variável-alvo: Quantidade produzida em TONELADAS"
      ],
      "metadata": {
        "id": "EwLo7gLZFXWS"
      }
    },
    {
      "cell_type": "code",
      "source": [
        "coluna_alvo = 'Quantidade produzida (Toneladas)'\n",
        "df_target = df_periodo.rename(columns={coluna_alvo: 'target'})"
      ],
      "metadata": {
        "id": "b1QqbgY4FXWS"
      },
      "execution_count": null,
      "outputs": []
    },
    {
      "cell_type": "markdown",
      "source": [
        "## 5. Remoção de outliers usando critério de desvio‑padrão (±3σ)"
      ],
      "metadata": {
        "id": "REyhDuqWFXWS"
      }
    },
    {
      "cell_type": "code",
      "source": [
        "df_target[[\"target\"]].describe()"
      ],
      "metadata": {
        "id": "n0R9ReFfFXWS"
      },
      "execution_count": null,
      "outputs": []
    },
    {
      "cell_type": "code",
      "source": [
        "print(len(df_target))\n",
        "\n",
        "valor = 3\n",
        "y = df_target['target']\n",
        "mean_y, std_y = y.mean(), y.std()\n",
        "mask = (y >= mean_y - valor*std_y) & (y <= mean_y + valor*std_y)\n",
        "df_outliers = df_target.loc[mask].reset_index(drop=True)\n",
        "print(len(df_outliers))"
      ],
      "metadata": {
        "id": "kyVmb5ghFXWS"
      },
      "execution_count": null,
      "outputs": []
    },
    {
      "cell_type": "code",
      "source": [
        "df_outliers[[\"target\"]].describe()"
      ],
      "metadata": {
        "id": "UvMZ_MS9FXWS"
      },
      "execution_count": null,
      "outputs": []
    },
    {
      "cell_type": "markdown",
      "source": [
        "## 6. Imputação de faltantes: aqui usamos mediana (poderia ser média ou KNN)"
      ],
      "metadata": {
        "id": "AeSCJlf7FXWS"
      }
    },
    {
      "cell_type": "code",
      "source": [
        "# Antes da imputação\n",
        "dados_faltantes_antes = df_outliers.isnull().sum()\n",
        "print(\"Dados faltantes antes da imputação:\\n\", dados_faltantes_antes)"
      ],
      "metadata": {
        "id": "a4YVw_6oFXWS"
      },
      "execution_count": null,
      "outputs": []
    },
    {
      "cell_type": "code",
      "source": [
        "df_outliers.fillna(df_outliers.median(numeric_only=True), inplace=True)"
      ],
      "metadata": {
        "id": "lhcLk4M2FXWT"
      },
      "execution_count": null,
      "outputs": []
    },
    {
      "cell_type": "markdown",
      "source": [
        "## 7. Seleção de features"
      ],
      "metadata": {
        "id": "IqywkctVFXWT"
      }
    },
    {
      "cell_type": "markdown",
      "source": [
        "Mantemos variáveis numéricas e dummies de mesorregião; descartamos IDs se não necessários."
      ],
      "metadata": {
        "id": "fscaDrwrFXWT"
      }
    },
    {
      "cell_type": "code",
      "source": [
        "num_features = [\n",
        "    'target',\n",
        "    'Municipio',\n",
        "    'Ano',\n",
        "    'latitude',\n",
        "    'longitude',\n",
        "    'altitude',\n",
        "    'Área colhida (Hectares)',\n",
        "    'precipitacao (mm)',\n",
        "    'temperatura minima (ºC)',\n",
        "    'temperatura maxima (ºC)'\n",
        "]\n",
        "cat_features = [\n",
        "  'Mesorregião'\n",
        "]"
      ],
      "metadata": {
        "id": "qAMck04XFXWT"
      },
      "execution_count": null,
      "outputs": []
    },
    {
      "cell_type": "markdown",
      "source": [
        "## 8. Divisão temporal treino/teste (anos ≤ 2015 → treino, ≥ 2016 → teste)"
      ],
      "metadata": {
        "id": "3dVnso-BFXWT"
      }
    },
    {
      "cell_type": "code",
      "source": [
        "dataset_final = df_outliers[num_features + cat_features].copy()\n",
        "\n",
        "dataset_final['split'] = pd.Series(dtype='str')  # Inicializa a coluna com tipo string\n",
        "dataset_final.loc[dataset_final['Ano'] <= 2015, 'split'] = 'train'\n",
        "dataset_final.loc[dataset_final['Ano'] >= 2016, 'split'] = 'test'\n",
        "\n",
        "# Verifica o resultado\n",
        "print(dataset_final['split'].value_counts())"
      ],
      "metadata": {
        "id": "I2KnSXs7FXWT"
      },
      "execution_count": null,
      "outputs": []
    },
    {
      "cell_type": "code",
      "source": [
        "dataset_final.to_csv('dataset_v2.csv', index=False)\n",
        "dataset_final.info()"
      ],
      "metadata": {
        "id": "_uiO9Lm0FXWU"
      },
      "execution_count": null,
      "outputs": []
    },
    {
      "cell_type": "markdown",
      "source": [
        "# Dataset V1 - Todos os atributos"
      ],
      "metadata": {
        "id": "ckZWps2zA6JW"
      }
    },
    {
      "cell_type": "markdown",
      "source": [
        "**Features**\n",
        "- Ano\n",
        "- latitude\n",
        "- longitude\n",
        "- altitude\n",
        "- Área Colhida (hectares)\n",
        "- Valor da produção (Mil Reais)\n",
        "- precipitacao (mm)\n",
        "- temperatura minima (ºC)\n",
        "- temperatura maxima (ºC)\n",
        "- Mesorregião\n",
        "\n",
        "Estimando **quantidade produzida em toneladas**."
      ],
      "metadata": {
        "id": "P2oN39s0A6JX"
      }
    },
    {
      "cell_type": "markdown",
      "source": [
        "## 2. Merge das bases espacial (meso_id) e temporal (Ano)"
      ],
      "metadata": {
        "id": "pogXtYq4A6JX"
      }
    },
    {
      "cell_type": "code",
      "source": [
        "# Calculando a média anual por municipio\n",
        "clima_anual = indicadores_climaticos.groupby(\n",
        "    ['municipio_id', 'Ano'],\n",
        "    as_index=False\n",
        ").agg({\n",
        "    'Mesorregião_id': 'first',      # Mantém o ID da mesorregião associada ao município\n",
        "    'municipio_nome': 'first',      # Mantém o nome do município (assume que é único por município_id)\n",
        "    'prec_mm': 'mean',              # Média anual da precipitação\n",
        "    'tmax_°C': 'mean',              # Média anual da temperatura máxima\n",
        "    'tmin_°C': 'mean'               # Média anual da temperatura mínima\n",
        "})\n",
        "\n",
        "clima_anual.rename(columns={\n",
        "  'municipio_id': 'Municipio_id',\n",
        "  'prec_mm': 'precipitacao (mm)',\n",
        "  'municipio_nome': 'Municipio',\n",
        "  'tmax_°C': 'temperatura maxima (ºC)',\n",
        "  'tmin_°C': 'temperatura minima (ºC)'\n",
        "}, inplace=True)\n",
        "\n",
        "clima_anual.head(5)"
      ],
      "metadata": {
        "id": "fll6tbikA6JX"
      },
      "execution_count": null,
      "outputs": []
    },
    {
      "cell_type": "code",
      "source": [
        "# Lista de Produtos: 'Café (em grão) Total', 'Café (em grão) Arábica', 'Café (em grão) Canephora'\n",
        "indicadores_IBGE_filtrado = indicadores_IBGE[indicadores_IBGE['Produto']==\"Café (em grão) Total\"].copy()\n",
        "indicadores_IBGE_filtrado.drop(columns=['Produto'], inplace=True)\n",
        "\n",
        "# Renomear as colunas do dataframe georeferenciamento\n",
        "georeferenciamento_renomeado = georeferenciamento.rename(columns={\n",
        "    'municipio_id': 'Municipio_id',\n",
        "    'lat': 'latitude',\n",
        "    'lon': 'longitude',\n",
        "    'alt': 'altitude'\n",
        "})\n",
        "\n",
        "# Selecionar as colunas desejadas de cada dataframe\n",
        "colunas_clima = ['Municipio_id', 'Ano', 'precipitacao (mm)', 'temperatura maxima (ºC)', 'temperatura minima (ºC)']\n",
        "colunas_ibge = [\n",
        "    'Mesorregião_id', 'Mesorregião', 'Municipio_id', 'Municipio', 'Ano',\n",
        "    'Área destinada à colheita (Hectares)', 'Área colhida (Hectares)',\n",
        "    'Quantidade produzida (Toneladas)', 'Rendimento médio da produção (Quilogramas por Hectare)',\n",
        "    'Valor da produção (Mil Reais)'\n",
        "]\n",
        "colunas_geo = ['Municipio_id', 'latitude', 'longitude', 'altitude']\n",
        "\n",
        "# Filtrar os dataframes pelas colunas desejadas\n",
        "clima_filtrado = clima_anual[colunas_clima]\n",
        "ibge_filtrado = indicadores_IBGE_filtrado[colunas_ibge]\n",
        "geo_filtrado = georeferenciamento_renomeado[colunas_geo]"
      ],
      "metadata": {
        "id": "tseMumRnA6JX"
      },
      "execution_count": null,
      "outputs": []
    },
    {
      "cell_type": "code",
      "source": [
        "# Mesclar clima_filtrado e ibge_filtrado usando Municipio_id e Ano como chaves\n",
        "df_mesclado = pd.merge(clima_filtrado, ibge_filtrado, on=['Municipio_id', 'Ano'], how='inner')\n",
        "\n",
        "# Mesclar o resultado com geo_filtrado usando Municipio_id como chave\n",
        "df_merge = pd.merge(df_mesclado, geo_filtrado, on='Municipio_id', how='inner')\n",
        "\n",
        "df_merge.head(2)"
      ],
      "metadata": {
        "id": "iZviCJToA6JY"
      },
      "execution_count": null,
      "outputs": []
    },
    {
      "cell_type": "code",
      "source": [
        "# 1) Cria uma cópia para não alterar o original\n",
        "df_escalado = df_merge.copy()\n",
        "\n",
        "# Garante que as colunas numéricas estejam no tipo correto\n",
        "df_escalado['Área colhida (Hectares)'] = pd.to_numeric(df_escalado['Área colhida (Hectares)'], errors='coerce')\n",
        "df_escalado['Quantidade produzida (Toneladas)'] = pd.to_numeric(df_escalado['Quantidade produzida (Toneladas)'], errors='coerce')\n",
        "\n",
        "df_escalado.head(2)"
      ],
      "metadata": {
        "id": "zgyjaHSOA6JY"
      },
      "execution_count": null,
      "outputs": []
    },
    {
      "cell_type": "markdown",
      "source": [
        "## 3. Filtrar período de interesse (1995–2023)"
      ],
      "metadata": {
        "id": "BkOQsHj_A6JY"
      }
    },
    {
      "cell_type": "code",
      "source": [
        "df_periodo = df_escalado[(df_escalado['Ano'] >= 1995) & (df_escalado['Ano'] <= 2023)].copy()"
      ],
      "metadata": {
        "id": "-o4pqTmnA6JY"
      },
      "execution_count": null,
      "outputs": []
    },
    {
      "cell_type": "markdown",
      "source": [
        "## 4. Criar variável-alvo: Quantidade produzida em MIL TONELADAS"
      ],
      "metadata": {
        "id": "Gh2ynMOKA6JY"
      }
    },
    {
      "cell_type": "code",
      "source": [
        "coluna_alvo = 'Quantidade produzida (Toneladas)'\n",
        "df_target = df_periodo.rename(columns={coluna_alvo: 'target'})"
      ],
      "metadata": {
        "id": "ZMxL9EfFA6JY"
      },
      "execution_count": null,
      "outputs": []
    },
    {
      "cell_type": "markdown",
      "source": [
        "## 5. Remoção de outliers usando critério de desvio‑padrão (±3σ)"
      ],
      "metadata": {
        "id": "ViTIa7T-A6JZ"
      }
    },
    {
      "cell_type": "code",
      "source": [
        "df_target[[\"target\"]].describe()"
      ],
      "metadata": {
        "id": "Wu8_PS9_A6JZ"
      },
      "execution_count": null,
      "outputs": []
    },
    {
      "cell_type": "code",
      "source": [
        "print(len(df_target))\n",
        "\n",
        "valor = 3\n",
        "y = df_target['target']\n",
        "mean_y, std_y = y.mean(), y.std()\n",
        "mask = (y >= mean_y - valor*std_y) & (y <= mean_y + valor*std_y)\n",
        "df_outliers = df_target.loc[mask].reset_index(drop=True)\n",
        "print(len(df_outliers))"
      ],
      "metadata": {
        "id": "tqQh6-14A6JZ"
      },
      "execution_count": null,
      "outputs": []
    },
    {
      "cell_type": "code",
      "source": [
        "df_outliers[[\"target\"]].describe()"
      ],
      "metadata": {
        "id": "BT-sAxzgA6JZ"
      },
      "execution_count": null,
      "outputs": []
    },
    {
      "cell_type": "markdown",
      "source": [
        "## 6. Imputação de faltantes: aqui usamos mediana (poderia ser média ou KNN)"
      ],
      "metadata": {
        "id": "26pQU9ebA6JZ"
      }
    },
    {
      "cell_type": "code",
      "source": [
        "# Antes da imputação\n",
        "dados_faltantes_antes = df_outliers.isnull().sum()\n",
        "print(\"Dados faltantes antes da imputação:\\n\", dados_faltantes_antes)"
      ],
      "metadata": {
        "id": "VYRGrmf1A6JZ"
      },
      "execution_count": null,
      "outputs": []
    },
    {
      "cell_type": "code",
      "source": [
        "df_outliers.fillna(df_outliers.median(numeric_only=True), inplace=True)"
      ],
      "metadata": {
        "id": "qwb97_sRA6JZ"
      },
      "execution_count": null,
      "outputs": []
    },
    {
      "cell_type": "markdown",
      "source": [
        "## 7. Seleção de features"
      ],
      "metadata": {
        "id": "ShAWGchpA6Ja"
      }
    },
    {
      "cell_type": "markdown",
      "source": [
        "Mantemos variáveis numéricas e dummies de mesorregião; descartamos IDs se não necessários. \\\n",
        "Comentário: meso_id, lat, lon, altitude_m não entram no modelo após one-hot"
      ],
      "metadata": {
        "id": "SwzSIY3oA6Ja"
      }
    },
    {
      "cell_type": "code",
      "source": [
        "num_features = [\n",
        "    'target',\n",
        "    'Municipio',\n",
        "    'Ano',\n",
        "    'latitude',\n",
        "    'longitude',\n",
        "    'altitude',\n",
        "    'Área colhida (Hectares)',\n",
        "    'Valor da produção (Mil Reais)',\n",
        "    'precipitacao (mm)',\n",
        "    'temperatura minima (ºC)',\n",
        "    'temperatura maxima (ºC)'\n",
        "]\n",
        "cat_features = [\n",
        "  'Mesorregião'\n",
        "]"
      ],
      "metadata": {
        "id": "rRmHzJJxA6Ja"
      },
      "execution_count": null,
      "outputs": []
    },
    {
      "cell_type": "markdown",
      "source": [
        "## 8. Divisão temporal treino/teste (anos ≤ 2009 → treino, ≥ 2010 → teste)"
      ],
      "metadata": {
        "id": "vE9tVHqPA6Ja"
      }
    },
    {
      "cell_type": "code",
      "source": [
        "dataset_final = df_outliers[num_features + cat_features].copy()\n",
        "\n",
        "dataset_final['split'] = pd.Series(dtype='str')  # Inicializa a coluna com tipo string\n",
        "dataset_final.loc[dataset_final['Ano'] <= 2015, 'split'] = 'train'\n",
        "dataset_final.loc[dataset_final['Ano'] >= 2016, 'split'] = 'test'\n",
        "\n",
        "# Verifica o resultado\n",
        "print(dataset_final['split'].value_counts())"
      ],
      "metadata": {
        "id": "AFsvHXFZA6Ja"
      },
      "execution_count": null,
      "outputs": []
    },
    {
      "cell_type": "code",
      "source": [
        "dataset_final.to_csv('dataset_v1.csv', index=False)\n",
        "dataset_final.info()"
      ],
      "metadata": {
        "id": "HMHNLYZ_A6Ja"
      },
      "execution_count": null,
      "outputs": []
    }
  ]
}