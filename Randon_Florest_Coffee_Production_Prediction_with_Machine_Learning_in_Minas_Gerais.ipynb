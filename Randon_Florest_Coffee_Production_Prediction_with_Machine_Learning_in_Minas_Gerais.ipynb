{
  "nbformat": 4,
  "nbformat_minor": 0,
  "metadata": {
    "colab": {
      "provenance": [],
      "authorship_tag": "ABX9TyNVO5sm1iCTW0fCpgsRFUAX",
      "include_colab_link": true
    },
    "kernelspec": {
      "name": "python3",
      "display_name": "Python 3"
    },
    "language_info": {
      "name": "python"
    }
  },
  "cells": [
    {
      "cell_type": "markdown",
      "metadata": {
        "id": "view-in-github",
        "colab_type": "text"
      },
      "source": [
        "<a href=\"https://colab.research.google.com/github/MarcosVeniciu/Producao-de-cafe-MG/blob/main/Randon_Florest_Coffee_Production_Prediction_with_Machine_Learning_in_Minas_Gerais.ipynb\" target=\"_parent\"><img src=\"https://colab.research.google.com/assets/colab-badge.svg\" alt=\"Open In Colab\"/></a>"
      ]
    },
    {
      "cell_type": "code",
      "execution_count": null,
      "metadata": {
        "id": "pqLk-6cNDPkk"
      },
      "outputs": [],
      "source": [
        "import pandas as pd\n",
        "import numpy as np\n",
        "from sklearn.ensemble import RandomForestRegressor\n",
        "from sklearn.preprocessing import RobustScaler, OneHotEncoder, FunctionTransformer\n",
        "from sklearn.compose import ColumnTransformer\n",
        "from sklearn.pipeline import Pipeline\n",
        "from sklearn.metrics import r2_score, mean_squared_error\n",
        "from sklearn.model_selection import GridSearchCV\n",
        "\n",
        "# 1) Habilita widgets\n",
        "!pip install -q ipywidgets\n",
        "from google.colab import output\n",
        "output.enable_custom_widget_manager()\n",
        "\n",
        "# 2) Modo notebook do Plotly\n",
        "!pip install -q plotly\n",
        "from plotly.offline import init_notebook_mode\n",
        "init_notebook_mode(connected=True)\n",
        "\n",
        "# 3) Renderer para Colab\n",
        "import plotly.io as pio\n",
        "pio.renderers.default = 'colab'"
      ]
    },
    {
      "cell_type": "markdown",
      "source": [
        "# 9. Divisão treino/teste"
      ],
      "metadata": {
        "id": "Qs1YjC_aPUOG"
      }
    },
    {
      "cell_type": "code",
      "source": [
        "dataset = pd.read_csv('/content/dataset_v3.csv')\n",
        "print(f\"Total de dados: {len(dataset)}\")"
      ],
      "metadata": {
        "id": "QW7rIC_uIoRa"
      },
      "execution_count": null,
      "outputs": []
    },
    {
      "cell_type": "markdown",
      "source": [
        "- Log-transform em Área colhida, Quantidade (em mil toneladas) e Valor da produção."
      ],
      "metadata": {
        "id": "6wnkORhdA6JZ"
      }
    },
    {
      "cell_type": "code",
      "source": [
        "log_cols = [\n",
        "  'Área colhida (Hectares)',\n",
        "  'target',\n",
        "  'Valor da produção (Mil Reais)'\n",
        "]\n",
        "\n",
        "# Verifica quais colunas de log_cols estão presentes no dataset\n",
        "existing_log_cols = [col for col in log_cols if col in dataset.columns]\n",
        "\n",
        "# Mostra as colunas que serão transformadas\n",
        "print(f\"{len(existing_log_cols)} Colunas foram encontradas para aplicar log1p:\", existing_log_cols)\n",
        "\n",
        "# Aplica log1p apenas nas colunas presentes\n",
        "dataset[existing_log_cols] = dataset[existing_log_cols].apply(lambda x: np.log1p(x))"
      ],
      "metadata": {
        "id": "Ac-qLbE_A6JZ"
      },
      "execution_count": null,
      "outputs": []
    },
    {
      "cell_type": "code",
      "source": [
        "train = dataset[dataset['split'] == \"train\"]\n",
        "test  = dataset[dataset['split'] == \"test\"]\n",
        "\n",
        "# Remove as colunas indesejadas\n",
        "train = train.drop(columns=['split', 'Municipio']) # O nome do municipio serve apenas para ver o resultado do teste para o municipio especifico\n",
        "test  = test.drop(columns=['split'])\n",
        "\n",
        "# separa as features numericas e categoricas\n",
        "alvo = 'target' # nome da coluna alvo\n",
        "num_features = train.select_dtypes(include=['float64', 'int64']).columns.tolist()\n",
        "if alvo in num_features:\n",
        "  num_features.remove(alvo)\n",
        "cat_features = ['Mesorregião']\n",
        "print(f'num_features: {num_features}\\ncat_features: {cat_features}\\nalvo: {alvo}\\n\\n')\n",
        "\n",
        "X_train = train[num_features + cat_features]\n",
        "y_train = train[alvo]\n",
        "X_test  = test[num_features + cat_features + ['Municipio']]\n",
        "y_test  = test[alvo]\n",
        "\n",
        "print(f'X_train: {X_train.shape}')\n",
        "print(f'y_train: {y_train.shape}')\n",
        "print(f'X_test:  {X_test.shape}')\n",
        "print(f'y_test:  {y_test.shape}')"
      ],
      "metadata": {
        "id": "HcLbfRGKZeHG"
      },
      "execution_count": null,
      "outputs": []
    },
    {
      "cell_type": "markdown",
      "source": [
        "# 10. Pipeline de pré-processamento"
      ],
      "metadata": {
        "id": "CNkC6iMlRf9B"
      }
    },
    {
      "cell_type": "code",
      "source": [
        "preprocessor = ColumnTransformer(transformers=[\n",
        "    ('num', RobustScaler(), num_features),\n",
        "    ('cat', OneHotEncoder(sparse_output=False, drop='first'), cat_features)\n",
        "])"
      ],
      "metadata": {
        "id": "tkJOKNgvRis3"
      },
      "execution_count": null,
      "outputs": []
    },
    {
      "cell_type": "markdown",
      "source": [
        "# 11. Função para criar o modelo (com stub para Grid Search)"
      ],
      "metadata": {
        "id": "fOS1YKgVR39b"
      }
    },
    {
      "cell_type": "code",
      "source": [
        "def make_model(best_params=None, use_grid_search=False):\n",
        "    rf = RandomForestRegressor(n_estimators=150, random_state=42)\n",
        "\n",
        "    if not use_grid_search:\n",
        "        return Pipeline([\n",
        "            ('prep', preprocessor),\n",
        "            ('model', rf)\n",
        "        ])\n",
        "    else:\n",
        "        # stub para future grid search\n",
        "        param_grid = {\n",
        "          'model__n_estimators': [100, 200],\n",
        "          'model__max_depth': [None, 10, 20],\n",
        "          'model__max_features': ['log2', 'sqrt'],\n",
        "          'model__min_samples_split': [2, 5],\n",
        "          'model__min_samples_leaf': [1, 2, 4],\n",
        "          'model__bootstrap': [True, False]\n",
        "        }\n",
        "\n",
        "        return GridSearchCV(\n",
        "            Pipeline([('prep', preprocessor), ('model', rf)]),\n",
        "            param_grid=param_grid,\n",
        "            cv=5,\n",
        "            scoring='neg_root_mean_squared_error',\n",
        "            n_jobs=-1\n",
        "        )"
      ],
      "metadata": {
        "id": "qZSz0NFFR4ZX"
      },
      "execution_count": null,
      "outputs": []
    },
    {
      "cell_type": "markdown",
      "source": [
        "# 12. Treinamento"
      ],
      "metadata": {
        "id": "R9ZMMQ6OR-PH"
      }
    },
    {
      "cell_type": "code",
      "source": [
        "pipeline = make_model(use_grid_search=False)\n",
        "pipeline.fit(X_train, y_train)"
      ],
      "metadata": {
        "id": "hQ81H0QaSBV3"
      },
      "execution_count": null,
      "outputs": []
    },
    {
      "cell_type": "code",
      "source": [
        "import pickle\n",
        "from datetime import datetime\n",
        "\n",
        "data_hora_atual = datetime.now()\n",
        "formato_desejado = data_hora_atual.strftime('%d-%m-%Y-%H-%M')\n",
        "with open(f'modelo_{formato_desejado}.pkl', 'wb') as f:\n",
        "    pickle.dump(pipeline, f)"
      ],
      "metadata": {
        "id": "_11icpj9f8C0"
      },
      "execution_count": null,
      "outputs": []
    },
    {
      "cell_type": "code",
      "source": [
        "def get_feature_names(column_transformer):\n",
        "    feature_names = []\n",
        "\n",
        "    for name, transformer, cols in column_transformer.transformers_:\n",
        "        if transformer == 'drop':\n",
        "            continue\n",
        "        if transformer == 'passthrough':\n",
        "            feature_names.extend(cols)\n",
        "        else:\n",
        "            # Tenta usar o método get_feature_names_out (sklearn ≥1.0)\n",
        "            try:\n",
        "                names = transformer.get_feature_names_out(cols)\n",
        "            except AttributeError:\n",
        "                # fallback: usa nomes originais\n",
        "                names = cols\n",
        "            feature_names.extend(names)\n",
        "    return feature_names\n",
        "\n",
        "# Exemplo de uso:\n",
        "feature_names = get_feature_names(pipeline.named_steps['prep'])\n",
        "\n",
        "\n",
        "# 2) Extraia importâncias\n",
        "importancias = pipeline.named_steps['model'].feature_importances_\n",
        "\n",
        "# 3) Recupere nomes de features transformadas\n",
        "feature_names = get_feature_names(pipeline.named_steps['prep'])\n",
        "\n",
        "# 4) Monte o DataFrame\n",
        "feat_imp_df = pd.DataFrame({\n",
        "    'feature': feature_names,\n",
        "    'importance': importancias\n",
        "})\n",
        "\n",
        "# 5) Ordene decrescentemente\n",
        "feat_imp_df = feat_imp_df.sort_values(by='importance', ascending=False).reset_index(drop=True)\n",
        "\n",
        "print(feat_imp_df)"
      ],
      "metadata": {
        "id": "4sGwn24TyRjx"
      },
      "execution_count": null,
      "outputs": []
    },
    {
      "cell_type": "markdown",
      "source": [
        "# 13. Predição e avaliação"
      ],
      "metadata": {
        "id": "NcaQiuupSGlN"
      }
    },
    {
      "cell_type": "code",
      "source": [
        "import pickle\n",
        "\n",
        "with open('/content/modelo_19_5.pkl', 'rb') as f:\n",
        "  modelo_carregado = pickle.load(f)"
      ],
      "metadata": {
        "id": "XO4RFGhcfaBg"
      },
      "execution_count": null,
      "outputs": []
    },
    {
      "cell_type": "code",
      "source": [
        "if True:\n",
        "  modelo_carregado = pipeline\n",
        "\n",
        "y_pred_log = modelo_carregado.predict(X_test.drop(columns=['Municipio']))\n",
        "# inverter log1p: exp(y) - 1\n",
        "y_pred = np.expm1(y_pred_log)\n",
        "y_true = np.expm1(y_test)\n",
        "\n",
        "\n",
        "# Cálculo de métricas\n",
        "r2  = r2_score(y_true, y_pred)\n",
        "rmse = np.sqrt(mean_squared_error(y_true, y_pred))\n",
        "\n",
        "# Estatísticas da produção real (mil toneladas)\n",
        "mean_true = np.mean(y_true)\n",
        "std_true  = np.std(y_true, ddof=0)  # ddof=0 para população\n",
        "\n",
        "# Índices de interpretação\n",
        "# 1) RMSE / Desvio-padrão\n",
        "rmse_std_ratio = rmse / std_true\n",
        "\n",
        "# 2) RMSE / Média (erro médio relativo)\n",
        "rmse_mean_ratio = rmse / mean_true\n",
        "\n",
        "# Impressão dos resultados\n",
        "print(f'R² no teste:             {r2:.3f}')\n",
        "print(f'RMSE no teste:           {rmse:.3f} Toneladas/Hectare')\n",
        "print(f'Média da produção real:  {mean_true:.3f} Toneladas/Hectare')\n",
        "print(f'Desvio‑padrão real:      {std_true:.3f} Toneladas/Hectare\\n')\n",
        "\n",
        "print('=== Interpretação ===')\n",
        "print(f'- RMSE ≈ {rmse_std_ratio:.2f} × desvio‑padrão dos dados')\n",
        "print(f'  (se <1, erros menores que a variação típica)')\n",
        "print(f'- RMSE ≈ {rmse_mean_ratio:.2%} da média dos dados')\n",
        "print(f'  (percentual médio de erro em relação à média)')"
      ],
      "metadata": {
        "id": "8HzvLJcopcsm"
      },
      "execution_count": null,
      "outputs": []
    },
    {
      "cell_type": "code",
      "source": [
        "import numpy as np\n",
        "import pandas as pd\n",
        "from sklearn.metrics import mean_squared_error, mean_absolute_error, r2_score\n",
        "\n",
        "# Criando DataFrame\n",
        "df = pd.DataFrame({\n",
        "    'Observado': y_true,\n",
        "    'Estimado': y_pred\n",
        "})\n",
        "\n",
        "# Estatísticas descritivas\n",
        "estatisticas = df.describe().loc[['mean', 'min', '25%', '50%', '75%', 'max']]\n",
        "print(\"Estatísticas Descritivas:\\n\", estatisticas)\n",
        "\n",
        "# Métricas de avaliação\n",
        "rmse = np.sqrt(mean_squared_error(y_true, y_pred))\n",
        "mae = mean_absolute_error(y_true, y_pred)\n",
        "r2 = r2_score(y_true, y_pred)\n",
        "\n",
        "print(f\"\\nRMSE: {rmse:.2f}\")\n",
        "print(f\"MAE: {mae:.2f}\")\n",
        "print(f\"R²: {r2:.2f}\")"
      ],
      "metadata": {
        "id": "Z7B69dHHNFVt"
      },
      "execution_count": null,
      "outputs": []
    },
    {
      "cell_type": "code",
      "source": [
        "import matplotlib.pyplot as plt\n",
        "\n",
        "# 1. Observado vs Estimado\n",
        "plt.figure(figsize=(6, 6))\n",
        "plt.scatter(df['Observado'], df['Estimado'], alpha=0.5)\n",
        "lims = [\n",
        "    min(df['Observado'].min(), df['Estimado'].min()),\n",
        "    max(df['Observado'].max(), df['Estimado'].max())\n",
        "]\n",
        "plt.plot(lims, lims, linestyle='dashed')\n",
        "plt.xlabel('Observado')\n",
        "plt.ylabel('Estimado')\n",
        "plt.title('Observado vs Estimado - (Toneladas/Hectare)')\n",
        "plt.show()"
      ],
      "metadata": {
        "id": "IAnKIvZiAEtM"
      },
      "execution_count": null,
      "outputs": []
    },
    {
      "cell_type": "code",
      "source": [
        "import numpy as np\n",
        "import pandas as pd\n",
        "import plotly.graph_objects as go\n",
        "from ipywidgets import widgets, HBox, VBox, Output\n",
        "from IPython.display import display\n",
        "\n",
        "# Widget de saída\n",
        "out = Output()\n",
        "\n",
        "# Função de plotagem atualizada\n",
        "def plot_real_vs_pred(df_test, y_true, y_pred, mesorregiao, municipio):\n",
        "    mask = (df_test['Mesorregião'] == mesorregiao) & (df_test['Municipio'] == municipio)\n",
        "    df_f = df_test.loc[mask].copy()\n",
        "    df_f['Real']     = y_true[mask]\n",
        "    df_f['Previsto'] = y_pred[mask]\n",
        "\n",
        "    # Cálculo da diferença percentual\n",
        "    df_f['Dif_pct'] = np.where(df_f['Real'] != 0,\n",
        "                               ((df_f['Previsto'] - df_f['Real']) / df_f['Real'] * 100).round(2),\n",
        "                               np.nan)\n",
        "\n",
        "    # Cálculo da previsão média dos dois anos anteriores\n",
        "    df_f.sort_values('Ano', inplace=True)\n",
        "    df_f['Prev_2yr_mean'] = (\n",
        "        df_f.set_index('Ano')['Real']\n",
        "        .rolling(window=3, min_periods=3)\n",
        "        .apply(lambda x: x.iloc[:-1].mean(), raw=False)\n",
        "        .values\n",
        "    )\n",
        "\n",
        "    # Construir figura com tamanho fixo\n",
        "    fig = go.Figure()\n",
        "    fig.add_trace(go.Scatter(x=df_f['Ano'], y=df_f['Real'],\n",
        "                             mode='lines+markers', name='Real',\n",
        "                             line=dict(color='green')))\n",
        "    fig.add_trace(go.Scatter(x=df_f['Ano'], y=df_f['Previsto'],\n",
        "                             mode='lines+markers', name='Previsto (Modelo)',\n",
        "                             line=dict(color='red')))\n",
        "    fig.add_trace(go.Scatter(x=df_f['Ano'], y=df_f['Dif_pct'],\n",
        "                             mode='lines+markers', name='% Diferença',\n",
        "                             line=dict(color='blue', dash='dash')))\n",
        "    fig.add_trace(go.Scatter(x=df_f.loc[df_f['Prev_2yr_mean'].notna(), 'Ano'],\n",
        "                             y=df_f.loc[df_f['Prev_2yr_mean'].notna(), 'Prev_2yr_mean'],\n",
        "                             mode='lines+markers', name='Previsto (Média 2 anos)',\n",
        "                             line=dict(color='orange', dash='dot')))\n",
        "\n",
        "    anos_presentes = sorted(df_f['Ano'].unique())\n",
        "    fig.update_layout(\n",
        "        title=f'Produção Real vs Prevista — {municipio} ({mesorregiao})',\n",
        "        xaxis=dict(title='Ano',\n",
        "                   tickmode='array',\n",
        "                   tickvals=anos_presentes,\n",
        "                   ticktext=[str(a) for a in anos_presentes]),\n",
        "        yaxis_title='Quantidade Produzida / % Diferença',\n",
        "        width=1500,\n",
        "        height=600,\n",
        "        template='plotly_white'\n",
        "    )\n",
        "    return fig\n",
        "\n",
        "# Dropdown de mesorregiões\n",
        "meso_vals = np.sort(X_test['Mesorregião'].unique())\n",
        "meso_sel = widgets.Dropdown(\n",
        "    options=meso_vals,\n",
        "    description='Mesorregião:',\n",
        "    style={'description_width': 'initial'}\n",
        ")\n",
        "\n",
        "# Dropdown de municípios (vai ser atualizado)\n",
        "mun_sel = widgets.Dropdown(description='Município:', style={'description_width': 'initial'})\n",
        "btn    = widgets.Button(description='Atualizar Gráfico', button_style='primary')\n",
        "\n",
        "# Atualiza municípios quando mesorregião muda\n",
        "def atualiza_muns(*_):\n",
        "    sel = meso_sel.value\n",
        "    mun_list = np.sort(X_test.loc[X_test['Mesorregião'] == sel, 'Municipio'].unique())\n",
        "    mun_sel.options = mun_list\n",
        "    if len(mun_list): mun_sel.value = mun_list[0]\n",
        "\n",
        "meso_sel.observe(atualiza_muns, names='value')\n",
        "atualiza_muns()\n",
        "\n",
        "# Callback do botão\n",
        "def on_btn_click(_):\n",
        "    with out:\n",
        "        out.clear_output(wait=True)\n",
        "        fig = plot_real_vs_pred(X_test, y_true, y_pred,\n",
        "                                meso_sel.value, mun_sel.value)\n",
        "        fig.show()\n",
        "\n",
        "btn.on_click(on_btn_click)\n",
        "\n",
        "# Exibe interface\n",
        "ui = VBox([HBox([meso_sel, mun_sel, btn])])\n",
        "display(ui, out)\n",
        "\n",
        "# Espinosa - MG (Norte de Minas)"
      ],
      "metadata": {
        "id": "aw_MatNEb9iY"
      },
      "execution_count": null,
      "outputs": []
    },
    {
      "cell_type": "code",
      "source": [
        "import pandas as pd\n",
        "import numpy as np\n",
        "\n",
        "# ─── Função 1: Calcular média móvel histórica de 2 anos ───────────────────────\n",
        "def calc_prev_2yr(series_real: pd.Series) -> pd.Series:\n",
        "    \"\"\"\n",
        "    Recebe uma série de valores reais ordenada por ano e retorna\n",
        "    uma série com a previsão histórica: média dos dois anos anteriores.\n",
        "    \"\"\"\n",
        "    return (\n",
        "        series_real\n",
        "        .rolling(window=3, min_periods=3)\n",
        "        .apply(lambda x: x.iloc[:-1].mean(), raw=False)\n",
        "    )\n",
        "\n",
        "# ─── Função 2: Calcular erros percentuais de uma previsão ────────────────────\n",
        "def calc_pct_error(pred: pd.Series, real: pd.Series) -> pd.Series:\n",
        "    \"\"\"\n",
        "    Retorna o erro percentual entre previsão e valor real:\n",
        "      erro_pct = ((pred - real) / real) * 100, arredondado em 2 casas.\n",
        "    \"\"\"\n",
        "    pct = np.where(\n",
        "        real != 0,\n",
        "        ((pred - real) / real * 100).round(2),\n",
        "        np.nan\n",
        "    )\n",
        "    return pd.Series(pct, index=real.index)\n",
        "\n",
        "# ─── Função 3: Agregar média de erro percentual por município ────────────────\n",
        "def mean_pct_error_by_mun(df: pd.DataFrame, col_error: str) -> pd.Series:\n",
        "    \"\"\"\n",
        "    Dado DataFrame com coluna de erro percentual (col_error) e 'Municipio',\n",
        "    retorna Série com a média desse erro para cada município.\n",
        "    \"\"\"\n",
        "    return df.groupby('Municipio')[col_error].mean()\n",
        "\n",
        "# ─── Carregamento / Preparação dos dados ────────────────────────────────────\n",
        "df = X_test[['Municipio', 'Mesorregião', 'Ano']].copy()\n",
        "df['Real']             = y_true\n",
        "df['Predição Modelo']  = y_pred\n",
        "\n",
        "# ─── Etapa 1: Cálculo da previsão histórica ─────────────────────────────────\n",
        "df = df.sort_values(['Municipio', 'Ano']).reset_index(drop=True)\n",
        "df['Predição Média 2 anos'] = (\n",
        "    df\n",
        "    .groupby('Municipio')['Real']\n",
        "    .apply(calc_prev_2yr)\n",
        "    .values\n",
        ")\n",
        "\n",
        "# ─── Etapa 2: Cálculo dos erros percentuais ─────────────────────────────────\n",
        "df['Diferença Modelo (%)']       = calc_pct_error(df['Predição Modelo'], df['Real'])\n",
        "df['Diferença Média 2 anos (%)'] = calc_pct_error(df['Predição Média 2 anos'], df['Real'])\n",
        "\n",
        "# ─── Etapa 3: Médias de erro percentual por município ───────────────────────\n",
        "media_pct_mun_modelo = mean_pct_error_by_mun(df, 'Diferença Modelo (%)') \\\n",
        "                            .rename('Média Percentual Município (%)')\n",
        "media_pct_mun_media2 = mean_pct_error_by_mun(df, 'Diferença Média 2 anos (%)') \\\n",
        "                            .rename('Média 2 anos Município (%)')\n",
        "\n",
        "# ─── Etapa 4: Média global de erro percentual do modelo ────────────────────\n",
        "media_global_modelo = media_pct_mun_modelo.mean()\n",
        "\n",
        "# ─── Etapa 4.1: Média global de erro percentual da média 2 anos ────────────\n",
        "media_global_media2 = media_pct_mun_media2.mean()\n",
        "\n",
        "# ─── Etapa 5: Consolidar métricas no DataFrame final ────────────────────────\n",
        "df = (\n",
        "    df\n",
        "    .merge(media_pct_mun_modelo, on='Municipio', how='left')\n",
        "    .merge(media_pct_mun_media2,  on='Municipio', how='left')\n",
        "    .assign(\n",
        "        **{\n",
        "            'Média Global Modelo (%)': media_global_modelo,\n",
        "            'Média Global Média 2 anos (%)': media_global_media2\n",
        "        }\n",
        "    )\n",
        ")\n",
        "\n",
        "# ─── Etapa 6: Reordenar colunas para exportação ──────────────────────────────\n",
        "df_final = df[[\n",
        "    'Municipio',\n",
        "    'Mesorregião',\n",
        "    'Ano',\n",
        "    'Real',\n",
        "    'Predição Modelo',\n",
        "    'Diferença Modelo (%)',\n",
        "    'Predição Média 2 anos',\n",
        "    'Diferença Média 2 anos (%)',\n",
        "    'Média Percentual Município (%)',\n",
        "    'Média 2 anos Município (%)',\n",
        "    'Média Global Modelo (%)',\n",
        "    'Média Global Média 2 anos (%)'\n",
        "]]\n",
        "\n",
        "# ─── Etapa 6.1: Arredondar valores numéricos ─────────────────────────────────\n",
        "# 'Real' com 6 casas decimais\n",
        "#   Predições com 4 casas decimais\n",
        "#   Erros e médias percentuais com 2 casas decimais\n",
        "df_final = df_final.assign(\n",
        "    **{\n",
        "        'Real': df_final['Real'].round(6),\n",
        "        'Predição Modelo': df_final['Predição Modelo'].round(4),\n",
        "        'Predição Média 2 anos': df_final['Predição Média 2 anos'].round(4),\n",
        "        'Diferença Modelo (%)': df_final['Diferença Modelo (%)'].round(2),\n",
        "        'Diferença Média 2 anos (%)': df_final['Diferença Média 2 anos (%)'].round(2),\n",
        "        'Média Percentual Município (%)': df_final['Média Percentual Município (%)'].round(2),\n",
        "        'Média 2 anos Município (%)': df_final['Média 2 anos Município (%)'].round(2),\n",
        "        'Média Global Modelo (%)': df_final['Média Global Modelo (%)'].round(2),\n",
        "        'Média Global Média 2 anos (%)': df_final['Média Global Média 2 anos (%)'].round(2),\n",
        "    }\n",
        ")\n",
        "\n",
        "# ─── Etapa 7: Exportar para .xlsx (recomendado) ─────────────────────────────\n",
        "df_final.to_excel('resultados_por_municipio.xlsx', index=False, sheet_name='Resumo')\n",
        "print(\"Arquivo 'resultados_por_municipio.xlsx' salvo com sucesso!\")"
      ],
      "metadata": {
        "id": "xyDkL9Y6iiw3"
      },
      "execution_count": null,
      "outputs": []
    },
    {
      "cell_type": "code",
      "source": [
        "df_final.head(15)"
      ],
      "metadata": {
        "id": "vgR2J67BAP5B"
      },
      "execution_count": null,
      "outputs": []
    },
    {
      "cell_type": "markdown",
      "source": [
        "#14. Se for usar Grid Search\n"
      ],
      "metadata": {
        "id": "fhhsRPwHSU9z"
      }
    },
    {
      "cell_type": "code",
      "source": [
        "grid_pipeline = make_model(use_grid_search=True)\n",
        "grid_pipeline.fit(X_train, y_train)\n",
        "print(\"Melhores parâmetros:\", grid_pipeline.best_params_)"
      ],
      "metadata": {
        "id": "ZfgHl8CbSZoB"
      },
      "execution_count": null,
      "outputs": []
    },
    {
      "cell_type": "code",
      "source": [
        "grid_pipeline = make_model(use_grid_search=False)\n",
        "grid_pipeline.fit(X_train, y_train)"
      ],
      "metadata": {
        "id": "vcNtK7KfzCys"
      },
      "execution_count": null,
      "outputs": []
    },
    {
      "cell_type": "code",
      "source": [
        "y_pred_log = pipeline.predict(X_test)\n",
        "# inverter log1p: exp(y) - 1\n",
        "y_pred = np.expm1(y_pred_log)\n",
        "y_true = np.expm1(y_test)\n",
        "\n",
        "\n",
        "# Cálculo de métricas\n",
        "r2  = r2_score(y_true, y_pred)\n",
        "rmse = np.sqrt(mean_squared_error(y_true, y_pred))\n",
        "\n",
        "# Estatísticas da produção real (mil toneladas)\n",
        "mean_true = np.mean(y_true)\n",
        "std_true  = np.std(y_true, ddof=0)  # ddof=0 para população\n",
        "\n",
        "# Índices de interpretação\n",
        "# 1) RMSE / Desvio-padrão\n",
        "rmse_std_ratio = rmse / std_true\n",
        "\n",
        "# 2) RMSE / Média (erro médio relativo)\n",
        "rmse_mean_ratio = rmse / mean_true\n",
        "\n",
        "# Impressão dos resultados\n",
        "print(f'R² no teste:             {r2:.3f}')\n",
        "print(f'RMSE no teste:           {rmse:.3f} mil toneladas')\n",
        "print(f'Média da produção real:  {mean_true:.3f} mil toneladas')\n",
        "print(f'Desvio‑padrão real:      {std_true:.3f} mil toneladas\\n')\n",
        "\n",
        "print('=== Interpretação ===')\n",
        "print(f'- RMSE ≈ {rmse_std_ratio:.2f} × desvio‑padrão dos dados')\n",
        "print(f'  (se <1, erros menores que a variação típica)')\n",
        "print(f'- RMSE ≈ {rmse_mean_ratio:.2%} da média dos dados')\n",
        "print(f'  (percentual médio de erro em relação à média)')\n",
        "print(f'\\n\\nResultado do artigo: R² de 0.822 e RMSE (mil ton) 0.177')"
      ],
      "metadata": {
        "id": "5KTg__h8zaYn"
      },
      "execution_count": null,
      "outputs": []
    },
    {
      "cell_type": "markdown",
      "source": [
        "# outros"
      ],
      "metadata": {
        "id": "bPB_dTIhRUfk"
      }
    },
    {
      "cell_type": "code",
      "source": [
        "import os\n",
        "import shutil\n",
        "import numpy as np\n",
        "import plotly.graph_objects as go\n",
        "\n",
        "def plot_real_vs_pred_fig(df_f, mesorregiao, municipio):\n",
        "    df_f = df_f.sort_values('Ano').copy()\n",
        "    # Diferença percentual\n",
        "    df_f['Dif_pct'] = np.where(\n",
        "        df_f['Real'] != 0,\n",
        "        ((df_f['Previsto'] - df_f['Real']) / df_f['Real'] * 100).round(2),\n",
        "        np.nan\n",
        "    )\n",
        "    # Média móvel dos 2 anos anteriores\n",
        "    df_f['Prev_2yr_mean'] = (\n",
        "        df_f.set_index('Ano')['Real']\n",
        "          .rolling(window=3, min_periods=3)\n",
        "          .apply(lambda x: x.iloc[:-1].mean(), raw=False)\n",
        "          .values\n",
        "    )\n",
        "\n",
        "    fig = go.Figure()\n",
        "    fig.add_trace(go.Scatter(x=df_f['Ano'], y=df_f['Real'],\n",
        "                             mode='lines+markers', name='Real',\n",
        "                             line=dict(color='green')))\n",
        "    fig.add_trace(go.Scatter(x=df_f['Ano'], y=df_f['Previsto'],\n",
        "                             mode='lines+markers', name='Previsto (Modelo)',\n",
        "                             line=dict(color='red')))\n",
        "    fig.add_trace(go.Scatter(x=df_f['Ano'], y=df_f['Dif_pct'],\n",
        "                             mode='lines+markers', name='% Diferença',\n",
        "                             line=dict(color='blue', dash='dash')))\n",
        "    df_mm = df_f[df_f['Prev_2yr_mean'].notna()]\n",
        "    fig.add_trace(go.Scatter(x=df_mm['Ano'], y=df_mm['Prev_2yr_mean'],\n",
        "                             mode='lines+markers', name='Previsto (Média 2 anos)',\n",
        "                             line=dict(color='orange', dash='dot')))\n",
        "\n",
        "    anos = sorted(df_f['Ano'].unique())\n",
        "    fig.update_layout(\n",
        "        title=f'Produção Real vs Prevista — {municipio} ({mesorregiao})',\n",
        "        xaxis=dict(title='Ano',\n",
        "                   tickmode='array',\n",
        "                   tickvals=anos,\n",
        "                   ticktext=[str(a) for a in anos]),\n",
        "        yaxis_title='Quantidade Produzida / % Diferença',\n",
        "        width=1500, height=600,\n",
        "        template='plotly_white'\n",
        "    )\n",
        "    return fig\n",
        "\n",
        "def generate_and_zip_graphs(X_test, y_true, y_pred,\n",
        "                            base_path='graficos', zip_name='graficos_zip'):\n",
        "    os.makedirs(base_path, exist_ok=True)\n",
        "    # Agora iteramos sobre os valores únicos de “Mesorregião”\n",
        "    meso_vals = np.sort(X_test['Mesorregião'].unique())\n",
        "\n",
        "    for meso in meso_vals:\n",
        "        meso_dir = os.path.join(base_path, meso)\n",
        "        os.makedirs(meso_dir, exist_ok=True)\n",
        "\n",
        "        mask_meso = X_test['Mesorregião'] == meso\n",
        "        municipios = np.sort(X_test.loc[mask_meso, 'Municipio'].unique())\n",
        "\n",
        "        for mun in municipios:\n",
        "            mask = mask_meso & (X_test['Municipio'] == mun)\n",
        "            df_f = X_test.loc[mask, ['Ano']].copy()\n",
        "            df_f['Real']     = y_true[mask]\n",
        "            df_f['Previsto'] = y_pred[mask]\n",
        "\n",
        "            fig = plot_real_vs_pred_fig(df_f, meso, mun)\n",
        "\n",
        "            filename = f\"{mun.replace('/', '_').replace(' ', '_')}.html\"\n",
        "            filepath = os.path.join(meso_dir, filename)\n",
        "            fig.write_html(filepath, include_plotlyjs='cdn')\n",
        "\n",
        "    zip_path = shutil.make_archive(zip_name, 'zip', base_path)\n",
        "    print(f\"\\n👉 Arquivo ZIP criado em: {os.path.abspath(zip_path)}\")\n",
        "\n",
        "\n",
        "generate_and_zip_graphs(X_test, y_true, y_pred,\n",
        "                         base_path='graficos_municipios',\n",
        "                         zip_name='graficos_municipios')"
      ],
      "metadata": {
        "id": "Pc7WVuDORVes"
      },
      "execution_count": null,
      "outputs": []
    }
  ]
}